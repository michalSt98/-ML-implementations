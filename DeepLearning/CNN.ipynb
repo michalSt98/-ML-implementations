{
  "nbformat": 4,
  "nbformat_minor": 0,
  "metadata": {
    "accelerator": "GPU",
    "colab": {
      "name": "CNN.ipynb",
      "provenance": [],
      "collapsed_sections": [],
      "toc_visible": true,
      "machine_shape": "hm"
    },
    "kernelspec": {
      "display_name": "Python 3",
      "name": "python3"
    },
    "language_info": {
      "name": "python"
    },
    "widgets": {
      "application/vnd.jupyter.widget-state+json": {
        "cfda2b5c23404f8887be933501586bf7": {
          "model_module": "@jupyter-widgets/controls",
          "model_name": "HBoxModel",
          "state": {
            "_view_name": "HBoxView",
            "_dom_classes": [],
            "_model_name": "HBoxModel",
            "_view_module": "@jupyter-widgets/controls",
            "_model_module_version": "1.5.0",
            "_view_count": null,
            "_view_module_version": "1.5.0",
            "box_style": "",
            "layout": "IPY_MODEL_dd769a8dbbd643258caa016ad68cb374",
            "_model_module": "@jupyter-widgets/controls",
            "children": [
              "IPY_MODEL_9acc5d12338a46b1a9dfc25969d98080",
              "IPY_MODEL_39aff5c5ac3c401393f467884e619632"
            ]
          }
        },
        "dd769a8dbbd643258caa016ad68cb374": {
          "model_module": "@jupyter-widgets/base",
          "model_name": "LayoutModel",
          "state": {
            "_view_name": "LayoutView",
            "grid_template_rows": null,
            "right": null,
            "justify_content": null,
            "_view_module": "@jupyter-widgets/base",
            "overflow": null,
            "_model_module_version": "1.2.0",
            "_view_count": null,
            "flex_flow": null,
            "width": null,
            "min_width": null,
            "border": null,
            "align_items": null,
            "bottom": null,
            "_model_module": "@jupyter-widgets/base",
            "top": null,
            "grid_column": null,
            "overflow_y": null,
            "overflow_x": null,
            "grid_auto_flow": null,
            "grid_area": null,
            "grid_template_columns": null,
            "flex": null,
            "_model_name": "LayoutModel",
            "justify_items": null,
            "grid_row": null,
            "max_height": null,
            "align_content": null,
            "visibility": null,
            "align_self": null,
            "height": null,
            "min_height": null,
            "padding": null,
            "grid_auto_rows": null,
            "grid_gap": null,
            "max_width": null,
            "order": null,
            "_view_module_version": "1.2.0",
            "grid_template_areas": null,
            "object_position": null,
            "object_fit": null,
            "grid_auto_columns": null,
            "margin": null,
            "display": null,
            "left": null
          }
        },
        "9acc5d12338a46b1a9dfc25969d98080": {
          "model_module": "@jupyter-widgets/controls",
          "model_name": "FloatProgressModel",
          "state": {
            "_view_name": "ProgressView",
            "style": "IPY_MODEL_08583e48664c4ef4a25edebae28c476c",
            "_dom_classes": [],
            "description": "",
            "_model_name": "FloatProgressModel",
            "bar_style": "success",
            "max": 170498071,
            "_view_module": "@jupyter-widgets/controls",
            "_model_module_version": "1.5.0",
            "value": 170498071,
            "_view_count": null,
            "_view_module_version": "1.5.0",
            "orientation": "horizontal",
            "min": 0,
            "description_tooltip": null,
            "_model_module": "@jupyter-widgets/controls",
            "layout": "IPY_MODEL_e1f684b2a2004543926b4f3e242676be"
          }
        },
        "39aff5c5ac3c401393f467884e619632": {
          "model_module": "@jupyter-widgets/controls",
          "model_name": "HTMLModel",
          "state": {
            "_view_name": "HTMLView",
            "style": "IPY_MODEL_abb1dca50f61440e9d6a455c36de3ceb",
            "_dom_classes": [],
            "description": "",
            "_model_name": "HTMLModel",
            "placeholder": "​",
            "_view_module": "@jupyter-widgets/controls",
            "_model_module_version": "1.5.0",
            "value": " 170499072/? [00:07&lt;00:00, 22960604.93it/s]",
            "_view_count": null,
            "_view_module_version": "1.5.0",
            "description_tooltip": null,
            "_model_module": "@jupyter-widgets/controls",
            "layout": "IPY_MODEL_8883e5570c4d4d13957a6b713b0f8b85"
          }
        },
        "08583e48664c4ef4a25edebae28c476c": {
          "model_module": "@jupyter-widgets/controls",
          "model_name": "ProgressStyleModel",
          "state": {
            "_view_name": "StyleView",
            "_model_name": "ProgressStyleModel",
            "description_width": "initial",
            "_view_module": "@jupyter-widgets/base",
            "_model_module_version": "1.5.0",
            "_view_count": null,
            "_view_module_version": "1.2.0",
            "bar_color": null,
            "_model_module": "@jupyter-widgets/controls"
          }
        },
        "e1f684b2a2004543926b4f3e242676be": {
          "model_module": "@jupyter-widgets/base",
          "model_name": "LayoutModel",
          "state": {
            "_view_name": "LayoutView",
            "grid_template_rows": null,
            "right": null,
            "justify_content": null,
            "_view_module": "@jupyter-widgets/base",
            "overflow": null,
            "_model_module_version": "1.2.0",
            "_view_count": null,
            "flex_flow": null,
            "width": null,
            "min_width": null,
            "border": null,
            "align_items": null,
            "bottom": null,
            "_model_module": "@jupyter-widgets/base",
            "top": null,
            "grid_column": null,
            "overflow_y": null,
            "overflow_x": null,
            "grid_auto_flow": null,
            "grid_area": null,
            "grid_template_columns": null,
            "flex": null,
            "_model_name": "LayoutModel",
            "justify_items": null,
            "grid_row": null,
            "max_height": null,
            "align_content": null,
            "visibility": null,
            "align_self": null,
            "height": null,
            "min_height": null,
            "padding": null,
            "grid_auto_rows": null,
            "grid_gap": null,
            "max_width": null,
            "order": null,
            "_view_module_version": "1.2.0",
            "grid_template_areas": null,
            "object_position": null,
            "object_fit": null,
            "grid_auto_columns": null,
            "margin": null,
            "display": null,
            "left": null
          }
        },
        "abb1dca50f61440e9d6a455c36de3ceb": {
          "model_module": "@jupyter-widgets/controls",
          "model_name": "DescriptionStyleModel",
          "state": {
            "_view_name": "StyleView",
            "_model_name": "DescriptionStyleModel",
            "description_width": "",
            "_view_module": "@jupyter-widgets/base",
            "_model_module_version": "1.5.0",
            "_view_count": null,
            "_view_module_version": "1.2.0",
            "_model_module": "@jupyter-widgets/controls"
          }
        },
        "8883e5570c4d4d13957a6b713b0f8b85": {
          "model_module": "@jupyter-widgets/base",
          "model_name": "LayoutModel",
          "state": {
            "_view_name": "LayoutView",
            "grid_template_rows": null,
            "right": null,
            "justify_content": null,
            "_view_module": "@jupyter-widgets/base",
            "overflow": null,
            "_model_module_version": "1.2.0",
            "_view_count": null,
            "flex_flow": null,
            "width": null,
            "min_width": null,
            "border": null,
            "align_items": null,
            "bottom": null,
            "_model_module": "@jupyter-widgets/base",
            "top": null,
            "grid_column": null,
            "overflow_y": null,
            "overflow_x": null,
            "grid_auto_flow": null,
            "grid_area": null,
            "grid_template_columns": null,
            "flex": null,
            "_model_name": "LayoutModel",
            "justify_items": null,
            "grid_row": null,
            "max_height": null,
            "align_content": null,
            "visibility": null,
            "align_self": null,
            "height": null,
            "min_height": null,
            "padding": null,
            "grid_auto_rows": null,
            "grid_gap": null,
            "max_width": null,
            "order": null,
            "_view_module_version": "1.2.0",
            "grid_template_areas": null,
            "object_position": null,
            "object_fit": null,
            "grid_auto_columns": null,
            "margin": null,
            "display": null,
            "left": null
          }
        },
        "972a127d67d642b7b8a3eba95e27210b": {
          "model_module": "@jupyter-widgets/controls",
          "model_name": "HBoxModel",
          "state": {
            "_view_name": "HBoxView",
            "_dom_classes": [],
            "_model_name": "HBoxModel",
            "_view_module": "@jupyter-widgets/controls",
            "_model_module_version": "1.5.0",
            "_view_count": null,
            "_view_module_version": "1.5.0",
            "box_style": "",
            "layout": "IPY_MODEL_425edaf2de2d421891daabedbe893a62",
            "_model_module": "@jupyter-widgets/controls",
            "children": [
              "IPY_MODEL_b0560a7120d849fa8883f10951959c25",
              "IPY_MODEL_11e01cb9c9664939b4a8185d73086c77"
            ]
          }
        },
        "425edaf2de2d421891daabedbe893a62": {
          "model_module": "@jupyter-widgets/base",
          "model_name": "LayoutModel",
          "state": {
            "_view_name": "LayoutView",
            "grid_template_rows": null,
            "right": null,
            "justify_content": null,
            "_view_module": "@jupyter-widgets/base",
            "overflow": null,
            "_model_module_version": "1.2.0",
            "_view_count": null,
            "flex_flow": null,
            "width": null,
            "min_width": null,
            "border": null,
            "align_items": null,
            "bottom": null,
            "_model_module": "@jupyter-widgets/base",
            "top": null,
            "grid_column": null,
            "overflow_y": null,
            "overflow_x": null,
            "grid_auto_flow": null,
            "grid_area": null,
            "grid_template_columns": null,
            "flex": null,
            "_model_name": "LayoutModel",
            "justify_items": null,
            "grid_row": null,
            "max_height": null,
            "align_content": null,
            "visibility": null,
            "align_self": null,
            "height": null,
            "min_height": null,
            "padding": null,
            "grid_auto_rows": null,
            "grid_gap": null,
            "max_width": null,
            "order": null,
            "_view_module_version": "1.2.0",
            "grid_template_areas": null,
            "object_position": null,
            "object_fit": null,
            "grid_auto_columns": null,
            "margin": null,
            "display": null,
            "left": null
          }
        },
        "b0560a7120d849fa8883f10951959c25": {
          "model_module": "@jupyter-widgets/controls",
          "model_name": "FloatProgressModel",
          "state": {
            "_view_name": "ProgressView",
            "style": "IPY_MODEL_f5d3d1aa33394a248ec7a76d889aa23a",
            "_dom_classes": [],
            "description": "100%",
            "_model_name": "FloatProgressModel",
            "bar_style": "success",
            "max": 244418560,
            "_view_module": "@jupyter-widgets/controls",
            "_model_module_version": "1.5.0",
            "value": 244418560,
            "_view_count": null,
            "_view_module_version": "1.5.0",
            "orientation": "horizontal",
            "min": 0,
            "description_tooltip": null,
            "_model_module": "@jupyter-widgets/controls",
            "layout": "IPY_MODEL_0606a26f004b4cd4a0778a8aa09ce9d0"
          }
        },
        "11e01cb9c9664939b4a8185d73086c77": {
          "model_module": "@jupyter-widgets/controls",
          "model_name": "HTMLModel",
          "state": {
            "_view_name": "HTMLView",
            "style": "IPY_MODEL_b556b360a3c044389ab23f64a6375bb1",
            "_dom_classes": [],
            "description": "",
            "_model_name": "HTMLModel",
            "placeholder": "​",
            "_view_module": "@jupyter-widgets/controls",
            "_model_module_version": "1.5.0",
            "value": " 233M/233M [00:05&lt;00:00, 46.7MB/s]",
            "_view_count": null,
            "_view_module_version": "1.5.0",
            "description_tooltip": null,
            "_model_module": "@jupyter-widgets/controls",
            "layout": "IPY_MODEL_f7a51c2b3e1b420f830f23dac2d365ed"
          }
        },
        "f5d3d1aa33394a248ec7a76d889aa23a": {
          "model_module": "@jupyter-widgets/controls",
          "model_name": "ProgressStyleModel",
          "state": {
            "_view_name": "StyleView",
            "_model_name": "ProgressStyleModel",
            "description_width": "initial",
            "_view_module": "@jupyter-widgets/base",
            "_model_module_version": "1.5.0",
            "_view_count": null,
            "_view_module_version": "1.2.0",
            "bar_color": null,
            "_model_module": "@jupyter-widgets/controls"
          }
        },
        "0606a26f004b4cd4a0778a8aa09ce9d0": {
          "model_module": "@jupyter-widgets/base",
          "model_name": "LayoutModel",
          "state": {
            "_view_name": "LayoutView",
            "grid_template_rows": null,
            "right": null,
            "justify_content": null,
            "_view_module": "@jupyter-widgets/base",
            "overflow": null,
            "_model_module_version": "1.2.0",
            "_view_count": null,
            "flex_flow": null,
            "width": null,
            "min_width": null,
            "border": null,
            "align_items": null,
            "bottom": null,
            "_model_module": "@jupyter-widgets/base",
            "top": null,
            "grid_column": null,
            "overflow_y": null,
            "overflow_x": null,
            "grid_auto_flow": null,
            "grid_area": null,
            "grid_template_columns": null,
            "flex": null,
            "_model_name": "LayoutModel",
            "justify_items": null,
            "grid_row": null,
            "max_height": null,
            "align_content": null,
            "visibility": null,
            "align_self": null,
            "height": null,
            "min_height": null,
            "padding": null,
            "grid_auto_rows": null,
            "grid_gap": null,
            "max_width": null,
            "order": null,
            "_view_module_version": "1.2.0",
            "grid_template_areas": null,
            "object_position": null,
            "object_fit": null,
            "grid_auto_columns": null,
            "margin": null,
            "display": null,
            "left": null
          }
        },
        "b556b360a3c044389ab23f64a6375bb1": {
          "model_module": "@jupyter-widgets/controls",
          "model_name": "DescriptionStyleModel",
          "state": {
            "_view_name": "StyleView",
            "_model_name": "DescriptionStyleModel",
            "description_width": "",
            "_view_module": "@jupyter-widgets/base",
            "_model_module_version": "1.5.0",
            "_view_count": null,
            "_view_module_version": "1.2.0",
            "_model_module": "@jupyter-widgets/controls"
          }
        },
        "f7a51c2b3e1b420f830f23dac2d365ed": {
          "model_module": "@jupyter-widgets/base",
          "model_name": "LayoutModel",
          "state": {
            "_view_name": "LayoutView",
            "grid_template_rows": null,
            "right": null,
            "justify_content": null,
            "_view_module": "@jupyter-widgets/base",
            "overflow": null,
            "_model_module_version": "1.2.0",
            "_view_count": null,
            "flex_flow": null,
            "width": null,
            "min_width": null,
            "border": null,
            "align_items": null,
            "bottom": null,
            "_model_module": "@jupyter-widgets/base",
            "top": null,
            "grid_column": null,
            "overflow_y": null,
            "overflow_x": null,
            "grid_auto_flow": null,
            "grid_area": null,
            "grid_template_columns": null,
            "flex": null,
            "_model_name": "LayoutModel",
            "justify_items": null,
            "grid_row": null,
            "max_height": null,
            "align_content": null,
            "visibility": null,
            "align_self": null,
            "height": null,
            "min_height": null,
            "padding": null,
            "grid_auto_rows": null,
            "grid_gap": null,
            "max_width": null,
            "order": null,
            "_view_module_version": "1.2.0",
            "grid_template_areas": null,
            "object_position": null,
            "object_fit": null,
            "grid_auto_columns": null,
            "margin": null,
            "display": null,
            "left": null
          }
        },
        "3fa39af9d89e433b81a788f959c41338": {
          "model_module": "@jupyter-widgets/controls",
          "model_name": "HBoxModel",
          "state": {
            "_dom_classes": [],
            "_model_module": "@jupyter-widgets/controls",
            "_model_module_version": "1.5.0",
            "_model_name": "HBoxModel",
            "_view_count": null,
            "_view_module": "@jupyter-widgets/controls",
            "_view_module_version": "1.5.0",
            "_view_name": "HBoxView",
            "box_style": "",
            "children": [
              "IPY_MODEL_bf33e09cec0b4a27b9ed4e25b3388a54",
              "IPY_MODEL_cd1efd5e5fa84e6cb38d8799c405fe74"
            ],
            "layout": "IPY_MODEL_705158272961496ab37796a170331d4a"
          }
        },
        "bf33e09cec0b4a27b9ed4e25b3388a54": {
          "model_module": "@jupyter-widgets/controls",
          "model_name": "FloatProgressModel",
          "state": {
            "_dom_classes": [],
            "_model_module": "@jupyter-widgets/controls",
            "_model_module_version": "1.5.0",
            "_model_name": "FloatProgressModel",
            "_view_count": null,
            "_view_module": "@jupyter-widgets/controls",
            "_view_module_version": "1.5.0",
            "_view_name": "ProgressView",
            "bar_style": "success",
            "description": "100%",
            "description_tooltip": null,
            "layout": "IPY_MODEL_05ec26029864432c917953e81da6a190",
            "max": 531503671,
            "min": 0,
            "orientation": "horizontal",
            "style": "IPY_MODEL_22c995d6702f47698cfe16b5c9dc29ce",
            "value": 531503671
          }
        },
        "cd1efd5e5fa84e6cb38d8799c405fe74": {
          "model_module": "@jupyter-widgets/controls",
          "model_name": "HTMLModel",
          "state": {
            "_dom_classes": [],
            "_model_module": "@jupyter-widgets/controls",
            "_model_module_version": "1.5.0",
            "_model_name": "HTMLModel",
            "_view_count": null,
            "_view_module": "@jupyter-widgets/controls",
            "_view_module_version": "1.5.0",
            "_view_name": "HTMLView",
            "description": "",
            "description_tooltip": null,
            "layout": "IPY_MODEL_23075f7acf9a48a1afb1527cb5f73bca",
            "placeholder": "​",
            "style": "IPY_MODEL_492a8262757040318fafd7189b2d041f",
            "value": " 507M/507M [00:03&lt;00:00, 143MB/s]"
          }
        },
        "705158272961496ab37796a170331d4a": {
          "model_module": "@jupyter-widgets/base",
          "model_name": "LayoutModel",
          "state": {
            "_model_module": "@jupyter-widgets/base",
            "_model_module_version": "1.2.0",
            "_model_name": "LayoutModel",
            "_view_count": null,
            "_view_module": "@jupyter-widgets/base",
            "_view_module_version": "1.2.0",
            "_view_name": "LayoutView",
            "align_content": null,
            "align_items": null,
            "align_self": null,
            "border": null,
            "bottom": null,
            "display": null,
            "flex": null,
            "flex_flow": null,
            "grid_area": null,
            "grid_auto_columns": null,
            "grid_auto_flow": null,
            "grid_auto_rows": null,
            "grid_column": null,
            "grid_gap": null,
            "grid_row": null,
            "grid_template_areas": null,
            "grid_template_columns": null,
            "grid_template_rows": null,
            "height": null,
            "justify_content": null,
            "justify_items": null,
            "left": null,
            "margin": null,
            "max_height": null,
            "max_width": null,
            "min_height": null,
            "min_width": null,
            "object_fit": null,
            "object_position": null,
            "order": null,
            "overflow": null,
            "overflow_x": null,
            "overflow_y": null,
            "padding": null,
            "right": null,
            "top": null,
            "visibility": null,
            "width": null
          }
        },
        "05ec26029864432c917953e81da6a190": {
          "model_module": "@jupyter-widgets/base",
          "model_name": "LayoutModel",
          "state": {
            "_model_module": "@jupyter-widgets/base",
            "_model_module_version": "1.2.0",
            "_model_name": "LayoutModel",
            "_view_count": null,
            "_view_module": "@jupyter-widgets/base",
            "_view_module_version": "1.2.0",
            "_view_name": "LayoutView",
            "align_content": null,
            "align_items": null,
            "align_self": null,
            "border": null,
            "bottom": null,
            "display": null,
            "flex": null,
            "flex_flow": null,
            "grid_area": null,
            "grid_auto_columns": null,
            "grid_auto_flow": null,
            "grid_auto_rows": null,
            "grid_column": null,
            "grid_gap": null,
            "grid_row": null,
            "grid_template_areas": null,
            "grid_template_columns": null,
            "grid_template_rows": null,
            "height": null,
            "justify_content": null,
            "justify_items": null,
            "left": null,
            "margin": null,
            "max_height": null,
            "max_width": null,
            "min_height": null,
            "min_width": null,
            "object_fit": null,
            "object_position": null,
            "order": null,
            "overflow": null,
            "overflow_x": null,
            "overflow_y": null,
            "padding": null,
            "right": null,
            "top": null,
            "visibility": null,
            "width": null
          }
        },
        "22c995d6702f47698cfe16b5c9dc29ce": {
          "model_module": "@jupyter-widgets/controls",
          "model_name": "ProgressStyleModel",
          "state": {
            "_model_module": "@jupyter-widgets/controls",
            "_model_module_version": "1.5.0",
            "_model_name": "ProgressStyleModel",
            "_view_count": null,
            "_view_module": "@jupyter-widgets/base",
            "_view_module_version": "1.2.0",
            "_view_name": "StyleView",
            "bar_color": null,
            "description_width": "initial"
          }
        },
        "23075f7acf9a48a1afb1527cb5f73bca": {
          "model_module": "@jupyter-widgets/base",
          "model_name": "LayoutModel",
          "state": {
            "_model_module": "@jupyter-widgets/base",
            "_model_module_version": "1.2.0",
            "_model_name": "LayoutModel",
            "_view_count": null,
            "_view_module": "@jupyter-widgets/base",
            "_view_module_version": "1.2.0",
            "_view_name": "LayoutView",
            "align_content": null,
            "align_items": null,
            "align_self": null,
            "border": null,
            "bottom": null,
            "display": null,
            "flex": null,
            "flex_flow": null,
            "grid_area": null,
            "grid_auto_columns": null,
            "grid_auto_flow": null,
            "grid_auto_rows": null,
            "grid_column": null,
            "grid_gap": null,
            "grid_row": null,
            "grid_template_areas": null,
            "grid_template_columns": null,
            "grid_template_rows": null,
            "height": null,
            "justify_content": null,
            "justify_items": null,
            "left": null,
            "margin": null,
            "max_height": null,
            "max_width": null,
            "min_height": null,
            "min_width": null,
            "object_fit": null,
            "object_position": null,
            "order": null,
            "overflow": null,
            "overflow_x": null,
            "overflow_y": null,
            "padding": null,
            "right": null,
            "top": null,
            "visibility": null,
            "width": null
          }
        },
        "492a8262757040318fafd7189b2d041f": {
          "model_module": "@jupyter-widgets/controls",
          "model_name": "DescriptionStyleModel",
          "state": {
            "_model_module": "@jupyter-widgets/controls",
            "_model_module_version": "1.5.0",
            "_model_name": "DescriptionStyleModel",
            "_view_count": null,
            "_view_module": "@jupyter-widgets/base",
            "_view_module_version": "1.2.0",
            "_view_name": "StyleView",
            "description_width": ""
          }
        },
        "9d47c69ad1f04198af67245a6ca307cd": {
          "model_module": "@jupyter-widgets/controls",
          "model_name": "HBoxModel",
          "state": {
            "_dom_classes": [],
            "_model_module": "@jupyter-widgets/controls",
            "_model_module_version": "1.5.0",
            "_model_name": "HBoxModel",
            "_view_count": null,
            "_view_module": "@jupyter-widgets/controls",
            "_view_module_version": "1.5.0",
            "_view_name": "HBoxView",
            "box_style": "",
            "children": [
              "IPY_MODEL_233cadfb22fb45d98e914c6660b0d391",
              "IPY_MODEL_ac6af97145fd4a868f6cb9df5ede1d15"
            ],
            "layout": "IPY_MODEL_9cfc472ad6a44d709624ea220c61bc91"
          }
        },
        "233cadfb22fb45d98e914c6660b0d391": {
          "model_module": "@jupyter-widgets/controls",
          "model_name": "FloatProgressModel",
          "state": {
            "_dom_classes": [],
            "_model_module": "@jupyter-widgets/controls",
            "_model_module_version": "1.5.0",
            "_model_name": "FloatProgressModel",
            "_view_count": null,
            "_view_module": "@jupyter-widgets/controls",
            "_view_module_version": "1.5.0",
            "_view_name": "ProgressView",
            "bar_style": "success",
            "description": "100%",
            "description_tooltip": null,
            "layout": "IPY_MODEL_a6c22a4452444f3e8ec9a2d33c0c5662",
            "max": 21388428,
            "min": 0,
            "orientation": "horizontal",
            "style": "IPY_MODEL_2e9ea9b7dbba4770a993c47768abe8c6",
            "value": 21388428
          }
        },
        "ac6af97145fd4a868f6cb9df5ede1d15": {
          "model_module": "@jupyter-widgets/controls",
          "model_name": "HTMLModel",
          "state": {
            "_dom_classes": [],
            "_model_module": "@jupyter-widgets/controls",
            "_model_module_version": "1.5.0",
            "_model_name": "HTMLModel",
            "_view_count": null,
            "_view_module": "@jupyter-widgets/controls",
            "_view_module_version": "1.5.0",
            "_view_name": "HTMLView",
            "description": "",
            "description_tooltip": null,
            "layout": "IPY_MODEL_a21b33f9ea3b432db0c8cd3d9fc358f7",
            "placeholder": "​",
            "style": "IPY_MODEL_ef51794452cb498db3b89a849fbdb0de",
            "value": " 20.4M/20.4M [00:00&lt;00:00, 25.5MB/s]"
          }
        },
        "9cfc472ad6a44d709624ea220c61bc91": {
          "model_module": "@jupyter-widgets/base",
          "model_name": "LayoutModel",
          "state": {
            "_model_module": "@jupyter-widgets/base",
            "_model_module_version": "1.2.0",
            "_model_name": "LayoutModel",
            "_view_count": null,
            "_view_module": "@jupyter-widgets/base",
            "_view_module_version": "1.2.0",
            "_view_name": "LayoutView",
            "align_content": null,
            "align_items": null,
            "align_self": null,
            "border": null,
            "bottom": null,
            "display": null,
            "flex": null,
            "flex_flow": null,
            "grid_area": null,
            "grid_auto_columns": null,
            "grid_auto_flow": null,
            "grid_auto_rows": null,
            "grid_column": null,
            "grid_gap": null,
            "grid_row": null,
            "grid_template_areas": null,
            "grid_template_columns": null,
            "grid_template_rows": null,
            "height": null,
            "justify_content": null,
            "justify_items": null,
            "left": null,
            "margin": null,
            "max_height": null,
            "max_width": null,
            "min_height": null,
            "min_width": null,
            "object_fit": null,
            "object_position": null,
            "order": null,
            "overflow": null,
            "overflow_x": null,
            "overflow_y": null,
            "padding": null,
            "right": null,
            "top": null,
            "visibility": null,
            "width": null
          }
        },
        "a6c22a4452444f3e8ec9a2d33c0c5662": {
          "model_module": "@jupyter-widgets/base",
          "model_name": "LayoutModel",
          "state": {
            "_model_module": "@jupyter-widgets/base",
            "_model_module_version": "1.2.0",
            "_model_name": "LayoutModel",
            "_view_count": null,
            "_view_module": "@jupyter-widgets/base",
            "_view_module_version": "1.2.0",
            "_view_name": "LayoutView",
            "align_content": null,
            "align_items": null,
            "align_self": null,
            "border": null,
            "bottom": null,
            "display": null,
            "flex": null,
            "flex_flow": null,
            "grid_area": null,
            "grid_auto_columns": null,
            "grid_auto_flow": null,
            "grid_auto_rows": null,
            "grid_column": null,
            "grid_gap": null,
            "grid_row": null,
            "grid_template_areas": null,
            "grid_template_columns": null,
            "grid_template_rows": null,
            "height": null,
            "justify_content": null,
            "justify_items": null,
            "left": null,
            "margin": null,
            "max_height": null,
            "max_width": null,
            "min_height": null,
            "min_width": null,
            "object_fit": null,
            "object_position": null,
            "order": null,
            "overflow": null,
            "overflow_x": null,
            "overflow_y": null,
            "padding": null,
            "right": null,
            "top": null,
            "visibility": null,
            "width": null
          }
        },
        "2e9ea9b7dbba4770a993c47768abe8c6": {
          "model_module": "@jupyter-widgets/controls",
          "model_name": "ProgressStyleModel",
          "state": {
            "_model_module": "@jupyter-widgets/controls",
            "_model_module_version": "1.5.0",
            "_model_name": "ProgressStyleModel",
            "_view_count": null,
            "_view_module": "@jupyter-widgets/base",
            "_view_module_version": "1.2.0",
            "_view_name": "StyleView",
            "bar_color": null,
            "description_width": "initial"
          }
        },
        "a21b33f9ea3b432db0c8cd3d9fc358f7": {
          "model_module": "@jupyter-widgets/base",
          "model_name": "LayoutModel",
          "state": {
            "_model_module": "@jupyter-widgets/base",
            "_model_module_version": "1.2.0",
            "_model_name": "LayoutModel",
            "_view_count": null,
            "_view_module": "@jupyter-widgets/base",
            "_view_module_version": "1.2.0",
            "_view_name": "LayoutView",
            "align_content": null,
            "align_items": null,
            "align_self": null,
            "border": null,
            "bottom": null,
            "display": null,
            "flex": null,
            "flex_flow": null,
            "grid_area": null,
            "grid_auto_columns": null,
            "grid_auto_flow": null,
            "grid_auto_rows": null,
            "grid_column": null,
            "grid_gap": null,
            "grid_row": null,
            "grid_template_areas": null,
            "grid_template_columns": null,
            "grid_template_rows": null,
            "height": null,
            "justify_content": null,
            "justify_items": null,
            "left": null,
            "margin": null,
            "max_height": null,
            "max_width": null,
            "min_height": null,
            "min_width": null,
            "object_fit": null,
            "object_position": null,
            "order": null,
            "overflow": null,
            "overflow_x": null,
            "overflow_y": null,
            "padding": null,
            "right": null,
            "top": null,
            "visibility": null,
            "width": null
          }
        },
        "ef51794452cb498db3b89a849fbdb0de": {
          "model_module": "@jupyter-widgets/controls",
          "model_name": "DescriptionStyleModel",
          "state": {
            "_model_module": "@jupyter-widgets/controls",
            "_model_module_version": "1.5.0",
            "_model_name": "DescriptionStyleModel",
            "_view_count": null,
            "_view_module": "@jupyter-widgets/base",
            "_view_module_version": "1.2.0",
            "_view_name": "StyleView",
            "description_width": ""
          }
        },
        "d4dfceab59364aba96371f2deae1a688": {
          "model_module": "@jupyter-widgets/controls",
          "model_name": "HBoxModel",
          "state": {
            "_dom_classes": [],
            "_model_module": "@jupyter-widgets/controls",
            "_model_module_version": "1.5.0",
            "_model_name": "HBoxModel",
            "_view_count": null,
            "_view_module": "@jupyter-widgets/controls",
            "_view_module_version": "1.5.0",
            "_view_name": "HBoxView",
            "box_style": "",
            "children": [
              "IPY_MODEL_78facbb7cd4047e88128281303c1ffb4",
              "IPY_MODEL_bf4d390d746748fda49175daed11e067"
            ],
            "layout": "IPY_MODEL_f5947e350ce341f199307e3459b0860a"
          }
        },
        "78facbb7cd4047e88128281303c1ffb4": {
          "model_module": "@jupyter-widgets/controls",
          "model_name": "FloatProgressModel",
          "state": {
            "_dom_classes": [],
            "_model_module": "@jupyter-widgets/controls",
            "_model_module_version": "1.5.0",
            "_model_name": "FloatProgressModel",
            "_view_count": null,
            "_view_module": "@jupyter-widgets/controls",
            "_view_module_version": "1.5.0",
            "_view_name": "ProgressView",
            "bar_style": "success",
            "description": "100%",
            "description_tooltip": null,
            "layout": "IPY_MODEL_fd93397846ca4629a68f96c898f7a812",
            "max": 46827520,
            "min": 0,
            "orientation": "horizontal",
            "style": "IPY_MODEL_24c723379f1144ba8c8cdbe8abfb7fe6",
            "value": 46827520
          }
        },
        "bf4d390d746748fda49175daed11e067": {
          "model_module": "@jupyter-widgets/controls",
          "model_name": "HTMLModel",
          "state": {
            "_dom_classes": [],
            "_model_module": "@jupyter-widgets/controls",
            "_model_module_version": "1.5.0",
            "_model_name": "HTMLModel",
            "_view_count": null,
            "_view_module": "@jupyter-widgets/controls",
            "_view_module_version": "1.5.0",
            "_view_name": "HTMLView",
            "description": "",
            "description_tooltip": null,
            "layout": "IPY_MODEL_330bdc8e9de4469da7f6a106af9e016a",
            "placeholder": "​",
            "style": "IPY_MODEL_664d597941ad4a239be77011633b9463",
            "value": " 44.7M/44.7M [00:05&lt;00:00, 7.87MB/s]"
          }
        },
        "f5947e350ce341f199307e3459b0860a": {
          "model_module": "@jupyter-widgets/base",
          "model_name": "LayoutModel",
          "state": {
            "_model_module": "@jupyter-widgets/base",
            "_model_module_version": "1.2.0",
            "_model_name": "LayoutModel",
            "_view_count": null,
            "_view_module": "@jupyter-widgets/base",
            "_view_module_version": "1.2.0",
            "_view_name": "LayoutView",
            "align_content": null,
            "align_items": null,
            "align_self": null,
            "border": null,
            "bottom": null,
            "display": null,
            "flex": null,
            "flex_flow": null,
            "grid_area": null,
            "grid_auto_columns": null,
            "grid_auto_flow": null,
            "grid_auto_rows": null,
            "grid_column": null,
            "grid_gap": null,
            "grid_row": null,
            "grid_template_areas": null,
            "grid_template_columns": null,
            "grid_template_rows": null,
            "height": null,
            "justify_content": null,
            "justify_items": null,
            "left": null,
            "margin": null,
            "max_height": null,
            "max_width": null,
            "min_height": null,
            "min_width": null,
            "object_fit": null,
            "object_position": null,
            "order": null,
            "overflow": null,
            "overflow_x": null,
            "overflow_y": null,
            "padding": null,
            "right": null,
            "top": null,
            "visibility": null,
            "width": null
          }
        },
        "fd93397846ca4629a68f96c898f7a812": {
          "model_module": "@jupyter-widgets/base",
          "model_name": "LayoutModel",
          "state": {
            "_model_module": "@jupyter-widgets/base",
            "_model_module_version": "1.2.0",
            "_model_name": "LayoutModel",
            "_view_count": null,
            "_view_module": "@jupyter-widgets/base",
            "_view_module_version": "1.2.0",
            "_view_name": "LayoutView",
            "align_content": null,
            "align_items": null,
            "align_self": null,
            "border": null,
            "bottom": null,
            "display": null,
            "flex": null,
            "flex_flow": null,
            "grid_area": null,
            "grid_auto_columns": null,
            "grid_auto_flow": null,
            "grid_auto_rows": null,
            "grid_column": null,
            "grid_gap": null,
            "grid_row": null,
            "grid_template_areas": null,
            "grid_template_columns": null,
            "grid_template_rows": null,
            "height": null,
            "justify_content": null,
            "justify_items": null,
            "left": null,
            "margin": null,
            "max_height": null,
            "max_width": null,
            "min_height": null,
            "min_width": null,
            "object_fit": null,
            "object_position": null,
            "order": null,
            "overflow": null,
            "overflow_x": null,
            "overflow_y": null,
            "padding": null,
            "right": null,
            "top": null,
            "visibility": null,
            "width": null
          }
        },
        "24c723379f1144ba8c8cdbe8abfb7fe6": {
          "model_module": "@jupyter-widgets/controls",
          "model_name": "ProgressStyleModel",
          "state": {
            "_model_module": "@jupyter-widgets/controls",
            "_model_module_version": "1.5.0",
            "_model_name": "ProgressStyleModel",
            "_view_count": null,
            "_view_module": "@jupyter-widgets/base",
            "_view_module_version": "1.2.0",
            "_view_name": "StyleView",
            "bar_color": null,
            "description_width": "initial"
          }
        },
        "330bdc8e9de4469da7f6a106af9e016a": {
          "model_module": "@jupyter-widgets/base",
          "model_name": "LayoutModel",
          "state": {
            "_model_module": "@jupyter-widgets/base",
            "_model_module_version": "1.2.0",
            "_model_name": "LayoutModel",
            "_view_count": null,
            "_view_module": "@jupyter-widgets/base",
            "_view_module_version": "1.2.0",
            "_view_name": "LayoutView",
            "align_content": null,
            "align_items": null,
            "align_self": null,
            "border": null,
            "bottom": null,
            "display": null,
            "flex": null,
            "flex_flow": null,
            "grid_area": null,
            "grid_auto_columns": null,
            "grid_auto_flow": null,
            "grid_auto_rows": null,
            "grid_column": null,
            "grid_gap": null,
            "grid_row": null,
            "grid_template_areas": null,
            "grid_template_columns": null,
            "grid_template_rows": null,
            "height": null,
            "justify_content": null,
            "justify_items": null,
            "left": null,
            "margin": null,
            "max_height": null,
            "max_width": null,
            "min_height": null,
            "min_width": null,
            "object_fit": null,
            "object_position": null,
            "order": null,
            "overflow": null,
            "overflow_x": null,
            "overflow_y": null,
            "padding": null,
            "right": null,
            "top": null,
            "visibility": null,
            "width": null
          }
        },
        "664d597941ad4a239be77011633b9463": {
          "model_module": "@jupyter-widgets/controls",
          "model_name": "DescriptionStyleModel",
          "state": {
            "_model_module": "@jupyter-widgets/controls",
            "_model_module_version": "1.5.0",
            "_model_name": "DescriptionStyleModel",
            "_view_count": null,
            "_view_module": "@jupyter-widgets/base",
            "_view_module_version": "1.2.0",
            "_view_name": "StyleView",
            "description_width": ""
          }
        }
      }
    }
  },
  "cells": [
    {
      "cell_type": "code",
      "metadata": {
        "colab": {
          "base_uri": "https://localhost:8080/"
        },
        "id": "b32U1-DUYcWY",
        "outputId": "050e5ebd-1c70-4d98-999c-c2a7d7eedc34"
      },
      "source": [
        "# Installing implementetion of very good net\n",
        "!pip install efficientnet_pytorch\n",
        "!pip install torchensemble\n",
        "!pip install GPUtil"
      ],
      "execution_count": null,
      "outputs": [
        {
          "output_type": "stream",
          "text": [
            "Requirement already satisfied: efficientnet_pytorch in /usr/local/lib/python3.7/dist-packages (0.7.0)\n",
            "Requirement already satisfied: torch in /usr/local/lib/python3.7/dist-packages (from efficientnet_pytorch) (1.8.1+cu101)\n",
            "Requirement already satisfied: numpy in /usr/local/lib/python3.7/dist-packages (from torch->efficientnet_pytorch) (1.19.5)\n",
            "Requirement already satisfied: typing-extensions in /usr/local/lib/python3.7/dist-packages (from torch->efficientnet_pytorch) (3.7.4.3)\n",
            "Requirement already satisfied: torchensemble in /usr/local/lib/python3.7/dist-packages (0.1.2)\n",
            "Requirement already satisfied: scikit-learn>=0.23.0 in /usr/local/lib/python3.7/dist-packages (from torchensemble) (0.24.1)\n",
            "Requirement already satisfied: torchvision>=0.2.2 in /usr/local/lib/python3.7/dist-packages (from torchensemble) (0.9.1+cu101)\n",
            "Requirement already satisfied: torch>=1.4.0 in /usr/local/lib/python3.7/dist-packages (from torchensemble) (1.8.1+cu101)\n",
            "Requirement already satisfied: scipy>=0.19.1 in /usr/local/lib/python3.7/dist-packages (from scikit-learn>=0.23.0->torchensemble) (1.4.1)\n",
            "Requirement already satisfied: numpy>=1.13.3 in /usr/local/lib/python3.7/dist-packages (from scikit-learn>=0.23.0->torchensemble) (1.19.5)\n",
            "Requirement already satisfied: joblib>=0.11 in /usr/local/lib/python3.7/dist-packages (from scikit-learn>=0.23.0->torchensemble) (1.0.1)\n",
            "Requirement already satisfied: threadpoolctl>=2.0.0 in /usr/local/lib/python3.7/dist-packages (from scikit-learn>=0.23.0->torchensemble) (2.1.0)\n",
            "Requirement already satisfied: pillow>=4.1.1 in /usr/local/lib/python3.7/dist-packages (from torchvision>=0.2.2->torchensemble) (7.1.2)\n",
            "Requirement already satisfied: typing-extensions in /usr/local/lib/python3.7/dist-packages (from torch>=1.4.0->torchensemble) (3.7.4.3)\n",
            "Requirement already satisfied: GPUtil in /usr/local/lib/python3.7/dist-packages (1.4.0)\n"
          ],
          "name": "stdout"
        }
      ]
    },
    {
      "cell_type": "code",
      "metadata": {
        "id": "4Mb5wjxfoopv"
      },
      "source": [
        "import torch\n",
        "import torchvision\n",
        "from torchvision import datasets, models, transforms, utils\n",
        "import numpy as np\n",
        "import torch.nn as nn\n",
        "import torch.nn.functional as F\n",
        "import torch.optim as optim\n",
        "import matplotlib.pyplot as plt\n",
        "import time\n",
        "import os\n",
        "import copy\n",
        "from efficientnet_pytorch import EfficientNet\n",
        "from torchensemble import VotingClassifier\n",
        "from GPUtil import showUtilization as gpu_usage\n",
        "from numba import cuda \n",
        "from google.colab import files"
      ],
      "execution_count": null,
      "outputs": []
    },
    {
      "cell_type": "markdown",
      "metadata": {
        "id": "xOB8sQDZiUQx"
      },
      "source": [
        "We have used modified code from pytorch tutorials examples: \n",
        "\n",
        "*   https://pytorch.org/tutorials/beginner/basics/intro.html?fbclid=IwAR39fLmciD387r-6dhUb9d8nSLF3Tj47mV80sJC2kT_YWbY0CjKjDDtt2rM\n",
        "*   https://pytorch.org/tutorials/beginner/finetuning_torchvision_models_tutorial.html?fbclid=IwAR2eiC3u2l9ixcuX4QMwpUhSd27--yROhs2aJbQauOI6IeNo2Wj5Xh5V8_8\n",
        "\n"
      ]
    },
    {
      "cell_type": "code",
      "metadata": {
        "colab": {
          "base_uri": "https://localhost:8080/"
        },
        "id": "YZYZ78RGtxHI",
        "outputId": "7b121926-16c2-4c4f-b771-e40135247592"
      },
      "source": [
        "# setting up gpu computing\n",
        "device = torch.device(\"cuda:0\" if torch.cuda.is_available() else \"cpu\")\n",
        "print(device)\n",
        "\n",
        "def free_gpu_cache():\n",
        "    print(\"Initial GPU Usage\")\n",
        "    gpu_usage()                             \n",
        "\n",
        "    torch.cuda.empty_cache()\n",
        "\n",
        "    cuda.select_device(0)\n",
        "    cuda.close()\n",
        "    cuda.select_device(0)\n",
        "\n",
        "    print(\"GPU Usage after emptying the cache\")\n",
        "    gpu_usage()"
      ],
      "execution_count": null,
      "outputs": [
        {
          "output_type": "stream",
          "text": [
            "cpu\n"
          ],
          "name": "stdout"
        }
      ]
    },
    {
      "cell_type": "code",
      "metadata": {
        "colab": {
          "base_uri": "https://localhost:8080/"
        },
        "id": "2nJ05dvvtdeW",
        "outputId": "122f269f-22ea-42be-b2f6-21c432874d3c"
      },
      "source": [
        "np.exp(1e5)"
      ],
      "execution_count": null,
      "outputs": [
        {
          "output_type": "stream",
          "text": [
            "/usr/local/lib/python3.7/dist-packages/ipykernel_launcher.py:1: RuntimeWarning: overflow encountered in exp\n",
            "  \"\"\"Entry point for launching an IPython kernel.\n"
          ],
          "name": "stderr"
        },
        {
          "output_type": "execute_result",
          "data": {
            "text/plain": [
              "inf"
            ]
          },
          "metadata": {
            "tags": []
          },
          "execution_count": 13
        }
      ]
    },
    {
      "cell_type": "code",
      "metadata": {
        "id": "jgdp1wMtwoxe"
      },
      "source": [
        "# decorator for time measuring\n",
        "def measuretime(func):\n",
        "    def wrapper():\n",
        "        starttime = time.perf_counter()\n",
        "        func()\n",
        "        endtime = timer.perf_counter()\n",
        "        print(f\"Time needed: {endtime - starttime} seconds\")\n",
        "        return wrapper"
      ],
      "execution_count": null,
      "outputs": []
    },
    {
      "cell_type": "markdown",
      "metadata": {
        "id": "ZEXGp5RCzjB2"
      },
      "source": [
        "# Datasets\n"
      ]
    },
    {
      "cell_type": "code",
      "metadata": {
        "colab": {
          "base_uri": "https://localhost:8080/",
          "height": 151,
          "referenced_widgets": [
            "cfda2b5c23404f8887be933501586bf7",
            "dd769a8dbbd643258caa016ad68cb374",
            "9acc5d12338a46b1a9dfc25969d98080",
            "39aff5c5ac3c401393f467884e619632",
            "08583e48664c4ef4a25edebae28c476c",
            "e1f684b2a2004543926b4f3e242676be",
            "abb1dca50f61440e9d6a455c36de3ceb",
            "8883e5570c4d4d13957a6b713b0f8b85"
          ]
        },
        "id": "jCoqcjCYqB0z",
        "outputId": "ac5e3669-4dc6-4346-ac43-eaa0f72c7975"
      },
      "source": [
        "# Settings\n",
        "num_classes = 10\n",
        "batch_size = 64\n",
        "num_epochs = 5\n",
        "\n",
        "# loading CIFAR-10 data and transforming it to tensors\n",
        "transform = transforms.Compose(\n",
        "    [transforms.ToTensor(),\n",
        "     transforms.Normalize((0.5, 0.5, 0.5), (0.5, 0.5, 0.5))])\n",
        "\n",
        "trainset = torchvision.datasets.CIFAR10(root='./data', train=True,\n",
        "                                        download=True, transform=transform)\n",
        "trainloader = torch.utils.data.DataLoader(trainset, batch_size=batch_size,\n",
        "                                          shuffle=True, num_workers=2)\n",
        "\n",
        "testset = torchvision.datasets.CIFAR10(root='./data', train=False,\n",
        "                                       download=True, transform=transform)\n",
        "testloader = torch.utils.data.DataLoader(testset, batch_size=batch_size,\n",
        "                                         shuffle=False, num_workers=2)\n",
        "\n",
        "dataloaders_dict = {'train':trainloader, 'val':testloader}\n",
        "\n",
        "classes = ('plane', 'car', 'bird', 'cat',\n",
        "           'deer', 'dog', 'frog', 'horse', 'ship', 'truck')\n",
        "\n",
        "# Checking the dataset\n",
        "for images, labels in trainloader:  \n",
        "    print('Image batch dimensions:', images.shape)\n",
        "    print('Image label dimensions:', labels.shape)\n",
        "    break"
      ],
      "execution_count": null,
      "outputs": [
        {
          "output_type": "stream",
          "text": [
            "Downloading https://www.cs.toronto.edu/~kriz/cifar-10-python.tar.gz to ./data/cifar-10-python.tar.gz\n"
          ],
          "name": "stdout"
        },
        {
          "output_type": "display_data",
          "data": {
            "application/vnd.jupyter.widget-view+json": {
              "model_id": "cfda2b5c23404f8887be933501586bf7",
              "version_minor": 0,
              "version_major": 2
            },
            "text/plain": [
              "HBox(children=(FloatProgress(value=0.0, max=170498071.0), HTML(value='')))"
            ]
          },
          "metadata": {
            "tags": []
          }
        },
        {
          "output_type": "stream",
          "text": [
            "\n",
            "Extracting ./data/cifar-10-python.tar.gz to ./data\n",
            "Files already downloaded and verified\n",
            "Image batch dimensions: torch.Size([64, 3, 32, 32])\n",
            "Image label dimensions: torch.Size([64])\n"
          ],
          "name": "stdout"
        }
      ]
    },
    {
      "cell_type": "code",
      "metadata": {
        "id": "-Gk2EUxPYwpw"
      },
      "source": [
        "from google.colab import drive\n",
        "#drive.mount('/content/drive')"
      ],
      "execution_count": null,
      "outputs": []
    },
    {
      "cell_type": "code",
      "metadata": {
        "id": "D0SKcebXa-4o"
      },
      "source": [
        "file_path = \"/content/drive/MyDrive/Projekt-DL/\""
      ],
      "execution_count": null,
      "outputs": []
    },
    {
      "cell_type": "code",
      "metadata": {
        "colab": {
          "base_uri": "https://localhost:8080/",
          "height": 286
        },
        "id": "owqFhHQoqo2V",
        "outputId": "3eee89fd-927a-4223-dcb3-10aa6b1d8114"
      },
      "source": [
        "# functions to show an image\n",
        "def imshow(img):\n",
        "    img = img / 2 + 0.5     # unnormalize\n",
        "    npimg = img.numpy()\n",
        "    plt.imshow(np.transpose(npimg, (1, 2, 0)))\n",
        "    plt.show()\n",
        "\n",
        "# functions to show and save an image\n",
        "def imshowsave(img, where):\n",
        "    img = img / 2 + 0.5     # unnormalize\n",
        "    npimg = img.numpy()\n",
        "    plt.imshow(np.transpose(npimg, (1, 2, 0)))\n",
        "    plt.savefig(where)\n",
        "    plt.show()\n",
        "\n",
        "\n",
        "# get some random training images\n",
        "dataiter = iter(trainloader)\n",
        "images, labels = dataiter.next()\n",
        "\n",
        "# show images\n",
        "imshow(torchvision.utils.make_grid(images))\n",
        "# print labels\n",
        "print(' '.join('%5s' % classes[labels[j]] for j in range(4)))"
      ],
      "execution_count": null,
      "outputs": [
        {
          "output_type": "display_data",
          "data": {
            "image/png": "[encoded data removed]",
            "text/plain": [
              "<Figure size 432x288 with 1 Axes>"
            ]
          },
          "metadata": {
            "tags": [],
            "needs_background": "light"
          }
        },
        {
          "output_type": "stream",
          "text": [
            "plane horse truck   dog\n"
          ],
          "name": "stdout"
        }
      ]
    },
    {
      "cell_type": "code",
      "metadata": {
        "id": "DBQDz3Ua0Kcp"
      },
      "source": [
        "# Helper Functions\n",
        "\n",
        "# Function for training model from scrath, fine tuning and feature extraction\n",
        "def train_model(model, criterion, optimizer, num_epochs=5,\n",
        "                num_print=2000, sched=False, batch_score=False,\n",
        "                dataloaders=dataloaders_dict):\n",
        "    since = time.time()\n",
        "\n",
        "    val_acc_history = []\n",
        "    train_acc_history = []\n",
        "    stopping_rule_satisfied = 0\n",
        "\n",
        "    best_model_wts = copy.deepcopy(model.state_dict())\n",
        "    best_acc = 0.0\n",
        "    # Scheduler for optimizing learning rate\n",
        "    if sched:\n",
        "        scheduler = torch.optim.lr_scheduler.CosineAnnealingLR(optimizer,\n",
        "                                                           T_max=num_epochs)\n",
        "\n",
        "    for epoch in range(num_epochs):\n",
        "        print('Epoch {}/{}'.format(epoch+1, num_epochs))\n",
        "        print('-' * 10)\n",
        "\n",
        "        # Each epoch has a training and validation phase\n",
        "        for phase in ['train', 'val']:\n",
        "            if phase == 'train':\n",
        "                model.train()  # Set model to training mode\n",
        "            else:\n",
        "                model.eval()   # Set model to evaluate mode\n",
        "\n",
        "            running_loss = 0.0\n",
        "            running_corrects = 0\n",
        "\n",
        "            # Iterate over data\n",
        "            for i, data in enumerate(dataloaders[phase], 1):\n",
        "                inputs, labels = data\n",
        "                inputs = inputs.to(device)\n",
        "                labels = labels.to(device)\n",
        "\n",
        "\n",
        "                # zero the parameter gradients\n",
        "                optimizer.zero_grad()\n",
        "\n",
        "                # forward\n",
        "                # track history if only in train\n",
        "                with torch.set_grad_enabled(phase == 'train'):\n",
        "                    \n",
        "                    \n",
        "                    outputs = model(inputs)\n",
        "                    loss = criterion(outputs, labels)\n",
        "\n",
        "                    _, preds = torch.max(outputs, 1)\n",
        "\n",
        "                    # backward + optimize only if in training phase\n",
        "                    if phase == 'train':\n",
        "                        loss.backward()\n",
        "                        optimizer.step()\n",
        "                        if i % 1000 == 0 and sched:\n",
        "                            scheduler.step()\n",
        "\n",
        "                # statistics\n",
        "                running_loss += loss.item() * inputs.size(0)\n",
        "                running_corrects += torch.sum(preds == labels.data)\n",
        "\n",
        "                # print loss each batch\n",
        "                if i % num_print == 0 and phase == 'train' and batch_score:\n",
        "                    print('[%d, %5d] train loss: %.3f' %\n",
        "                        (epoch + 1, i, running_loss / (i*inputs.size(0))))\n",
        "\n",
        "            # print loss and acc each epoch\n",
        "            epoch_loss = running_loss / len(dataloaders[phase].dataset)\n",
        "            epoch_acc = running_corrects.double() \\\n",
        "             / len(dataloaders[phase].dataset)\n",
        "            print()\n",
        "            print('{} Loss: {:.4f} Acc: {:.4f}'.format(phase, epoch_loss,\n",
        "                                                       epoch_acc))\n",
        "\n",
        "            # deep copy the model\n",
        "            if phase == 'val' and epoch_acc > best_acc:\n",
        "                best_acc = epoch_acc\n",
        "                best_model_wts = copy.deepcopy(model.state_dict())\n",
        "            if phase == 'val':\n",
        "                val_acc_history.append(epoch_acc)\n",
        "            elif phase == 'train':\n",
        "                train_acc_history.append(epoch_acc)\n",
        "\n",
        "            # early stopping \n",
        "            if phase == 'val' and len(val_acc_history) > 2 and  epoch_acc < val_acc_history[-2] and  epoch_acc < val_acc_history[-3]:\n",
        "              print(\"mam cie\")\n",
        "              stopping_rule_satisfied = 1\n",
        "            \n",
        "               \n",
        "        if stopping_rule_satisfied == 1:\n",
        "          print(\"The early stopping condition has beed satisfied.\")\n",
        "          break\n",
        "\n",
        "        print()\n",
        "\n",
        "    time_elapsed = time.time() - since\n",
        "    print('Training complete in {:.0f}m {:.0f}s'.format(time_elapsed //\n",
        "                                                        60, time_elapsed % 60))\n",
        "    print('Best val Acc: {:4f}'.format(best_acc))\n",
        "\n",
        "    # load best model weights\n",
        "    model.load_state_dict(best_model_wts)\n",
        "    return model, val_acc_history, train_acc_history\n",
        "\n",
        "\n",
        "\n",
        "\n",
        "\n",
        "\n",
        "\n",
        "# freezing layers that we do not want to fit\n",
        "def set_parameter_requires_grad(model, feature_extracting):\n",
        "    if feature_extracting:\n",
        "        for param in model.parameters():\n",
        "            param.requires_grad = False\n",
        "\n",
        "\n",
        "# model initialization for different pretrained networks\n",
        "def initialize_model(model_name, num_classes, feature_extract,\n",
        "                     use_pretrained=True):\n",
        "    \n",
        "    model_ft = None\n",
        "    # input_size = 224 for all nets\n",
        "    if model_name == \"resnet\":\n",
        "        \n",
        "        model_ft = models.resnet18(pretrained=use_pretrained)\n",
        "        set_parameter_requires_grad(model_ft, feature_extract)\n",
        "        num_ftrs = model_ft.fc.in_features\n",
        "        model_ft.fc = nn.Linear(num_ftrs, num_classes)\n",
        "        \n",
        "\n",
        "    elif model_name == \"alexnet\":\n",
        "        \n",
        "        model_ft = models.alexnet(pretrained=use_pretrained)\n",
        "        set_parameter_requires_grad(model_ft, feature_extract)\n",
        "        num_ftrs = model_ft.classifier[6].in_features\n",
        "        model_ft.classifier[6] = nn.Linear(num_ftrs,num_classes)\n",
        "        \n",
        "\n",
        "    elif model_name == \"vgg\":\n",
        "        \n",
        "        model_ft = models.vgg11_bn(pretrained=use_pretrained)\n",
        "        set_parameter_requires_grad(model_ft, feature_extract)\n",
        "        num_ftrs = model_ft.classifier[6].in_features\n",
        "        model_ft.classifier[6] = nn.Linear(num_ftrs,num_classes)\n",
        "        \n",
        "\n",
        "    elif model_name == \"squeezenet\":\n",
        "        \n",
        "        model_ft = models.squeezenet1_0(pretrained=use_pretrained)\n",
        "        set_parameter_requires_grad(model_ft, feature_extract)\n",
        "        model_ft.classifier[1] = nn.Conv2d(512, num_classes, kernel_size=(1,1), stride=(1,1))\n",
        "        model_ft.num_classes = num_classes\n",
        "        \n",
        "\n",
        "    elif model_name == \"densenet\":\n",
        "        \n",
        "        model_ft = models.densenet121(pretrained=use_pretrained)\n",
        "        set_parameter_requires_grad(model_ft, feature_extract)\n",
        "        num_ftrs = model_ft.classifier.in_features\n",
        "        model_ft.classifier = nn.Linear(num_ftrs, num_classes)\n",
        "\n",
        "    elif model_name == \"efficientnet\":\n",
        "\n",
        "        model_ft = EfficientNet.from_pretrained('efficientnet-b0')\n",
        "        set_parameter_requires_grad(model_ft, feature_extract)\n",
        "        feature = model_ft._fc.in_features\n",
        "        model_ft._fc = nn.Linear(feature, num_classes)\n",
        "\n",
        "        \n",
        "\n",
        "    else:\n",
        "        print(\"Invalid model name, exiting...\")\n",
        "        exit()\n",
        "\n",
        "    return model_ft\n",
        "\n",
        "\n",
        "# create optimizer excluding frozen layers\n",
        "def create_optimizer(model_ft, feature_extract, lr=0.001, momentum=0.9,\n",
        "                     weight_decay=5e-4):\n",
        "  params_to_update = model_ft.parameters()\n",
        "  print(\"Params to learn:\")\n",
        "  if feature_extract:\n",
        "      params_to_update = []\n",
        "      for name,param in model_ft.named_parameters():\n",
        "          if param.requires_grad == True:\n",
        "              params_to_update.append(param)\n",
        "              #print(\"\\t\",name)\n",
        " # else:\n",
        "      #for name,param in model_ft.named_parameters():\n",
        "          #if param.requires_grad == True:\n",
        "              #print(\"\\t\",name)\n",
        "\n",
        "  \n",
        "  optimizer_ft = optim.SGD(params_to_update, lr=lr, momentum=momentum,\n",
        "                           weight_decay=weight_decay)\n",
        "  return optimizer_ft\n",
        "\n",
        "\n",
        "\n",
        "# tensor viusalisation\n",
        "def visTensor(tensor, ch=0, allkernels=False, nrow=8, padding=1): \n",
        "        n,c,w,h = tensor.shape\n",
        "\n",
        "        if allkernels: tensor = tensor.view(n*c, -1, w, h)\n",
        "        elif c != 3: tensor = tensor[:,ch,:,:].unsqueeze(dim=1)\n",
        "\n",
        "        rows = np.min((tensor.shape[0] // nrow + 1, 64))    \n",
        "        grid = utils.make_grid(tensor, nrow=nrow, normalize=True,\n",
        "                               padding=padding)\n",
        "        plt.figure( figsize=(nrow,rows) )\n",
        "        plt.imshow(grid.numpy().transpose((1, 2, 0)))"
      ],
      "execution_count": null,
      "outputs": []
    },
    {
      "cell_type": "markdown",
      "metadata": {
        "id": "3nG8GdWmzw9Z"
      },
      "source": [
        "# Simple Network"
      ]
    },
    {
      "cell_type": "code",
      "metadata": {
        "id": "L66Q_uf8qUdN"
      },
      "source": [
        ""
      ],
      "execution_count": null,
      "outputs": []
    },
    {
      "cell_type": "code",
      "metadata": {
        "id": "VZJXjHLxrUQO"
      },
      "source": [
        "# Deffining our simple network and its architecure \n",
        "class Net(nn.Module):\n",
        "    def __init__(self):\n",
        "        super(Net, self).__init__()\n",
        "        self.conv1 = nn.Conv2d(3, 10, 5)\n",
        "        self.pool = nn.MaxPool2d(2, 2)\n",
        "        self.conv2 = nn.Conv2d(10, 20, 5)\n",
        "        self.fc1 = nn.Linear(20 * 5 * 5, 100)\n",
        "        self.fc2 = nn.Linear(100, 84)\n",
        "        self.fc3 = nn.Linear(84, 10)\n",
        "\n",
        "    def forward(self, x):\n",
        "        x = self.pool(F.relu(self.conv1(x)))\n",
        "        x = self.pool(F.relu(self.conv2(x)))\n",
        "        x = x.view(-1, 20 * 5 * 5)\n",
        "        x = F.relu(self.fc1(x))\n",
        "        x = F.relu(self.fc2(x))\n",
        "        x = self.fc3(x)\n",
        "        return x\n",
        "\n",
        "\n",
        "net = Net()\n",
        "# setting our network to use gpu\n",
        "net = net.to(device)\n",
        "criterion = nn.CrossEntropyLoss()\n",
        "optimizer = optim.SGD(net.parameters(), lr=0.001, momentum=0.9,\n",
        "                      weight_decay=5e-4)\n",
        "model_name = \"simple\""
      ],
      "execution_count": null,
      "outputs": []
    },
    {
      "cell_type": "code",
      "metadata": {
        "colab": {
          "base_uri": "https://localhost:8080/"
        },
        "id": "ZEEkjIm-8CBB",
        "outputId": "45b429c6-55c4-4d74-cb92-f60340ee57e2"
      },
      "source": [
        "model_simple, val_hist_simple, train_hist_simple = train_model(net, criterion, optimizer, num_epochs= 50,\n",
        "                                          dataloaders=dataloaders_dict)"
      ],
      "execution_count": null,
      "outputs": [
        {
          "output_type": "stream",
          "text": [
            "Epoch 1/50\n",
            "----------\n",
            "\n",
            "train Loss: 2.2971 Acc: 0.1360\n",
            "\n",
            "val Loss: 2.2798 Acc: 0.1937\n",
            "\n",
            "Epoch 2/50\n",
            "----------\n",
            "\n",
            "train Loss: 2.1035 Acc: 0.2494\n",
            "\n",
            "val Loss: 1.9134 Acc: 0.3041\n",
            "\n",
            "Epoch 3/50\n",
            "----------\n",
            "\n",
            "train Loss: 1.8257 Acc: 0.3375\n",
            "\n",
            "val Loss: 1.7258 Acc: 0.3757\n",
            "\n",
            "Epoch 4/50\n",
            "----------\n",
            "\n",
            "train Loss: 1.6562 Acc: 0.4000\n",
            "\n",
            "val Loss: 1.5923 Acc: 0.4221\n",
            "\n",
            "Epoch 5/50\n",
            "----------\n",
            "\n",
            "train Loss: 1.5522 Acc: 0.4346\n",
            "\n",
            "val Loss: 1.5104 Acc: 0.4517\n",
            "\n",
            "Epoch 6/50\n",
            "----------\n",
            "\n",
            "train Loss: 1.4732 Acc: 0.4625\n",
            "\n",
            "val Loss: 1.4284 Acc: 0.4858\n",
            "\n",
            "Epoch 7/50\n",
            "----------\n",
            "\n",
            "train Loss: 1.4103 Acc: 0.4893\n",
            "\n",
            "val Loss: 1.3749 Acc: 0.5026\n",
            "\n",
            "Epoch 8/50\n",
            "----------\n",
            "\n",
            "train Loss: 1.3564 Acc: 0.5108\n",
            "\n",
            "val Loss: 1.3384 Acc: 0.5204\n",
            "\n",
            "Epoch 9/50\n",
            "----------\n",
            "\n",
            "train Loss: 1.3137 Acc: 0.5297\n",
            "\n",
            "val Loss: 1.2966 Acc: 0.5395\n",
            "\n",
            "Epoch 10/50\n",
            "----------\n",
            "\n",
            "train Loss: 1.2663 Acc: 0.5470\n",
            "\n",
            "val Loss: 1.2613 Acc: 0.5482\n",
            "\n",
            "Epoch 11/50\n",
            "----------\n",
            "\n",
            "train Loss: 1.2216 Acc: 0.5650\n",
            "\n",
            "val Loss: 1.2121 Acc: 0.5708\n",
            "\n",
            "Epoch 12/50\n",
            "----------\n",
            "\n",
            "train Loss: 1.1799 Acc: 0.5800\n",
            "\n",
            "val Loss: 1.2041 Acc: 0.5725\n",
            "\n",
            "Epoch 13/50\n",
            "----------\n",
            "\n",
            "train Loss: 1.1423 Acc: 0.5945\n",
            "\n",
            "val Loss: 1.1431 Acc: 0.5940\n",
            "\n",
            "Epoch 14/50\n",
            "----------\n",
            "\n",
            "train Loss: 1.1086 Acc: 0.6086\n",
            "\n",
            "val Loss: 1.1074 Acc: 0.6089\n",
            "\n",
            "Epoch 15/50\n",
            "----------\n",
            "\n",
            "train Loss: 1.0809 Acc: 0.6175\n",
            "\n",
            "val Loss: 1.1184 Acc: 0.6079\n",
            "\n",
            "Epoch 16/50\n",
            "----------\n",
            "\n",
            "train Loss: 1.0535 Acc: 0.6277\n",
            "\n",
            "val Loss: 1.1134 Acc: 0.6090\n",
            "\n",
            "Epoch 17/50\n",
            "----------\n",
            "\n",
            "train Loss: 1.0312 Acc: 0.6374\n",
            "\n",
            "val Loss: 1.0674 Acc: 0.6258\n",
            "\n",
            "Epoch 18/50\n",
            "----------\n",
            "\n",
            "train Loss: 1.0064 Acc: 0.6475\n",
            "\n",
            "val Loss: 1.0500 Acc: 0.6338\n",
            "\n",
            "Epoch 19/50\n",
            "----------\n",
            "\n",
            "train Loss: 0.9836 Acc: 0.6530\n",
            "\n",
            "val Loss: 1.0199 Acc: 0.6422\n",
            "\n",
            "Epoch 20/50\n",
            "----------\n",
            "\n",
            "train Loss: 0.9600 Acc: 0.6629\n",
            "\n",
            "val Loss: 1.0245 Acc: 0.6421\n",
            "\n",
            "Epoch 21/50\n",
            "----------\n",
            "\n",
            "train Loss: 0.9416 Acc: 0.6693\n",
            "\n",
            "val Loss: 1.0072 Acc: 0.6502\n",
            "\n",
            "Epoch 22/50\n",
            "----------\n",
            "\n",
            "train Loss: 0.9254 Acc: 0.6765\n",
            "\n",
            "val Loss: 1.0020 Acc: 0.6535\n",
            "\n",
            "Epoch 23/50\n",
            "----------\n",
            "\n",
            "train Loss: 0.9036 Acc: 0.6831\n",
            "\n",
            "val Loss: 0.9923 Acc: 0.6538\n",
            "\n",
            "Epoch 24/50\n",
            "----------\n",
            "\n",
            "train Loss: 0.8863 Acc: 0.6897\n",
            "\n",
            "val Loss: 0.9776 Acc: 0.6607\n",
            "\n",
            "Epoch 25/50\n",
            "----------\n",
            "\n",
            "train Loss: 0.8682 Acc: 0.6976\n",
            "\n",
            "val Loss: 0.9622 Acc: 0.6626\n",
            "\n",
            "Epoch 26/50\n",
            "----------\n",
            "\n",
            "train Loss: 0.8523 Acc: 0.7011\n",
            "\n",
            "val Loss: 0.9544 Acc: 0.6699\n",
            "\n",
            "Epoch 27/50\n",
            "----------\n",
            "\n",
            "train Loss: 0.8363 Acc: 0.7082\n",
            "\n",
            "val Loss: 1.0240 Acc: 0.6513\n",
            "mam cie\n",
            "The early stopping condition has beed satisfied.\n",
            "Training complete in 5m 4s\n",
            "Best val Acc: 0.669900\n"
          ],
          "name": "stdout"
        }
      ]
    },
    {
      "cell_type": "code",
      "metadata": {
        "colab": {
          "base_uri": "https://localhost:8080/"
        },
        "id": "cnZ5ukjgnS0J",
        "outputId": "7a104636-3a2c-44ff-b13b-365422d91849"
      },
      "source": [
        "val_hist_simple"
      ],
      "execution_count": null,
      "outputs": [
        {
          "output_type": "execute_result",
          "data": {
            "text/plain": [
              "[tensor(0.1360, device='cuda:0', dtype=torch.float64),\n",
              " tensor(0.2494, device='cuda:0', dtype=torch.float64),\n",
              " tensor(0.3375, device='cuda:0', dtype=torch.float64),\n",
              " tensor(0.4000, device='cuda:0', dtype=torch.float64),\n",
              " tensor(0.4346, device='cuda:0', dtype=torch.float64),\n",
              " tensor(0.4625, device='cuda:0', dtype=torch.float64),\n",
              " tensor(0.4893, device='cuda:0', dtype=torch.float64),\n",
              " tensor(0.5108, device='cuda:0', dtype=torch.float64),\n",
              " tensor(0.5297, device='cuda:0', dtype=torch.float64),\n",
              " tensor(0.5470, device='cuda:0', dtype=torch.float64),\n",
              " tensor(0.5650, device='cuda:0', dtype=torch.float64),\n",
              " tensor(0.5800, device='cuda:0', dtype=torch.float64),\n",
              " tensor(0.5945, device='cuda:0', dtype=torch.float64),\n",
              " tensor(0.6086, device='cuda:0', dtype=torch.float64),\n",
              " tensor(0.6175, device='cuda:0', dtype=torch.float64),\n",
              " tensor(0.6277, device='cuda:0', dtype=torch.float64),\n",
              " tensor(0.6374, device='cuda:0', dtype=torch.float64),\n",
              " tensor(0.6475, device='cuda:0', dtype=torch.float64),\n",
              " tensor(0.6530, device='cuda:0', dtype=torch.float64),\n",
              " tensor(0.6629, device='cuda:0', dtype=torch.float64),\n",
              " tensor(0.6693, device='cuda:0', dtype=torch.float64),\n",
              " tensor(0.6765, device='cuda:0', dtype=torch.float64),\n",
              " tensor(0.6831, device='cuda:0', dtype=torch.float64),\n",
              " tensor(0.6897, device='cuda:0', dtype=torch.float64),\n",
              " tensor(0.6976, device='cuda:0', dtype=torch.float64),\n",
              " tensor(0.7011, device='cuda:0', dtype=torch.float64),\n",
              " tensor(0.7082, device='cuda:0', dtype=torch.float64)]"
            ]
          },
          "metadata": {
            "tags": []
          },
          "execution_count": 40
        }
      ]
    },
    {
      "cell_type": "code",
      "metadata": {
        "colab": {
          "base_uri": "https://localhost:8080/",
          "height": 283
        },
        "id": "ssBUlnV3l54T",
        "outputId": "bbd632f9-0ab8-4b01-f844-b9a24bfff56d"
      },
      "source": [
        "plt.plot(range(len(train_hist_simple)), train_hist_simple, LW = 3)\n",
        "plt.plot(range(len(train_hist_simple)), val_hist_simple, color = \"red\", LW = 3)\n",
        "plt.legend([\"validation\",\"train\"], fontsize = 14)\n",
        "plt.ylim((torch.max(val_hist_simple[0], train_hist_simple[0]).cpu().detach(),1))\n",
        "plt.xlabel(\"number of epochs\")\n",
        "plt.ylabel(\"accuracy\")\n",
        "plt.show()"
      ],
      "execution_count": null,
      "outputs": [
        {
          "output_type": "display_data",
          "data": {
            "image/png": "[encoded data removed]",
            "text/plain": [
              "<Figure size 432x288 with 1 Axes>"
            ]
          },
          "metadata": {
            "tags": [],
            "needs_background": "light"
          }
        }
      ]
    },
    {
      "cell_type": "code",
      "metadata": {
        "id": "KtC6CoYntY9W"
      },
      "source": [
        "def compute_accuracy(net, testloader, device):\n",
        "        # calculating accuracy\n",
        "        correct = 0\n",
        "        total = 0\n",
        "        with torch.no_grad():\n",
        "            for data in testloader:\n",
        "                images, labels = data[0].to(device), data[1].to(device)\n",
        "                outputs = net(images)\n",
        "                _, predicted = torch.max(outputs.data, 1)\n",
        "                total += labels.size(0)\n",
        "                correct += (predicted == labels).sum().item()\n",
        "\n",
        "        print(f\"Accuracy of the network on test images:{100 * correct / total}\")"
      ],
      "execution_count": null,
      "outputs": []
    },
    {
      "cell_type": "code",
      "metadata": {
        "colab": {
          "base_uri": "https://localhost:8080/"
        },
        "id": "Sl_Mqme1zJcI",
        "outputId": "e889063f-41a0-426d-e0ef-feef33934bb5"
      },
      "source": [
        "compute_accuracy(model_simple, testloader, device)"
      ],
      "execution_count": null,
      "outputs": [
        {
          "output_type": "stream",
          "text": [
            "Accuracy of the network on test images:66.99\n"
          ],
          "name": "stdout"
        }
      ]
    },
    {
      "cell_type": "code",
      "metadata": {
        "colab": {
          "base_uri": "https://localhost:8080/"
        },
        "id": "NgFOLN9rtl5j",
        "outputId": "60762554-189f-4031-d65d-3fbf18edd91a"
      },
      "source": [
        "# which classes were classified good and which bad\n",
        "class_correct = list(0. for i in range(10))\n",
        "class_total = list(0. for i in range(10))\n",
        "with torch.no_grad():\n",
        "    for data in testloader:\n",
        "        images, labels = data[0].to(device), data[1].to(device)\n",
        "        outputs = model_simple(images)\n",
        "        _, predicted = torch.max(outputs, 1)\n",
        "        c = (predicted == labels).squeeze()\n",
        "        for i in range(4):\n",
        "            label = labels[i]\n",
        "            class_correct[label] += c[i].item()\n",
        "            class_total[label] += 1\n",
        "\n",
        "\n",
        "for i in range(10):\n",
        "    print('Accuracy of %5s : %2d %%' % (\n",
        "        classes[i], 100 * class_correct[i] / class_total[i]))"
      ],
      "execution_count": null,
      "outputs": [
        {
          "output_type": "stream",
          "text": [
            "Accuracy of plane : 78 %\n",
            "Accuracy of   car : 88 %\n",
            "Accuracy of  bird : 48 %\n",
            "Accuracy of   cat : 38 %\n",
            "Accuracy of  deer : 56 %\n",
            "Accuracy of   dog : 49 %\n",
            "Accuracy of  frog : 71 %\n",
            "Accuracy of horse : 85 %\n",
            "Accuracy of  ship : 74 %\n",
            "Accuracy of truck : 69 %\n"
          ],
          "name": "stdout"
        }
      ]
    },
    {
      "cell_type": "code",
      "metadata": {
        "colab": {
          "base_uri": "https://localhost:8080/",
          "height": 140
        },
        "id": "A1rRhwPmq2nY",
        "outputId": "db22d8a2-5b0b-408b-b728-588980cbea03"
      },
      "source": [
        "# viusalisation of filters\n",
        "model_simple.to('cpu')\n",
        "# first conv layer\n",
        "filter = model_simple.conv1.weight.data.clone()\n",
        "visTensor(filter, ch=0, allkernels=False)\n",
        "\n",
        "plt.axis('off')\n",
        "plt.ioff()\n",
        "plt.show()"
      ],
      "execution_count": null,
      "outputs": [
        {
          "output_type": "display_data",
          "data": {
            "image/png": "[encoded data removed]",
            "text/plain": [
              "<Figure size 576x144 with 1 Axes>"
            ]
          },
          "metadata": {
            "tags": [],
            "needs_background": "light"
          }
        }
      ]
    },
    {
      "cell_type": "markdown",
      "metadata": {
        "id": "hmHDzK_r9UDH"
      },
      "source": [
        "# Somewhat upgraded network"
      ]
    },
    {
      "cell_type": "code",
      "metadata": {
        "id": "f71Erko49nue"
      },
      "source": [
        "class Net(nn.Module): \n",
        "    def __init__(self):\n",
        "        super(Net, self).__init__()\n",
        "        self.conv1 = nn.Conv2d(3, 32, 3)\n",
        "        self.conv2 = nn.Conv2d(32, 64, 3)\n",
        "        self.conv3 = nn.Conv2d(64, 128, 3)\n",
        "        self.pool = nn.MaxPool2d(2, 2)\n",
        "        self.fc1 = nn.Linear(128 * 2 * 2, 128)\n",
        "        self.fc2 = nn.Linear(128, 64)\n",
        "        self.fc3 = nn.Linear(64, 32)\n",
        "        self.fc4 = nn.Linear(32, 10)\n",
        "        self.dropout1 = nn.Dropout(p=0.2, inplace=False)\n",
        "\n",
        "    def forward(self, x):\n",
        "        x = self.pool(F.relu(self.conv1(x)))\n",
        "        x = self.dropout1(x)\n",
        "        x = self.pool(F.relu(self.conv2(x)))\n",
        "        x = self.dropout1(x)\n",
        "        x = self.pool(F.relu(self.conv3(x)))\n",
        "        x = self.dropout1(x)\n",
        "        x = x.view(-1, 128 * 2 * 2)\n",
        "        x = F.relu(self.fc1(x))\n",
        "        x = F.relu(self.fc2(x))\n",
        "        x = F.relu(self.fc3(x))\n",
        "        x = self.fc4(x)\n",
        "        return x\n",
        "\n",
        "\n",
        "net = Net()\n",
        "net.to(device)\n",
        "criterion = nn.CrossEntropyLoss()\n",
        "optimizer = optim.SGD(net.parameters(), lr=0.001, momentum=0.9)\n",
        "model_name = \"upgraded\""
      ],
      "execution_count": null,
      "outputs": []
    },
    {
      "cell_type": "code",
      "metadata": {
        "colab": {
          "base_uri": "https://localhost:8080/"
        },
        "id": "xIbyE-hB-3eF",
        "outputId": "48f591b1-dc98-4bb7-d71b-dc81893f4316"
      },
      "source": [
        "model_upgraded, hist_upgraded = train_model(net, dataloaders_dict, criterion,\n",
        "                                            optimizer, num_epochs=num_epochs + 50)"
      ],
      "execution_count": null,
      "outputs": [
        {
          "output_type": "stream",
          "text": [
            "elo elo\n",
            "Epoch 1/55\n",
            "----------\n",
            "\n",
            "train Loss: 2.3044 Acc: 0.1004\n",
            "\n",
            "val Loss: 2.3022 Acc: 0.1001\n",
            "\n",
            "Epoch 2/55\n",
            "----------\n",
            "\n",
            "train Loss: 2.3012 Acc: 0.1211\n",
            "\n",
            "val Loss: 2.3004 Acc: 0.1371\n",
            "\n",
            "Epoch 3/55\n",
            "----------\n",
            "\n",
            "train Loss: 2.2990 Acc: 0.1407\n",
            "\n",
            "val Loss: 2.2973 Acc: 0.1811\n",
            "\n",
            "Epoch 4/55\n",
            "----------\n",
            "\n",
            "train Loss: 2.2930 Acc: 0.1594\n",
            "\n",
            "val Loss: 2.2850 Acc: 0.2036\n",
            "\n",
            "Epoch 5/55\n",
            "----------\n",
            "\n",
            "train Loss: 2.2389 Acc: 0.1815\n",
            "\n",
            "val Loss: 2.1580 Acc: 0.2172\n",
            "\n",
            "Epoch 6/55\n",
            "----------\n",
            "\n",
            "train Loss: 2.0565 Acc: 0.2372\n",
            "\n",
            "val Loss: 1.9743 Acc: 0.2622\n",
            "\n",
            "Epoch 7/55\n",
            "----------\n",
            "\n",
            "train Loss: 1.9270 Acc: 0.2786\n",
            "\n",
            "val Loss: 1.8324 Acc: 0.3104\n",
            "\n",
            "Epoch 8/55\n",
            "----------\n",
            "\n",
            "train Loss: 1.8008 Acc: 0.3237\n",
            "\n",
            "val Loss: 1.7324 Acc: 0.3537\n",
            "\n",
            "Epoch 9/55\n",
            "----------\n",
            "\n",
            "train Loss: 1.7252 Acc: 0.3505\n",
            "\n",
            "val Loss: 1.6862 Acc: 0.3634\n",
            "\n",
            "Epoch 10/55\n",
            "----------\n",
            "\n",
            "train Loss: 1.6643 Acc: 0.3726\n",
            "\n",
            "val Loss: 1.6032 Acc: 0.4018\n",
            "\n",
            "Epoch 11/55\n",
            "----------\n",
            "\n",
            "train Loss: 1.6042 Acc: 0.3977\n",
            "\n",
            "val Loss: 1.5539 Acc: 0.4239\n",
            "\n",
            "Epoch 12/55\n",
            "----------\n",
            "\n",
            "train Loss: 1.5475 Acc: 0.4207\n",
            "\n",
            "val Loss: 1.5018 Acc: 0.4420\n",
            "\n",
            "Epoch 13/55\n",
            "----------\n",
            "\n",
            "train Loss: 1.5039 Acc: 0.4379\n",
            "\n",
            "val Loss: 1.4540 Acc: 0.4600\n",
            "\n",
            "Epoch 14/55\n",
            "----------\n",
            "\n",
            "train Loss: 1.4577 Acc: 0.4592\n",
            "\n",
            "val Loss: 1.4163 Acc: 0.4841\n",
            "\n",
            "Epoch 15/55\n",
            "----------\n",
            "\n",
            "train Loss: 1.4170 Acc: 0.4744\n",
            "\n",
            "val Loss: 1.3835 Acc: 0.4935\n",
            "\n",
            "Epoch 16/55\n",
            "----------\n",
            "\n",
            "train Loss: 1.3753 Acc: 0.4919\n",
            "\n",
            "val Loss: 1.3170 Acc: 0.5285\n",
            "\n",
            "Epoch 17/55\n",
            "----------\n",
            "\n",
            "train Loss: 1.3381 Acc: 0.5062\n",
            "\n",
            "val Loss: 1.3139 Acc: 0.5262\n",
            "\n",
            "Epoch 18/55\n",
            "----------\n",
            "\n",
            "train Loss: 1.3077 Acc: 0.5212\n",
            "\n",
            "val Loss: 1.2344 Acc: 0.5537\n",
            "\n",
            "Epoch 19/55\n",
            "----------\n",
            "\n",
            "train Loss: 1.2770 Acc: 0.5331\n",
            "\n",
            "val Loss: 1.2356 Acc: 0.5562\n",
            "\n",
            "Epoch 20/55\n",
            "----------\n",
            "\n",
            "train Loss: 1.2517 Acc: 0.5459\n",
            "\n",
            "val Loss: 1.1920 Acc: 0.5709\n",
            "\n",
            "Epoch 21/55\n",
            "----------\n",
            "\n",
            "train Loss: 1.2227 Acc: 0.5543\n",
            "\n",
            "val Loss: 1.1526 Acc: 0.5871\n",
            "\n",
            "Epoch 22/55\n",
            "----------\n",
            "\n",
            "train Loss: 1.1987 Acc: 0.5657\n",
            "\n",
            "val Loss: 1.1301 Acc: 0.5998\n",
            "\n",
            "Epoch 23/55\n",
            "----------\n",
            "\n",
            "train Loss: 1.1695 Acc: 0.5775\n",
            "\n",
            "val Loss: 1.1006 Acc: 0.6127\n",
            "\n",
            "Epoch 24/55\n",
            "----------\n",
            "\n",
            "train Loss: 1.1477 Acc: 0.5848\n",
            "\n",
            "val Loss: 1.1161 Acc: 0.5985\n",
            "mam cie\n",
            "The early stopping condition has beed satisfied.\n",
            "Training complete in 34m 44s\n",
            "Best val Acc: 0.612700\n"
          ],
          "name": "stdout"
        }
      ]
    },
    {
      "cell_type": "markdown",
      "metadata": {
        "id": "bCmtsS1hFJcQ"
      },
      "source": [
        "# Updating datasets sizes for pretrained networks"
      ]
    },
    {
      "cell_type": "code",
      "metadata": {
        "colab": {
          "base_uri": "https://localhost:8080/"
        },
        "id": "tZm_BQpKFGzW",
        "outputId": "00415aad-6667-4765-abcd-8e11c22a177b"
      },
      "source": [
        "# Settings\n",
        "num_classes = 10\n",
        "batch_size = 64\n",
        "num_epochs = 5\n",
        "\n",
        "# loading CIFAR-10 data and transforming it to tensors\n",
        "transform = transforms.Compose(\n",
        "    [transforms.Resize(224),\n",
        "     transforms.ToTensor(),\n",
        "     transforms.Normalize((0.5, 0.5, 0.5), (0.5, 0.5, 0.5))])\n",
        "\n",
        "trainset = torchvision.datasets.CIFAR10(root='./data', train=True,\n",
        "                                        download=True, transform=transform)\n",
        "trainloader = torch.utils.data.DataLoader(trainset, batch_size=batch_size,\n",
        "                                          shuffle=True, num_workers=2)\n",
        "\n",
        "testset = torchvision.datasets.CIFAR10(root='./data', train=False,\n",
        "                                       download=True, transform=transform)\n",
        "testloader = torch.utils.data.DataLoader(testset, batch_size=batch_size,\n",
        "                                         shuffle=False, num_workers=2)\n",
        "\n",
        "dataloaders_dict = {'train':trainloader, 'val':testloader}\n",
        "\n",
        "classes = ('plane', 'car', 'bird', 'cat',\n",
        "           'deer', 'dog', 'frog', 'horse', 'ship', 'truck')\n",
        "\n",
        "# Checking the dataset\n",
        "for images, labels in trainloader:  \n",
        "    print('Image batch dimensions:', images.shape)\n",
        "    print('Image label dimensions:', labels.shape)\n",
        "    break"
      ],
      "execution_count": null,
      "outputs": [
        {
          "output_type": "stream",
          "text": [
            "Files already downloaded and verified\n",
            "Files already downloaded and verified\n",
            "Image batch dimensions: torch.Size([64, 3, 224, 224])\n",
            "Image label dimensions: torch.Size([64])\n"
          ],
          "name": "stdout"
        }
      ]
    },
    {
      "cell_type": "markdown",
      "metadata": {
        "id": "OUliyspDA3sU"
      },
      "source": [
        "# Finetuning AlexNet"
      ]
    },
    {
      "cell_type": "code",
      "metadata": {
        "colab": {
          "base_uri": "https://localhost:8080/",
          "height": 150,
          "referenced_widgets": [
            "972a127d67d642b7b8a3eba95e27210b",
            "425edaf2de2d421891daabedbe893a62",
            "b0560a7120d849fa8883f10951959c25",
            "11e01cb9c9664939b4a8185d73086c77",
            "f5d3d1aa33394a248ec7a76d889aa23a",
            "0606a26f004b4cd4a0778a8aa09ce9d0",
            "b556b360a3c044389ab23f64a6375bb1",
            "f7a51c2b3e1b420f830f23dac2d365ed"
          ]
        },
        "id": "_gQezCpAA7h7",
        "outputId": "c3177cb4-2a2b-4d92-bccb-78050ee626d9"
      },
      "source": [
        "# Initialize the model for this run\n",
        "model_fn_alexnet = initialize_model(\"alexnet\", num_classes,\n",
        "                                    feature_extract=False, use_pretrained=True)\n",
        "model_fn_alexnet = model_fn_alexnet.to(device)\n",
        "optimizer = create_optimizer(model_fn_alexnet, feature_extract=False)\n",
        "# Setup the loss fxn\n",
        "criterion = nn.CrossEntropyLoss()\n",
        "# Train and evaluate\n",
        "model_fn_alexnet, hist_fn_alexnet = train_model(model_fn_alexnet,\n",
        "                                                dataloaders_dict, criterion,\n",
        "                                                optimizer,\n",
        "                                                num_epochs=num_epochs + 20)"
      ],
      "execution_count": null,
      "outputs": [
        {
          "output_type": "stream",
          "text": [
            "Downloading: \"https://download.pytorch.org/models/alexnet-owt-4df8aa71.pth\" to /root/.cache/torch/hub/checkpoints/alexnet-owt-4df8aa71.pth\n"
          ],
          "name": "stderr"
        },
        {
          "output_type": "display_data",
          "data": {
            "application/vnd.jupyter.widget-view+json": {
              "model_id": "972a127d67d642b7b8a3eba95e27210b",
              "version_minor": 0,
              "version_major": 2
            },
            "text/plain": [
              "HBox(children=(FloatProgress(value=0.0, max=244418560.0), HTML(value='')))"
            ]
          },
          "metadata": {
            "tags": []
          }
        },
        {
          "output_type": "stream",
          "text": [
            "\n",
            "Params to learn:\n",
            "elo elo\n",
            "Epoch 1/25\n",
            "----------\n"
          ],
          "name": "stdout"
        }
      ]
    },
    {
      "cell_type": "markdown",
      "metadata": {
        "id": "SlUs5wRFG321"
      },
      "source": [
        "# Future extraction AlexNet"
      ]
    },
    {
      "cell_type": "code",
      "metadata": {
        "colab": {
          "base_uri": "https://localhost:8080/"
        },
        "id": "K-xAmSnGGzY3",
        "outputId": "46f99ce0-f849-4ef0-e6c9-7cf5bd2462c5"
      },
      "source": [
        "# Initialize the model for this run\n",
        "model_fe_alexnet = initialize_model(\"alexnet\", num_classes,\n",
        "                                    feature_extract=True, use_pretrained=True)\n",
        "model_fe_alexnet = model_fe_alexnet.to(device)\n",
        "optimizer = create_optimizer(model_fe_alexnet, feature_extract=True)\n",
        "# Setup the loss fxn\n",
        "criterion = nn.CrossEntropyLoss()\n",
        "# Train and evaluate\n",
        "model_fe_alexnet, hist_fe_alexnet = train_model(model_fe_alexnet,\n",
        "                                                dataloaders_dict, criterion,\n",
        "                                                optimizer,\n",
        "                                                num_epochs=num_epochs)"
      ],
      "execution_count": null,
      "outputs": [
        {
          "output_type": "stream",
          "text": [
            "Params to learn:\n",
            "Epoch 1/5\n",
            "----------\n",
            "\n",
            "train Loss: 0.9536 Acc: 0.6649\n",
            "\n",
            "val Loss: 0.7362 Acc: 0.7412\n",
            "\n",
            "Epoch 2/5\n",
            "----------\n",
            "\n",
            "train Loss: 0.8176 Acc: 0.7110\n",
            "\n",
            "val Loss: 0.7055 Acc: 0.7492\n",
            "\n",
            "Epoch 3/5\n",
            "----------\n",
            "\n",
            "train Loss: 0.7836 Acc: 0.7246\n",
            "\n",
            "val Loss: 0.6788 Acc: 0.7536\n",
            "\n",
            "Epoch 4/5\n",
            "----------\n",
            "\n",
            "train Loss: 0.7708 Acc: 0.7268\n",
            "\n",
            "val Loss: 0.6608 Acc: 0.7636\n",
            "\n",
            "Epoch 5/5\n",
            "----------\n",
            "\n",
            "train Loss: 0.7557 Acc: 0.7311\n",
            "\n",
            "val Loss: 0.6347 Acc: 0.7757\n",
            "\n",
            "Training complete in 4m 50s\n",
            "Best val Acc: 0.775700\n"
          ],
          "name": "stdout"
        }
      ]
    },
    {
      "cell_type": "markdown",
      "metadata": {
        "id": "V4-maAoHHKeN"
      },
      "source": [
        "# Training from scratch AlexNet"
      ]
    },
    {
      "cell_type": "code",
      "metadata": {
        "colab": {
          "base_uri": "https://localhost:8080/"
        },
        "id": "Ml9P_QGdHSbv",
        "outputId": "0f6a3302-23c1-4729-aa1a-07d4154d2354"
      },
      "source": [
        "# Initialize the model for this run\n",
        "model_sc_alexnet = initialize_model(\"alexnet\", num_classes,\n",
        "                                    feature_extract=False, use_pretrained=False)\n",
        "model_sc_alexnet = model_sc_alexnet.to(device)\n",
        "optimizer = create_optimizer(model_sc_alexnet, feature_extract=False)\n",
        "# Setup the loss fxn\n",
        "criterion = nn.CrossEntropyLoss()\n",
        "# Train and evaluate\n",
        "model_sc_alexnet, hist_sc_alexnet = train_model(model_sc_alexnet,\n",
        "                                                dataloaders_dict, criterion,\n",
        "                                                optimizer,\n",
        "                                                num_epochs=num_epochs)"
      ],
      "execution_count": null,
      "outputs": [
        {
          "output_type": "stream",
          "text": [
            "Params to learn:\n",
            "Epoch 1/5\n",
            "----------\n",
            "\n",
            "train Loss: 2.3025 Acc: 0.1045\n",
            "\n",
            "val Loss: 2.3020 Acc: 0.1380\n",
            "\n",
            "Epoch 2/5\n",
            "----------\n",
            "\n",
            "train Loss: 2.3014 Acc: 0.1205\n",
            "\n",
            "val Loss: 2.2991 Acc: 0.1448\n",
            "\n",
            "Epoch 3/5\n",
            "----------\n",
            "\n",
            "train Loss: 2.2479 Acc: 0.1507\n",
            "\n",
            "val Loss: 2.0510 Acc: 0.2657\n",
            "\n",
            "Epoch 4/5\n",
            "----------\n",
            "\n",
            "train Loss: 1.9051 Acc: 0.3032\n",
            "\n",
            "val Loss: 1.6768 Acc: 0.3836\n",
            "\n",
            "Epoch 5/5\n",
            "----------\n",
            "\n",
            "train Loss: 1.6507 Acc: 0.3906\n",
            "\n",
            "val Loss: 1.6219 Acc: 0.4059\n",
            "\n",
            "Training complete in 5m 6s\n",
            "Best val Acc: 0.405900\n"
          ],
          "name": "stdout"
        }
      ]
    },
    {
      "cell_type": "markdown",
      "metadata": {
        "id": "SE0w-D4OJlFn"
      },
      "source": [
        "# Finetuning VGG"
      ]
    },
    {
      "cell_type": "code",
      "metadata": {
        "colab": {
          "base_uri": "https://localhost:8080/",
          "height": 729,
          "referenced_widgets": [
            "3fa39af9d89e433b81a788f959c41338",
            "bf33e09cec0b4a27b9ed4e25b3388a54",
            "cd1efd5e5fa84e6cb38d8799c405fe74",
            "705158272961496ab37796a170331d4a",
            "05ec26029864432c917953e81da6a190",
            "22c995d6702f47698cfe16b5c9dc29ce",
            "23075f7acf9a48a1afb1527cb5f73bca",
            "492a8262757040318fafd7189b2d041f"
          ]
        },
        "id": "20uNa9XcJq3S",
        "outputId": "dc70a3cf-cd29-45a8-9fc8-6aa91a8741dd"
      },
      "source": [
        "# Initialize the model for this run\n",
        "model_fn_vgg = initialize_model(\"vgg\", num_classes, feature_extract=False,\n",
        "                                use_pretrained=True)\n",
        "model_fn_vgg = model_fn_vgg.to(device)\n",
        "optimizer = create_optimizer(model_fn_vgg, feature_extract=False)\n",
        "# Setup the loss fxn\n",
        "criterion = nn.CrossEntropyLoss()\n",
        "# Train and evaluate\n",
        "model_fn_vgg, hist_fn_vgg = train_model(model_fn_vgg, dataloaders_dict,\n",
        "                                        criterion, optimizer,\n",
        "                                        num_epochs=num_epochs)"
      ],
      "execution_count": null,
      "outputs": [
        {
          "output_type": "stream",
          "text": [
            "Downloading: \"https://download.pytorch.org/models/vgg11_bn-6002323d.pth\" to /root/.cache/torch/hub/checkpoints/vgg11_bn-6002323d.pth\n"
          ],
          "name": "stderr"
        },
        {
          "output_type": "display_data",
          "data": {
            "application/vnd.jupyter.widget-view+json": {
              "model_id": "3fa39af9d89e433b81a788f959c41338",
              "version_major": 2,
              "version_minor": 0
            },
            "text/plain": [
              "HBox(children=(FloatProgress(value=0.0, max=531503671.0), HTML(value='')))"
            ]
          },
          "metadata": {
            "tags": []
          }
        },
        {
          "output_type": "stream",
          "text": [
            "\n",
            "Params to learn:\n",
            "Epoch 1/5\n",
            "----------\n",
            "\n",
            "train Loss: 0.5173 Acc: 0.8245\n",
            "\n",
            "val Loss: 0.2666 Acc: 0.9067\n",
            "\n",
            "Epoch 2/5\n",
            "----------\n",
            "\n",
            "train Loss: 0.2182 Acc: 0.9248\n",
            "\n",
            "val Loss: 0.2159 Acc: 0.9254\n",
            "\n",
            "Epoch 3/5\n",
            "----------\n",
            "\n",
            "train Loss: 0.1351 Acc: 0.9544\n",
            "\n",
            "val Loss: 0.2153 Acc: 0.9266\n",
            "\n",
            "Epoch 4/5\n",
            "----------\n",
            "\n",
            "train Loss: 0.0826 Acc: 0.9721\n",
            "\n",
            "val Loss: 0.2163 Acc: 0.9299\n",
            "\n",
            "Epoch 5/5\n",
            "----------\n",
            "\n",
            "train Loss: 0.0512 Acc: 0.9831\n",
            "\n",
            "val Loss: 0.2330 Acc: 0.9300\n",
            "\n",
            "Training complete in 20m 54s\n",
            "Best val Acc: 0.930000\n"
          ],
          "name": "stdout"
        }
      ]
    },
    {
      "cell_type": "markdown",
      "metadata": {
        "id": "5LHzOWl5dxqj"
      },
      "source": [
        "# Finetuninig Efficientnet"
      ]
    },
    {
      "cell_type": "code",
      "metadata": {
        "id": "6gfULY1xZDKq",
        "colab": {
          "base_uri": "https://localhost:8080/",
          "height": 163
        },
        "outputId": "21e1ff4c-b018-4b7e-bf9a-50faf80519e5"
      },
      "source": [
        "model_fn_en"
      ],
      "execution_count": null,
      "outputs": [
        {
          "output_type": "error",
          "ename": "NameError",
          "evalue": "ignored",
          "traceback": [
            "\u001b[0;31m---------------------------------------------------------------------------\u001b[0m",
            "\u001b[0;31mNameError\u001b[0m                                 Traceback (most recent call last)",
            "\u001b[0;32m<ipython-input-1-e0e3900fb051>\u001b[0m in \u001b[0;36m<module>\u001b[0;34m()\u001b[0m\n\u001b[0;32m----> 1\u001b[0;31m \u001b[0mmodel_fn_en\u001b[0m\u001b[0;34m\u001b[0m\u001b[0;34m\u001b[0m\u001b[0m\n\u001b[0m",
            "\u001b[0;31mNameError\u001b[0m: name 'model_fn_en' is not defined"
          ]
        }
      ]
    },
    {
      "cell_type": "code",
      "metadata": {
        "colab": {
          "base_uri": "https://localhost:8080/",
          "height": 746,
          "referenced_widgets": [
            "9d47c69ad1f04198af67245a6ca307cd",
            "233cadfb22fb45d98e914c6660b0d391",
            "ac6af97145fd4a868f6cb9df5ede1d15",
            "9cfc472ad6a44d709624ea220c61bc91",
            "a6c22a4452444f3e8ec9a2d33c0c5662",
            "2e9ea9b7dbba4770a993c47768abe8c6",
            "a21b33f9ea3b432db0c8cd3d9fc358f7",
            "ef51794452cb498db3b89a849fbdb0de"
          ]
        },
        "id": "0ehRgsFMd4Jp",
        "outputId": "4534a8ff-8ac0-4142-84df-093cc8e22b32"
      },
      "source": [
        "# Initialize the model for this run\n",
        "model_fn_en = initialize_model(\"efficientnet\", num_classes,\n",
        "                               feature_extract=False, use_pretrained=True)\n",
        "model_fn_en = model_fn_en.to(device)\n",
        "optimizer = create_optimizer(model_fn_en, feature_extract=False)\n",
        "# Setup the loss fxn\n",
        "criterion = nn.CrossEntropyLoss()\n",
        "# Train and evaluate\n",
        "model_fn_en, hist_fn_en = train_model(model_fn_en, dataloaders_dict,\n",
        "                                      criterion, optimizer,\n",
        "                                      num_epochs=num_epochs)"
      ],
      "execution_count": null,
      "outputs": [
        {
          "output_type": "stream",
          "text": [
            "Downloading: \"https://github.com/lukemelas/EfficientNet-PyTorch/releases/download/1.0/efficientnet-b0-355c32eb.pth\" to /root/.cache/torch/hub/checkpoints/efficientnet-b0-355c32eb.pth\n"
          ],
          "name": "stderr"
        },
        {
          "output_type": "display_data",
          "data": {
            "application/vnd.jupyter.widget-view+json": {
              "model_id": "9d47c69ad1f04198af67245a6ca307cd",
              "version_major": 2,
              "version_minor": 0
            },
            "text/plain": [
              "HBox(children=(FloatProgress(value=0.0, max=21388428.0), HTML(value='')))"
            ]
          },
          "metadata": {
            "tags": []
          }
        },
        {
          "output_type": "stream",
          "text": [
            "\n",
            "Loaded pretrained weights for efficientnet-b0\n",
            "Params to learn:\n",
            "Epoch 1/5\n",
            "----------\n",
            "\n",
            "train Loss: 1.0293 Acc: 0.7330\n",
            "\n",
            "val Loss: 0.3680 Acc: 0.8882\n",
            "\n",
            "Epoch 2/5\n",
            "----------\n",
            "\n",
            "train Loss: 0.3515 Acc: 0.8871\n",
            "\n",
            "val Loss: 0.2338 Acc: 0.9243\n",
            "\n",
            "Epoch 3/5\n",
            "----------\n",
            "\n",
            "train Loss: 0.2539 Acc: 0.9159\n",
            "\n",
            "val Loss: 0.3445 Acc: 0.8899\n",
            "\n",
            "Epoch 4/5\n",
            "----------\n",
            "\n",
            "train Loss: 0.2040 Acc: 0.9319\n",
            "\n",
            "val Loss: 0.1712 Acc: 0.9451\n",
            "\n",
            "Epoch 5/5\n",
            "----------\n",
            "\n",
            "train Loss: 0.1753 Acc: 0.9426\n",
            "\n",
            "val Loss: 0.1519 Acc: 0.9485\n",
            "\n",
            "Training complete in 19m 49s\n",
            "Best val Acc: 0.948500\n"
          ],
          "name": "stdout"
        }
      ]
    },
    {
      "cell_type": "markdown",
      "metadata": {
        "id": "SyOjnCjk2ral"
      },
      "source": [
        "# Finetuning Resnet"
      ]
    },
    {
      "cell_type": "code",
      "metadata": {
        "colab": {
          "base_uri": "https://localhost:8080/",
          "height": 425
        },
        "id": "4arua6mQ2v0O",
        "outputId": "79d0d533-befb-4b5d-f9f7-ffdb2d070fb0"
      },
      "source": [
        "# Initialize the model for this run\n",
        "model_fn_rn = initialize_model(\"resnet\", num_classes,\n",
        "                               feature_extract=False, use_pretrained=True)\n",
        "model_fn_rn = model_fn_rn.to(device)\n",
        "optimizer = create_optimizer(model_fn_rn, feature_extract=False)\n",
        "# Setup the loss fxn\n",
        "criterion = nn.CrossEntropyLoss()\n",
        "# Train and evaluate\n",
        "model_fn_rn, val_acc_history_rn, train_acc_history_rn = train_model(model_fn_rn, criterion, optimizer, \n",
        "                                                                    num_epochs= 10, dataloaders = dataloaders_dict)\n",
        "                                      \n",
        "                                      "
      ],
      "execution_count": null,
      "outputs": [
        {
          "output_type": "stream",
          "text": [
            "Params to learn:\n",
            "Epoch 1/10\n",
            "----------\n"
          ],
          "name": "stdout"
        },
        {
          "output_type": "error",
          "ename": "KeyboardInterrupt",
          "evalue": "ignored",
          "traceback": [
            "\u001b[0;31m---------------------------------------------------------------------------\u001b[0m",
            "\u001b[0;31mKeyboardInterrupt\u001b[0m                         Traceback (most recent call last)",
            "\u001b[0;32m<ipython-input-13-4540af9b828c>\u001b[0m in \u001b[0;36m<module>\u001b[0;34m()\u001b[0m\n\u001b[1;32m      8\u001b[0m \u001b[0;31m# Train and evaluate\u001b[0m\u001b[0;34m\u001b[0m\u001b[0;34m\u001b[0m\u001b[0;34m\u001b[0m\u001b[0m\n\u001b[1;32m      9\u001b[0m model_fn_rn, val_acc_history_rn, train_acc_history_rn = train_model(model_fn_rn, criterion, optimizer, \n\u001b[0;32m---> 10\u001b[0;31m                                                                     num_epochs= 10, dataloaders = dataloaders_dict)\n\u001b[0m\u001b[1;32m     11\u001b[0m \u001b[0;34m\u001b[0m\u001b[0m\n\u001b[1;32m     12\u001b[0m \u001b[0;34m\u001b[0m\u001b[0m\n",
            "\u001b[0;32m<ipython-input-11-c41ed0f67fa1>\u001b[0m in \u001b[0;36mtrain_model\u001b[0;34m(model, criterion, optimizer, num_epochs, num_print, sched, batch_score, dataloaders)\u001b[0m\n\u001b[1;32m     47\u001b[0m \u001b[0;34m\u001b[0m\u001b[0m\n\u001b[1;32m     48\u001b[0m \u001b[0;34m\u001b[0m\u001b[0m\n\u001b[0;32m---> 49\u001b[0;31m                     \u001b[0moutputs\u001b[0m \u001b[0;34m=\u001b[0m \u001b[0mmodel\u001b[0m\u001b[0;34m(\u001b[0m\u001b[0minputs\u001b[0m\u001b[0;34m)\u001b[0m\u001b[0;34m\u001b[0m\u001b[0;34m\u001b[0m\u001b[0m\n\u001b[0m\u001b[1;32m     50\u001b[0m                     \u001b[0mloss\u001b[0m \u001b[0;34m=\u001b[0m \u001b[0mcriterion\u001b[0m\u001b[0;34m(\u001b[0m\u001b[0moutputs\u001b[0m\u001b[0;34m,\u001b[0m \u001b[0mlabels\u001b[0m\u001b[0;34m)\u001b[0m\u001b[0;34m\u001b[0m\u001b[0;34m\u001b[0m\u001b[0m\n\u001b[1;32m     51\u001b[0m \u001b[0;34m\u001b[0m\u001b[0m\n",
            "\u001b[0;32m/usr/local/lib/python3.7/dist-packages/torch/nn/modules/module.py\u001b[0m in \u001b[0;36m_call_impl\u001b[0;34m(self, *input, **kwargs)\u001b[0m\n\u001b[1;32m    887\u001b[0m             \u001b[0mresult\u001b[0m \u001b[0;34m=\u001b[0m \u001b[0mself\u001b[0m\u001b[0;34m.\u001b[0m\u001b[0m_slow_forward\u001b[0m\u001b[0;34m(\u001b[0m\u001b[0;34m*\u001b[0m\u001b[0minput\u001b[0m\u001b[0;34m,\u001b[0m \u001b[0;34m**\u001b[0m\u001b[0mkwargs\u001b[0m\u001b[0;34m)\u001b[0m\u001b[0;34m\u001b[0m\u001b[0;34m\u001b[0m\u001b[0m\n\u001b[1;32m    888\u001b[0m         \u001b[0;32melse\u001b[0m\u001b[0;34m:\u001b[0m\u001b[0;34m\u001b[0m\u001b[0;34m\u001b[0m\u001b[0m\n\u001b[0;32m--> 889\u001b[0;31m             \u001b[0mresult\u001b[0m \u001b[0;34m=\u001b[0m \u001b[0mself\u001b[0m\u001b[0;34m.\u001b[0m\u001b[0mforward\u001b[0m\u001b[0;34m(\u001b[0m\u001b[0;34m*\u001b[0m\u001b[0minput\u001b[0m\u001b[0;34m,\u001b[0m \u001b[0;34m**\u001b[0m\u001b[0mkwargs\u001b[0m\u001b[0;34m)\u001b[0m\u001b[0;34m\u001b[0m\u001b[0;34m\u001b[0m\u001b[0m\n\u001b[0m\u001b[1;32m    890\u001b[0m         for hook in itertools.chain(\n\u001b[1;32m    891\u001b[0m                 \u001b[0m_global_forward_hooks\u001b[0m\u001b[0;34m.\u001b[0m\u001b[0mvalues\u001b[0m\u001b[0;34m(\u001b[0m\u001b[0;34m)\u001b[0m\u001b[0;34m,\u001b[0m\u001b[0;34m\u001b[0m\u001b[0;34m\u001b[0m\u001b[0m\n",
            "\u001b[0;32m/usr/local/lib/python3.7/dist-packages/torchvision/models/resnet.py\u001b[0m in \u001b[0;36mforward\u001b[0;34m(self, x)\u001b[0m\n\u001b[1;32m    247\u001b[0m \u001b[0;34m\u001b[0m\u001b[0m\n\u001b[1;32m    248\u001b[0m     \u001b[0;32mdef\u001b[0m \u001b[0mforward\u001b[0m\u001b[0;34m(\u001b[0m\u001b[0mself\u001b[0m\u001b[0;34m,\u001b[0m \u001b[0mx\u001b[0m\u001b[0;34m:\u001b[0m \u001b[0mTensor\u001b[0m\u001b[0;34m)\u001b[0m \u001b[0;34m->\u001b[0m \u001b[0mTensor\u001b[0m\u001b[0;34m:\u001b[0m\u001b[0;34m\u001b[0m\u001b[0;34m\u001b[0m\u001b[0m\n\u001b[0;32m--> 249\u001b[0;31m         \u001b[0;32mreturn\u001b[0m \u001b[0mself\u001b[0m\u001b[0;34m.\u001b[0m\u001b[0m_forward_impl\u001b[0m\u001b[0;34m(\u001b[0m\u001b[0mx\u001b[0m\u001b[0;34m)\u001b[0m\u001b[0;34m\u001b[0m\u001b[0;34m\u001b[0m\u001b[0m\n\u001b[0m\u001b[1;32m    250\u001b[0m \u001b[0;34m\u001b[0m\u001b[0m\n\u001b[1;32m    251\u001b[0m \u001b[0;34m\u001b[0m\u001b[0m\n",
            "\u001b[0;32m/usr/local/lib/python3.7/dist-packages/torchvision/models/resnet.py\u001b[0m in \u001b[0;36m_forward_impl\u001b[0;34m(self, x)\u001b[0m\n\u001b[1;32m    237\u001b[0m         \u001b[0mx\u001b[0m \u001b[0;34m=\u001b[0m \u001b[0mself\u001b[0m\u001b[0;34m.\u001b[0m\u001b[0mlayer1\u001b[0m\u001b[0;34m(\u001b[0m\u001b[0mx\u001b[0m\u001b[0;34m)\u001b[0m\u001b[0;34m\u001b[0m\u001b[0;34m\u001b[0m\u001b[0m\n\u001b[1;32m    238\u001b[0m         \u001b[0mx\u001b[0m \u001b[0;34m=\u001b[0m \u001b[0mself\u001b[0m\u001b[0;34m.\u001b[0m\u001b[0mlayer2\u001b[0m\u001b[0;34m(\u001b[0m\u001b[0mx\u001b[0m\u001b[0;34m)\u001b[0m\u001b[0;34m\u001b[0m\u001b[0;34m\u001b[0m\u001b[0m\n\u001b[0;32m--> 239\u001b[0;31m         \u001b[0mx\u001b[0m \u001b[0;34m=\u001b[0m \u001b[0mself\u001b[0m\u001b[0;34m.\u001b[0m\u001b[0mlayer3\u001b[0m\u001b[0;34m(\u001b[0m\u001b[0mx\u001b[0m\u001b[0;34m)\u001b[0m\u001b[0;34m\u001b[0m\u001b[0;34m\u001b[0m\u001b[0m\n\u001b[0m\u001b[1;32m    240\u001b[0m         \u001b[0mx\u001b[0m \u001b[0;34m=\u001b[0m \u001b[0mself\u001b[0m\u001b[0;34m.\u001b[0m\u001b[0mlayer4\u001b[0m\u001b[0;34m(\u001b[0m\u001b[0mx\u001b[0m\u001b[0;34m)\u001b[0m\u001b[0;34m\u001b[0m\u001b[0;34m\u001b[0m\u001b[0m\n\u001b[1;32m    241\u001b[0m \u001b[0;34m\u001b[0m\u001b[0m\n",
            "\u001b[0;32m/usr/local/lib/python3.7/dist-packages/torch/nn/modules/module.py\u001b[0m in \u001b[0;36m_call_impl\u001b[0;34m(self, *input, **kwargs)\u001b[0m\n\u001b[1;32m    887\u001b[0m             \u001b[0mresult\u001b[0m \u001b[0;34m=\u001b[0m \u001b[0mself\u001b[0m\u001b[0;34m.\u001b[0m\u001b[0m_slow_forward\u001b[0m\u001b[0;34m(\u001b[0m\u001b[0;34m*\u001b[0m\u001b[0minput\u001b[0m\u001b[0;34m,\u001b[0m \u001b[0;34m**\u001b[0m\u001b[0mkwargs\u001b[0m\u001b[0;34m)\u001b[0m\u001b[0;34m\u001b[0m\u001b[0;34m\u001b[0m\u001b[0m\n\u001b[1;32m    888\u001b[0m         \u001b[0;32melse\u001b[0m\u001b[0;34m:\u001b[0m\u001b[0;34m\u001b[0m\u001b[0;34m\u001b[0m\u001b[0m\n\u001b[0;32m--> 889\u001b[0;31m             \u001b[0mresult\u001b[0m \u001b[0;34m=\u001b[0m \u001b[0mself\u001b[0m\u001b[0;34m.\u001b[0m\u001b[0mforward\u001b[0m\u001b[0;34m(\u001b[0m\u001b[0;34m*\u001b[0m\u001b[0minput\u001b[0m\u001b[0;34m,\u001b[0m \u001b[0;34m**\u001b[0m\u001b[0mkwargs\u001b[0m\u001b[0;34m)\u001b[0m\u001b[0;34m\u001b[0m\u001b[0;34m\u001b[0m\u001b[0m\n\u001b[0m\u001b[1;32m    890\u001b[0m         for hook in itertools.chain(\n\u001b[1;32m    891\u001b[0m                 \u001b[0m_global_forward_hooks\u001b[0m\u001b[0;34m.\u001b[0m\u001b[0mvalues\u001b[0m\u001b[0;34m(\u001b[0m\u001b[0;34m)\u001b[0m\u001b[0;34m,\u001b[0m\u001b[0;34m\u001b[0m\u001b[0;34m\u001b[0m\u001b[0m\n",
            "\u001b[0;32m/usr/local/lib/python3.7/dist-packages/torch/nn/modules/container.py\u001b[0m in \u001b[0;36mforward\u001b[0;34m(self, input)\u001b[0m\n\u001b[1;32m    117\u001b[0m     \u001b[0;32mdef\u001b[0m \u001b[0mforward\u001b[0m\u001b[0;34m(\u001b[0m\u001b[0mself\u001b[0m\u001b[0;34m,\u001b[0m \u001b[0minput\u001b[0m\u001b[0;34m)\u001b[0m\u001b[0;34m:\u001b[0m\u001b[0;34m\u001b[0m\u001b[0;34m\u001b[0m\u001b[0m\n\u001b[1;32m    118\u001b[0m         \u001b[0;32mfor\u001b[0m \u001b[0mmodule\u001b[0m \u001b[0;32min\u001b[0m \u001b[0mself\u001b[0m\u001b[0;34m:\u001b[0m\u001b[0;34m\u001b[0m\u001b[0;34m\u001b[0m\u001b[0m\n\u001b[0;32m--> 119\u001b[0;31m             \u001b[0minput\u001b[0m \u001b[0;34m=\u001b[0m \u001b[0mmodule\u001b[0m\u001b[0;34m(\u001b[0m\u001b[0minput\u001b[0m\u001b[0;34m)\u001b[0m\u001b[0;34m\u001b[0m\u001b[0;34m\u001b[0m\u001b[0m\n\u001b[0m\u001b[1;32m    120\u001b[0m         \u001b[0;32mreturn\u001b[0m \u001b[0minput\u001b[0m\u001b[0;34m\u001b[0m\u001b[0;34m\u001b[0m\u001b[0m\n\u001b[1;32m    121\u001b[0m \u001b[0;34m\u001b[0m\u001b[0m\n",
            "\u001b[0;32m/usr/local/lib/python3.7/dist-packages/torch/nn/modules/module.py\u001b[0m in \u001b[0;36m_call_impl\u001b[0;34m(self, *input, **kwargs)\u001b[0m\n\u001b[1;32m    887\u001b[0m             \u001b[0mresult\u001b[0m \u001b[0;34m=\u001b[0m \u001b[0mself\u001b[0m\u001b[0;34m.\u001b[0m\u001b[0m_slow_forward\u001b[0m\u001b[0;34m(\u001b[0m\u001b[0;34m*\u001b[0m\u001b[0minput\u001b[0m\u001b[0;34m,\u001b[0m \u001b[0;34m**\u001b[0m\u001b[0mkwargs\u001b[0m\u001b[0;34m)\u001b[0m\u001b[0;34m\u001b[0m\u001b[0;34m\u001b[0m\u001b[0m\n\u001b[1;32m    888\u001b[0m         \u001b[0;32melse\u001b[0m\u001b[0;34m:\u001b[0m\u001b[0;34m\u001b[0m\u001b[0;34m\u001b[0m\u001b[0m\n\u001b[0;32m--> 889\u001b[0;31m             \u001b[0mresult\u001b[0m \u001b[0;34m=\u001b[0m \u001b[0mself\u001b[0m\u001b[0;34m.\u001b[0m\u001b[0mforward\u001b[0m\u001b[0;34m(\u001b[0m\u001b[0;34m*\u001b[0m\u001b[0minput\u001b[0m\u001b[0;34m,\u001b[0m \u001b[0;34m**\u001b[0m\u001b[0mkwargs\u001b[0m\u001b[0;34m)\u001b[0m\u001b[0;34m\u001b[0m\u001b[0;34m\u001b[0m\u001b[0m\n\u001b[0m\u001b[1;32m    890\u001b[0m         for hook in itertools.chain(\n\u001b[1;32m    891\u001b[0m                 \u001b[0m_global_forward_hooks\u001b[0m\u001b[0;34m.\u001b[0m\u001b[0mvalues\u001b[0m\u001b[0;34m(\u001b[0m\u001b[0;34m)\u001b[0m\u001b[0;34m,\u001b[0m\u001b[0;34m\u001b[0m\u001b[0;34m\u001b[0m\u001b[0m\n",
            "\u001b[0;32m/usr/local/lib/python3.7/dist-packages/torchvision/models/resnet.py\u001b[0m in \u001b[0;36mforward\u001b[0;34m(self, x)\u001b[0m\n\u001b[1;32m     72\u001b[0m         \u001b[0mout\u001b[0m \u001b[0;34m=\u001b[0m \u001b[0mself\u001b[0m\u001b[0;34m.\u001b[0m\u001b[0mrelu\u001b[0m\u001b[0;34m(\u001b[0m\u001b[0mout\u001b[0m\u001b[0;34m)\u001b[0m\u001b[0;34m\u001b[0m\u001b[0;34m\u001b[0m\u001b[0m\n\u001b[1;32m     73\u001b[0m \u001b[0;34m\u001b[0m\u001b[0m\n\u001b[0;32m---> 74\u001b[0;31m         \u001b[0mout\u001b[0m \u001b[0;34m=\u001b[0m \u001b[0mself\u001b[0m\u001b[0;34m.\u001b[0m\u001b[0mconv2\u001b[0m\u001b[0;34m(\u001b[0m\u001b[0mout\u001b[0m\u001b[0;34m)\u001b[0m\u001b[0;34m\u001b[0m\u001b[0;34m\u001b[0m\u001b[0m\n\u001b[0m\u001b[1;32m     75\u001b[0m         \u001b[0mout\u001b[0m \u001b[0;34m=\u001b[0m \u001b[0mself\u001b[0m\u001b[0;34m.\u001b[0m\u001b[0mbn2\u001b[0m\u001b[0;34m(\u001b[0m\u001b[0mout\u001b[0m\u001b[0;34m)\u001b[0m\u001b[0;34m\u001b[0m\u001b[0;34m\u001b[0m\u001b[0m\n\u001b[1;32m     76\u001b[0m \u001b[0;34m\u001b[0m\u001b[0m\n",
            "\u001b[0;32m/usr/local/lib/python3.7/dist-packages/torch/nn/modules/module.py\u001b[0m in \u001b[0;36m_call_impl\u001b[0;34m(self, *input, **kwargs)\u001b[0m\n\u001b[1;32m    887\u001b[0m             \u001b[0mresult\u001b[0m \u001b[0;34m=\u001b[0m \u001b[0mself\u001b[0m\u001b[0;34m.\u001b[0m\u001b[0m_slow_forward\u001b[0m\u001b[0;34m(\u001b[0m\u001b[0;34m*\u001b[0m\u001b[0minput\u001b[0m\u001b[0;34m,\u001b[0m \u001b[0;34m**\u001b[0m\u001b[0mkwargs\u001b[0m\u001b[0;34m)\u001b[0m\u001b[0;34m\u001b[0m\u001b[0;34m\u001b[0m\u001b[0m\n\u001b[1;32m    888\u001b[0m         \u001b[0;32melse\u001b[0m\u001b[0;34m:\u001b[0m\u001b[0;34m\u001b[0m\u001b[0;34m\u001b[0m\u001b[0m\n\u001b[0;32m--> 889\u001b[0;31m             \u001b[0mresult\u001b[0m \u001b[0;34m=\u001b[0m \u001b[0mself\u001b[0m\u001b[0;34m.\u001b[0m\u001b[0mforward\u001b[0m\u001b[0;34m(\u001b[0m\u001b[0;34m*\u001b[0m\u001b[0minput\u001b[0m\u001b[0;34m,\u001b[0m \u001b[0;34m**\u001b[0m\u001b[0mkwargs\u001b[0m\u001b[0;34m)\u001b[0m\u001b[0;34m\u001b[0m\u001b[0;34m\u001b[0m\u001b[0m\n\u001b[0m\u001b[1;32m    890\u001b[0m         for hook in itertools.chain(\n\u001b[1;32m    891\u001b[0m                 \u001b[0m_global_forward_hooks\u001b[0m\u001b[0;34m.\u001b[0m\u001b[0mvalues\u001b[0m\u001b[0;34m(\u001b[0m\u001b[0;34m)\u001b[0m\u001b[0;34m,\u001b[0m\u001b[0;34m\u001b[0m\u001b[0;34m\u001b[0m\u001b[0m\n",
            "\u001b[0;32m/usr/local/lib/python3.7/dist-packages/torch/nn/modules/conv.py\u001b[0m in \u001b[0;36mforward\u001b[0;34m(self, input)\u001b[0m\n\u001b[1;32m    397\u001b[0m \u001b[0;34m\u001b[0m\u001b[0m\n\u001b[1;32m    398\u001b[0m     \u001b[0;32mdef\u001b[0m \u001b[0mforward\u001b[0m\u001b[0;34m(\u001b[0m\u001b[0mself\u001b[0m\u001b[0;34m,\u001b[0m \u001b[0minput\u001b[0m\u001b[0;34m:\u001b[0m \u001b[0mTensor\u001b[0m\u001b[0;34m)\u001b[0m \u001b[0;34m->\u001b[0m \u001b[0mTensor\u001b[0m\u001b[0;34m:\u001b[0m\u001b[0;34m\u001b[0m\u001b[0;34m\u001b[0m\u001b[0m\n\u001b[0;32m--> 399\u001b[0;31m         \u001b[0;32mreturn\u001b[0m \u001b[0mself\u001b[0m\u001b[0;34m.\u001b[0m\u001b[0m_conv_forward\u001b[0m\u001b[0;34m(\u001b[0m\u001b[0minput\u001b[0m\u001b[0;34m,\u001b[0m \u001b[0mself\u001b[0m\u001b[0;34m.\u001b[0m\u001b[0mweight\u001b[0m\u001b[0;34m,\u001b[0m \u001b[0mself\u001b[0m\u001b[0;34m.\u001b[0m\u001b[0mbias\u001b[0m\u001b[0;34m)\u001b[0m\u001b[0;34m\u001b[0m\u001b[0;34m\u001b[0m\u001b[0m\n\u001b[0m\u001b[1;32m    400\u001b[0m \u001b[0;34m\u001b[0m\u001b[0m\n\u001b[1;32m    401\u001b[0m \u001b[0;32mclass\u001b[0m \u001b[0mConv3d\u001b[0m\u001b[0;34m(\u001b[0m\u001b[0m_ConvNd\u001b[0m\u001b[0;34m)\u001b[0m\u001b[0;34m:\u001b[0m\u001b[0;34m\u001b[0m\u001b[0;34m\u001b[0m\u001b[0m\n",
            "\u001b[0;32m/usr/local/lib/python3.7/dist-packages/torch/nn/modules/conv.py\u001b[0m in \u001b[0;36m_conv_forward\u001b[0;34m(self, input, weight, bias)\u001b[0m\n\u001b[1;32m    394\u001b[0m                             _pair(0), self.dilation, self.groups)\n\u001b[1;32m    395\u001b[0m         return F.conv2d(input, weight, bias, self.stride,\n\u001b[0;32m--> 396\u001b[0;31m                         self.padding, self.dilation, self.groups)\n\u001b[0m\u001b[1;32m    397\u001b[0m \u001b[0;34m\u001b[0m\u001b[0m\n\u001b[1;32m    398\u001b[0m     \u001b[0;32mdef\u001b[0m \u001b[0mforward\u001b[0m\u001b[0;34m(\u001b[0m\u001b[0mself\u001b[0m\u001b[0;34m,\u001b[0m \u001b[0minput\u001b[0m\u001b[0;34m:\u001b[0m \u001b[0mTensor\u001b[0m\u001b[0;34m)\u001b[0m \u001b[0;34m->\u001b[0m \u001b[0mTensor\u001b[0m\u001b[0;34m:\u001b[0m\u001b[0;34m\u001b[0m\u001b[0;34m\u001b[0m\u001b[0m\n",
            "\u001b[0;31mKeyboardInterrupt\u001b[0m: "
          ]
        }
      ]
    },
    {
      "cell_type": "markdown",
      "metadata": {
        "id": "Ks3EHXPmKrrx"
      },
      "source": [
        "# First comparison"
      ]
    },
    {
      "cell_type": "code",
      "metadata": {
        "colab": {
          "base_uri": "https://localhost:8080/",
          "height": 295
        },
        "id": "sNpMF8SGKvBb",
        "outputId": "7a1be555-9e8a-4087-a43a-4ddd90df573d"
      },
      "source": [
        "hists = [hist_simple, hist_upgraded, hist_fn_alexnet, hist_fe_alexnet,\n",
        "         hist_sc_alexnet, hist_fn_vgg, hist_fn_en, hist_fn_rn]\n",
        "\n",
        "hist_printable = [[h.cpu().numpy() for h in hist] for hist in hists]\n",
        "\n",
        "plt.title(\"Validation Accuracy vs. Number of Training Epochs\")\n",
        "plt.xlabel(\"Training Epochs\")\n",
        "plt.ylabel(\"Validation Accuracy\")\n",
        "names = [\"Simple\", \"Upgraded\", \"Finetuned Alexnet\", \"Feature extracted Alexnet\",\n",
        "         \"From scratch Alexnet\", \"Finetuned VGG\", \"Finetuned EN\",\n",
        "         \"Finetuned Resnet\"]\n",
        "for hist, name in zip(hist_printable, names):\n",
        "  plt.plot(range(1,6),hist,label=name)\n",
        "\n",
        "plt.ylim((0,1.))\n",
        "plt.xticks(np.arange(1, 6, 1.0))\n",
        "plt.legend()\n",
        "plt.show()"
      ],
      "execution_count": null,
      "outputs": [
        {
          "output_type": "display_data",
          "data": {
            "image/png": "[encoded data removed]",
            "text/plain": [
              "<Figure size 432x288 with 1 Axes>"
            ]
          },
          "metadata": {
            "tags": []
          }
        }
      ]
    },
    {
      "cell_type": "markdown",
      "metadata": {
        "id": "ugT0xLXmO0VF"
      },
      "source": [
        "# Data augmentation"
      ]
    },
    {
      "cell_type": "code",
      "metadata": {
        "colab": {
          "base_uri": "https://localhost:8080/"
        },
        "id": "KeabEHV8vtTs",
        "outputId": "5f6e0736-ae22-4feb-c4c5-662f6e0ba50f"
      },
      "source": [
        "transform_train = transforms.Compose([\n",
        "    # Data augmentation\n",
        "    transforms.Resize(224),                                \n",
        "    transforms.RandomCrop(224, padding=4),\n",
        "    transforms.RandomHorizontalFlip(),\n",
        "    transforms.ToTensor(),\n",
        "    transforms.Normalize((0.4914, 0.4822, 0.4465), (0.2023, 0.1994, 0.2010)),\n",
        "])\n",
        "\n",
        "transform_test = transforms.Compose([\n",
        "    transforms.Resize(224),\n",
        "    transforms.ToTensor(),\n",
        "    transforms.Normalize((0.4914, 0.4822, 0.4465), (0.2023, 0.1994, 0.2010)),\n",
        "])\n",
        "\n",
        "# Settings\n",
        "num_classes = 10\n",
        "batch_size = 64\n",
        "num_epochs = 5\n",
        "\n",
        "\n",
        "trainset = torchvision.datasets.CIFAR10(root='./data', train=True,\n",
        "                                        download=True,\n",
        "                                        transform=transform_train)\n",
        "trainloader = torch.utils.data.DataLoader(trainset, batch_size=batch_size,\n",
        "                                          shuffle=True, num_workers=2)\n",
        "\n",
        "testset = torchvision.datasets.CIFAR10(root='./data', train=False,\n",
        "                                       download=True, transform=transform_test)\n",
        "testloader = torch.utils.data.DataLoader(testset, batch_size=batch_size,\n",
        "                                         shuffle=False, num_workers=2)\n",
        "\n",
        "dataloaders_dict = {'train':trainloader, 'val':testloader}\n",
        "\n",
        "classes = ('plane', 'car', 'bird', 'cat',\n",
        "           'deer', 'dog', 'frog', 'horse', 'ship', 'truck')\n",
        "\n",
        "# Checking the dataset\n",
        "for images, labels in trainloader:  \n",
        "    print('Image batch dimensions:', images.shape)\n",
        "    print('Image label dimensions:', labels.shape)\n",
        "    break"
      ],
      "execution_count": null,
      "outputs": [
        {
          "output_type": "stream",
          "text": [
            "Files already downloaded and verified\n",
            "Files already downloaded and verified\n",
            "Image batch dimensions: torch.Size([64, 3, 224, 224])\n",
            "Image label dimensions: torch.Size([64])\n"
          ],
          "name": "stdout"
        }
      ]
    },
    {
      "cell_type": "code",
      "metadata": {
        "colab": {
          "base_uri": "https://localhost:8080/"
        },
        "id": "kcmpZLbQ0jg4",
        "outputId": "6dd451b4-c553-49e8-a593-bc988a8681b7"
      },
      "source": [
        "trainloader"
      ],
      "execution_count": null,
      "outputs": [
        {
          "output_type": "execute_result",
          "data": {
            "text/plain": [
              "<torch.utils.data.dataloader.DataLoader at 0x7fb310501990>"
            ]
          },
          "metadata": {
            "tags": []
          },
          "execution_count": 22
        }
      ]
    },
    {
      "cell_type": "markdown",
      "metadata": {
        "id": "aD9h2OtDh1is"
      },
      "source": [
        "## Efficientnet augmented"
      ]
    },
    {
      "cell_type": "code",
      "metadata": {
        "colab": {
          "base_uri": "https://localhost:8080/"
        },
        "id": "8ZY7WBRdh_i1",
        "outputId": "ad5ced8f-378c-4f67-8ba6-f801b70c6128"
      },
      "source": [
        "# Initialize the model for this run\n",
        "model_fn_en_aug = initialize_model(\"efficientnet\", num_classes,\n",
        "                               feature_extract=False, use_pretrained=True)\n",
        "model_fn_en_aug = model_fn_en_aug.to(device)\n",
        "optimizer = create_optimizer(model_fn_en_aug, feature_extract=False)\n",
        "# Setup the loss fxn\n",
        "criterion = nn.CrossEntropyLoss()\n",
        "# Train and evaluate\n",
        "model_fn_en_aug, hist_fn_en_aug = train_model(model_fn_en_aug,\n",
        "                                              dataloaders_dict,\n",
        "                                      criterion, optimizer,\n",
        "                                      num_epochs=num_epochs)"
      ],
      "execution_count": null,
      "outputs": [
        {
          "output_type": "stream",
          "text": [
            "Loaded pretrained weights for efficientnet-b0\n",
            "Params to learn:\n",
            "Epoch 1/5\n",
            "----------\n",
            "\n",
            "train Loss: 0.9698 Acc: 0.7525\n",
            "\n",
            "val Loss: 0.5034 Acc: 0.8449\n",
            "\n",
            "Epoch 2/5\n",
            "----------\n",
            "\n",
            "train Loss: 0.3375 Acc: 0.8910\n",
            "\n",
            "val Loss: 0.2538 Acc: 0.9212\n",
            "\n",
            "Epoch 3/5\n",
            "----------\n",
            "\n",
            "train Loss: 0.2498 Acc: 0.9176\n",
            "\n",
            "val Loss: 0.1899 Acc: 0.9368\n",
            "\n",
            "Epoch 4/5\n",
            "----------\n",
            "\n",
            "train Loss: 0.2100 Acc: 0.9311\n",
            "\n",
            "val Loss: 0.1753 Acc: 0.9436\n",
            "\n",
            "Epoch 5/5\n",
            "----------\n",
            "\n",
            "train Loss: 0.1788 Acc: 0.9415\n",
            "\n",
            "val Loss: 0.1379 Acc: 0.9545\n",
            "\n",
            "Training complete in 19m 49s\n",
            "Best val Acc: 0.954500\n"
          ],
          "name": "stdout"
        }
      ]
    },
    {
      "cell_type": "markdown",
      "metadata": {
        "id": "KbW3H3kvvjwo"
      },
      "source": [
        "## Resnet augmented"
      ]
    },
    {
      "cell_type": "code",
      "metadata": {
        "colab": {
          "base_uri": "https://localhost:8080/"
        },
        "id": "NdvmvXrmvi5v",
        "outputId": "6b6626ed-0b1d-470e-db27-152cbf8a983b"
      },
      "source": [
        "# Initialize the model for this run\n",
        "model_fn_rn_aug = initialize_model(\"resnet\", num_classes,\n",
        "                               feature_extract=False, use_pretrained=True)\n",
        "model_fn_rn_aug = model_fn_rn_aug.to(device)\n",
        "optimizer = create_optimizer(model_fn_rn_aug, feature_extract=False)\n",
        "# Setup the loss fxn\n",
        "criterion = nn.CrossEntropyLoss()\n",
        "# Train and evaluate\n",
        "model_fn_rn_aug, hist_fn_rn_aug = train_model(model_fn_rn_aug,\n",
        "                                              dataloaders_dict,\n",
        "                                      criterion, optimizer,\n",
        "                                      num_epochs=num_epochs)"
      ],
      "execution_count": null,
      "outputs": [
        {
          "output_type": "stream",
          "text": [
            "Params to learn:\n",
            "Epoch 1/5\n",
            "----------\n",
            "\n",
            "train Loss: 0.4828 Acc: 0.8470\n",
            "\n",
            "val Loss: 0.2235 Acc: 0.9253\n",
            "\n",
            "Epoch 2/5\n",
            "----------\n",
            "\n",
            "train Loss: 0.1925 Acc: 0.9351\n",
            "\n",
            "val Loss: 0.1736 Acc: 0.9400\n",
            "\n",
            "Epoch 3/5\n",
            "----------\n",
            "\n",
            "train Loss: 0.1436 Acc: 0.9523\n",
            "\n",
            "val Loss: 0.1523 Acc: 0.9488\n",
            "\n",
            "Epoch 4/5\n",
            "----------\n",
            "\n",
            "train Loss: 0.1119 Acc: 0.9634\n",
            "\n",
            "val Loss: 0.1472 Acc: 0.9468\n",
            "\n",
            "Epoch 5/5\n",
            "----------\n",
            "\n",
            "train Loss: 0.0883 Acc: 0.9717\n",
            "\n",
            "val Loss: 0.1447 Acc: 0.9497\n",
            "\n",
            "Training complete in 8m 24s\n",
            "Best val Acc: 0.949700\n"
          ],
          "name": "stdout"
        }
      ]
    },
    {
      "cell_type": "code",
      "metadata": {
        "colab": {
          "base_uri": "https://localhost:8080/",
          "height": 295
        },
        "id": "wUd8s_3t3rdr",
        "outputId": "06ac71ba-a8d4-4508-8725-61bdd20d4101"
      },
      "source": [
        "hists = [hist_fn_en, hist_fn_rn, hist_fn_en_aug, hist_fn_rn_aug]\n",
        "\n",
        "hist_printable = [[h.cpu().numpy() for h in hist] for hist in hists]\n",
        "\n",
        "plt.title(\"With vs withot augmentation\")\n",
        "plt.xlabel(\"Training Epochs\")\n",
        "plt.ylabel(\"Validation Accuracy\")\n",
        "names = [\"Finetuned EN\",\n",
        "         \"Finetuned Resnet\",\n",
        "         \"Finetuned EN with aug\",\n",
        "         \"Finetuned Resnet with aug\"]\n",
        "for hist, name in zip(hist_printable, names):\n",
        "  plt.plot(range(1,6),hist,label=name)\n",
        "\n",
        "plt.ylim((0.84,0.96))\n",
        "plt.xticks(np.arange(1, 6, 1.0))\n",
        "plt.legend()\n",
        "plt.show()"
      ],
      "execution_count": null,
      "outputs": [
        {
          "output_type": "display_data",
          "data": {
            "image/png": "[encoded data removed]",
            "text/plain": [
              "<Figure size 432x288 with 1 Axes>"
            ]
          },
          "metadata": {
            "tags": []
          }
        }
      ]
    },
    {
      "cell_type": "code",
      "metadata": {
        "colab": {
          "base_uri": "https://localhost:8080/"
        },
        "id": "b-6G9uiK571u",
        "outputId": "2288150e-8b80-4885-de9c-69ebc6f29fd8"
      },
      "source": [
        "# Free memory\n",
        "import gc\n",
        "del base_estimator\n",
        "gc.collect()"
      ],
      "execution_count": null,
      "outputs": [
        {
          "output_type": "execute_result",
          "data": {
            "text/plain": [
              "255"
            ]
          },
          "metadata": {
            "tags": []
          },
          "execution_count": 11
        }
      ]
    },
    {
      "cell_type": "markdown",
      "metadata": {
        "id": "AtHDrM4Ry3ZH"
      },
      "source": [
        "# Ensembling"
      ]
    },
    {
      "cell_type": "markdown",
      "metadata": {
        "id": "1k1dCq5tlrpR"
      },
      "source": [
        "## Torchensemble - Resnet"
      ]
    },
    {
      "cell_type": "code",
      "metadata": {
        "colab": {
          "base_uri": "https://localhost:8080/",
          "height": 1000
        },
        "id": "NXDJNxHIlqyV",
        "outputId": "b05d47cc-96ac-47e5-cc1a-bbad3f229972"
      },
      "source": [
        "base_estimator = initialize_model(\"resnet\", num_classes,\n",
        "                               feature_extract=False, use_pretrained=True)\n",
        "base_estimator = base_estimator.to(device)\n",
        "\n",
        "# Define the ensemble\n",
        "model_te= VotingClassifier(estimator=base_estimator,     \n",
        "                         n_estimators=5)              \n",
        "\n",
        "# Set the optimizer\n",
        "model_te.set_optimizer(\"SGD\",                            \n",
        "                    lr=0.001,\n",
        "                    momentum=0.9,\n",
        "                    weight_decay=5e-4)   \n",
        "\n",
        "# Set the scheduler\n",
        "#model.set_scheduler(\"CosineAnnealingLR\", T_max=num_epochs) \n",
        "\n",
        "# Train\n",
        "model_te.fit(trainloader,\n",
        "          epochs=num_epochs)                               \n",
        "                     "
      ],
      "execution_count": null,
      "outputs": [
        {
          "output_type": "stream",
          "text": [
            "Estimator: 000 | Epoch: 000 | Batch: 000 | Loss: 2.55175 | Correct: 6/64\n",
            "Estimator: 000 | Epoch: 000 | Batch: 100 | Loss: 0.68617 | Correct: 53/64\n",
            "Estimator: 000 | Epoch: 000 | Batch: 200 | Loss: 0.42145 | Correct: 57/64\n",
            "Estimator: 000 | Epoch: 000 | Batch: 300 | Loss: 0.40054 | Correct: 53/64\n",
            "Estimator: 000 | Epoch: 000 | Batch: 400 | Loss: 0.28067 | Correct: 58/64\n",
            "Estimator: 000 | Epoch: 000 | Batch: 500 | Loss: 0.26995 | Correct: 58/64\n",
            "Estimator: 000 | Epoch: 000 | Batch: 600 | Loss: 0.16412 | Correct: 60/64\n",
            "Estimator: 000 | Epoch: 000 | Batch: 700 | Loss: 0.32827 | Correct: 57/64\n",
            "Estimator: 001 | Epoch: 000 | Batch: 000 | Loss: 2.53999 | Correct: 9/64\n",
            "Estimator: 001 | Epoch: 000 | Batch: 100 | Loss: 0.74340 | Correct: 50/64\n",
            "Estimator: 001 | Epoch: 000 | Batch: 200 | Loss: 0.46787 | Correct: 53/64\n",
            "Estimator: 001 | Epoch: 000 | Batch: 300 | Loss: 0.45205 | Correct: 53/64\n",
            "Estimator: 001 | Epoch: 000 | Batch: 400 | Loss: 0.24291 | Correct: 59/64\n",
            "Estimator: 001 | Epoch: 000 | Batch: 500 | Loss: 0.18546 | Correct: 60/64\n",
            "Estimator: 001 | Epoch: 000 | Batch: 600 | Loss: 0.25931 | Correct: 59/64\n",
            "Estimator: 001 | Epoch: 000 | Batch: 700 | Loss: 0.25520 | Correct: 59/64\n",
            "Estimator: 002 | Epoch: 000 | Batch: 000 | Loss: 2.49792 | Correct: 10/64\n",
            "Estimator: 002 | Epoch: 000 | Batch: 100 | Loss: 0.59614 | Correct: 56/64\n",
            "Estimator: 002 | Epoch: 000 | Batch: 200 | Loss: 0.45693 | Correct: 57/64\n",
            "Estimator: 002 | Epoch: 000 | Batch: 300 | Loss: 0.36959 | Correct: 59/64\n",
            "Estimator: 002 | Epoch: 000 | Batch: 400 | Loss: 0.22106 | Correct: 60/64\n",
            "Estimator: 002 | Epoch: 000 | Batch: 500 | Loss: 0.21514 | Correct: 60/64\n",
            "Estimator: 002 | Epoch: 000 | Batch: 600 | Loss: 0.23817 | Correct: 59/64\n",
            "Estimator: 002 | Epoch: 000 | Batch: 700 | Loss: 0.33590 | Correct: 56/64\n",
            "Estimator: 003 | Epoch: 000 | Batch: 000 | Loss: 2.51923 | Correct: 9/64\n",
            "Estimator: 003 | Epoch: 000 | Batch: 100 | Loss: 0.67583 | Correct: 51/64\n",
            "Estimator: 003 | Epoch: 000 | Batch: 200 | Loss: 0.44993 | Correct: 58/64\n",
            "Estimator: 003 | Epoch: 000 | Batch: 300 | Loss: 0.32647 | Correct: 58/64\n",
            "Estimator: 003 | Epoch: 000 | Batch: 400 | Loss: 0.25041 | Correct: 60/64\n",
            "Estimator: 003 | Epoch: 000 | Batch: 500 | Loss: 0.37444 | Correct: 57/64\n",
            "Estimator: 003 | Epoch: 000 | Batch: 600 | Loss: 0.23221 | Correct: 60/64\n",
            "Estimator: 003 | Epoch: 000 | Batch: 700 | Loss: 0.11030 | Correct: 63/64\n",
            "Estimator: 004 | Epoch: 000 | Batch: 000 | Loss: 2.55999 | Correct: 7/64\n",
            "Estimator: 004 | Epoch: 000 | Batch: 100 | Loss: 0.60789 | Correct: 54/64\n",
            "Estimator: 004 | Epoch: 000 | Batch: 200 | Loss: 0.62530 | Correct: 53/64\n",
            "Estimator: 004 | Epoch: 000 | Batch: 300 | Loss: 0.37306 | Correct: 57/64\n",
            "Estimator: 004 | Epoch: 000 | Batch: 400 | Loss: 0.40545 | Correct: 57/64\n",
            "Estimator: 004 | Epoch: 000 | Batch: 500 | Loss: 0.27709 | Correct: 58/64\n",
            "Estimator: 004 | Epoch: 000 | Batch: 600 | Loss: 0.25676 | Correct: 59/64\n",
            "Estimator: 004 | Epoch: 000 | Batch: 700 | Loss: 0.45716 | Correct: 54/64\n",
            "Estimator: 000 | Epoch: 001 | Batch: 000 | Loss: 0.21902 | Correct: 61/64\n",
            "Estimator: 000 | Epoch: 001 | Batch: 100 | Loss: 0.21877 | Correct: 58/64\n",
            "Estimator: 000 | Epoch: 001 | Batch: 200 | Loss: 0.17957 | Correct: 60/64\n",
            "Estimator: 000 | Epoch: 001 | Batch: 300 | Loss: 0.13809 | Correct: 60/64\n",
            "Estimator: 000 | Epoch: 001 | Batch: 400 | Loss: 0.15305 | Correct: 62/64\n",
            "Estimator: 000 | Epoch: 001 | Batch: 500 | Loss: 0.20167 | Correct: 59/64\n",
            "Estimator: 000 | Epoch: 001 | Batch: 600 | Loss: 0.25774 | Correct: 58/64\n",
            "Estimator: 000 | Epoch: 001 | Batch: 700 | Loss: 0.19506 | Correct: 59/64\n",
            "Estimator: 001 | Epoch: 001 | Batch: 000 | Loss: 0.35206 | Correct: 54/64\n",
            "Estimator: 001 | Epoch: 001 | Batch: 100 | Loss: 0.21303 | Correct: 60/64\n",
            "Estimator: 001 | Epoch: 001 | Batch: 200 | Loss: 0.17493 | Correct: 60/64\n",
            "Estimator: 001 | Epoch: 001 | Batch: 300 | Loss: 0.30551 | Correct: 58/64\n",
            "Estimator: 001 | Epoch: 001 | Batch: 400 | Loss: 0.16339 | Correct: 61/64\n",
            "Estimator: 001 | Epoch: 001 | Batch: 500 | Loss: 0.24417 | Correct: 60/64\n",
            "Estimator: 001 | Epoch: 001 | Batch: 600 | Loss: 0.15764 | Correct: 60/64\n",
            "Estimator: 001 | Epoch: 001 | Batch: 700 | Loss: 0.24256 | Correct: 60/64\n",
            "Estimator: 002 | Epoch: 001 | Batch: 000 | Loss: 0.18562 | Correct: 61/64\n",
            "Estimator: 002 | Epoch: 001 | Batch: 100 | Loss: 0.20980 | Correct: 57/64\n",
            "Estimator: 002 | Epoch: 001 | Batch: 200 | Loss: 0.17031 | Correct: 60/64\n",
            "Estimator: 002 | Epoch: 001 | Batch: 300 | Loss: 0.18344 | Correct: 60/64\n",
            "Estimator: 002 | Epoch: 001 | Batch: 400 | Loss: 0.12236 | Correct: 62/64\n",
            "Estimator: 002 | Epoch: 001 | Batch: 500 | Loss: 0.12910 | Correct: 62/64\n",
            "Estimator: 002 | Epoch: 001 | Batch: 600 | Loss: 0.23798 | Correct: 58/64\n",
            "Estimator: 002 | Epoch: 001 | Batch: 700 | Loss: 0.13735 | Correct: 62/64\n",
            "Estimator: 003 | Epoch: 001 | Batch: 000 | Loss: 0.13719 | Correct: 62/64\n",
            "Estimator: 003 | Epoch: 001 | Batch: 100 | Loss: 0.15804 | Correct: 61/64\n",
            "Estimator: 003 | Epoch: 001 | Batch: 200 | Loss: 0.13225 | Correct: 61/64\n",
            "Estimator: 003 | Epoch: 001 | Batch: 300 | Loss: 0.14548 | Correct: 60/64\n",
            "Estimator: 003 | Epoch: 001 | Batch: 400 | Loss: 0.17797 | Correct: 60/64\n",
            "Estimator: 003 | Epoch: 001 | Batch: 500 | Loss: 0.10117 | Correct: 62/64\n",
            "Estimator: 003 | Epoch: 001 | Batch: 600 | Loss: 0.17938 | Correct: 61/64\n",
            "Estimator: 003 | Epoch: 001 | Batch: 700 | Loss: 0.20493 | Correct: 59/64\n",
            "Estimator: 004 | Epoch: 001 | Batch: 000 | Loss: 0.10365 | Correct: 63/64\n",
            "Estimator: 004 | Epoch: 001 | Batch: 100 | Loss: 0.30175 | Correct: 55/64\n",
            "Estimator: 004 | Epoch: 001 | Batch: 200 | Loss: 0.21553 | Correct: 60/64\n",
            "Estimator: 004 | Epoch: 001 | Batch: 300 | Loss: 0.16792 | Correct: 61/64\n",
            "Estimator: 004 | Epoch: 001 | Batch: 400 | Loss: 0.24459 | Correct: 60/64\n",
            "Estimator: 004 | Epoch: 001 | Batch: 500 | Loss: 0.11734 | Correct: 60/64\n",
            "Estimator: 004 | Epoch: 001 | Batch: 600 | Loss: 0.23617 | Correct: 59/64\n",
            "Estimator: 004 | Epoch: 001 | Batch: 700 | Loss: 0.15842 | Correct: 61/64\n",
            "Estimator: 000 | Epoch: 002 | Batch: 000 | Loss: 0.08553 | Correct: 62/64\n",
            "Estimator: 000 | Epoch: 002 | Batch: 100 | Loss: 0.12910 | Correct: 60/64\n",
            "Estimator: 000 | Epoch: 002 | Batch: 200 | Loss: 0.19221 | Correct: 60/64\n",
            "Estimator: 000 | Epoch: 002 | Batch: 300 | Loss: 0.17736 | Correct: 61/64\n",
            "Estimator: 000 | Epoch: 002 | Batch: 400 | Loss: 0.27696 | Correct: 57/64\n",
            "Estimator: 000 | Epoch: 002 | Batch: 500 | Loss: 0.14378 | Correct: 60/64\n",
            "Estimator: 000 | Epoch: 002 | Batch: 600 | Loss: 0.15743 | Correct: 61/64\n",
            "Estimator: 000 | Epoch: 002 | Batch: 700 | Loss: 0.14935 | Correct: 58/64\n",
            "Estimator: 001 | Epoch: 002 | Batch: 000 | Loss: 0.12310 | Correct: 61/64\n",
            "Estimator: 001 | Epoch: 002 | Batch: 100 | Loss: 0.12392 | Correct: 62/64\n",
            "Estimator: 001 | Epoch: 002 | Batch: 200 | Loss: 0.09477 | Correct: 61/64\n",
            "Estimator: 001 | Epoch: 002 | Batch: 300 | Loss: 0.16863 | Correct: 59/64\n",
            "Estimator: 001 | Epoch: 002 | Batch: 400 | Loss: 0.15537 | Correct: 61/64\n",
            "Estimator: 001 | Epoch: 002 | Batch: 500 | Loss: 0.25153 | Correct: 58/64\n",
            "Estimator: 001 | Epoch: 002 | Batch: 600 | Loss: 0.09729 | Correct: 63/64\n",
            "Estimator: 001 | Epoch: 002 | Batch: 700 | Loss: 0.09554 | Correct: 62/64\n",
            "Estimator: 002 | Epoch: 002 | Batch: 000 | Loss: 0.12186 | Correct: 63/64\n",
            "Estimator: 002 | Epoch: 002 | Batch: 100 | Loss: 0.31237 | Correct: 57/64\n",
            "Estimator: 002 | Epoch: 002 | Batch: 200 | Loss: 0.25550 | Correct: 59/64\n",
            "Estimator: 002 | Epoch: 002 | Batch: 300 | Loss: 0.19173 | Correct: 59/64\n",
            "Estimator: 002 | Epoch: 002 | Batch: 400 | Loss: 0.06650 | Correct: 64/64\n",
            "Estimator: 002 | Epoch: 002 | Batch: 500 | Loss: 0.31230 | Correct: 58/64\n",
            "Estimator: 002 | Epoch: 002 | Batch: 600 | Loss: 0.13439 | Correct: 59/64\n",
            "Estimator: 002 | Epoch: 002 | Batch: 700 | Loss: 0.12420 | Correct: 61/64\n",
            "Estimator: 003 | Epoch: 002 | Batch: 000 | Loss: 0.06571 | Correct: 63/64\n",
            "Estimator: 003 | Epoch: 002 | Batch: 100 | Loss: 0.11643 | Correct: 62/64\n",
            "Estimator: 003 | Epoch: 002 | Batch: 200 | Loss: 0.28425 | Correct: 56/64\n",
            "Estimator: 003 | Epoch: 002 | Batch: 300 | Loss: 0.14608 | Correct: 60/64\n",
            "Estimator: 003 | Epoch: 002 | Batch: 400 | Loss: 0.12353 | Correct: 61/64\n",
            "Estimator: 003 | Epoch: 002 | Batch: 500 | Loss: 0.13452 | Correct: 60/64\n",
            "Estimator: 003 | Epoch: 002 | Batch: 600 | Loss: 0.10661 | Correct: 61/64\n",
            "Estimator: 003 | Epoch: 002 | Batch: 700 | Loss: 0.08430 | Correct: 61/64\n",
            "Estimator: 004 | Epoch: 002 | Batch: 000 | Loss: 0.08082 | Correct: 63/64\n",
            "Estimator: 004 | Epoch: 002 | Batch: 100 | Loss: 0.17865 | Correct: 61/64\n",
            "Estimator: 004 | Epoch: 002 | Batch: 200 | Loss: 0.13668 | Correct: 62/64\n",
            "Estimator: 004 | Epoch: 002 | Batch: 300 | Loss: 0.18970 | Correct: 58/64\n",
            "Estimator: 004 | Epoch: 002 | Batch: 400 | Loss: 0.08451 | Correct: 63/64\n",
            "Estimator: 004 | Epoch: 002 | Batch: 500 | Loss: 0.11175 | Correct: 63/64\n",
            "Estimator: 004 | Epoch: 002 | Batch: 600 | Loss: 0.10048 | Correct: 60/64\n",
            "Estimator: 004 | Epoch: 002 | Batch: 700 | Loss: 0.16508 | Correct: 61/64\n",
            "Estimator: 000 | Epoch: 003 | Batch: 000 | Loss: 0.13089 | Correct: 62/64\n",
            "Estimator: 000 | Epoch: 003 | Batch: 100 | Loss: 0.15585 | Correct: 62/64\n",
            "Estimator: 000 | Epoch: 003 | Batch: 200 | Loss: 0.09197 | Correct: 62/64\n",
            "Estimator: 000 | Epoch: 003 | Batch: 300 | Loss: 0.34061 | Correct: 55/64\n",
            "Estimator: 000 | Epoch: 003 | Batch: 400 | Loss: 0.04732 | Correct: 64/64\n",
            "Estimator: 000 | Epoch: 003 | Batch: 500 | Loss: 0.13672 | Correct: 62/64\n",
            "Estimator: 000 | Epoch: 003 | Batch: 600 | Loss: 0.14693 | Correct: 58/64\n",
            "Estimator: 000 | Epoch: 003 | Batch: 700 | Loss: 0.08890 | Correct: 63/64\n",
            "Estimator: 001 | Epoch: 003 | Batch: 000 | Loss: 0.22197 | Correct: 59/64\n",
            "Estimator: 001 | Epoch: 003 | Batch: 100 | Loss: 0.15891 | Correct: 60/64\n",
            "Estimator: 001 | Epoch: 003 | Batch: 200 | Loss: 0.14918 | Correct: 60/64\n",
            "Estimator: 001 | Epoch: 003 | Batch: 300 | Loss: 0.12434 | Correct: 61/64\n",
            "Estimator: 001 | Epoch: 003 | Batch: 400 | Loss: 0.11464 | Correct: 61/64\n",
            "Estimator: 001 | Epoch: 003 | Batch: 500 | Loss: 0.09049 | Correct: 62/64\n",
            "Estimator: 001 | Epoch: 003 | Batch: 600 | Loss: 0.05638 | Correct: 63/64\n",
            "Estimator: 001 | Epoch: 003 | Batch: 700 | Loss: 0.09822 | Correct: 62/64\n",
            "Estimator: 002 | Epoch: 003 | Batch: 000 | Loss: 0.15768 | Correct: 61/64\n",
            "Estimator: 002 | Epoch: 003 | Batch: 100 | Loss: 0.03406 | Correct: 64/64\n",
            "Estimator: 002 | Epoch: 003 | Batch: 200 | Loss: 0.08223 | Correct: 63/64\n",
            "Estimator: 002 | Epoch: 003 | Batch: 300 | Loss: 0.11098 | Correct: 59/64\n",
            "Estimator: 002 | Epoch: 003 | Batch: 400 | Loss: 0.17902 | Correct: 61/64\n",
            "Estimator: 002 | Epoch: 003 | Batch: 500 | Loss: 0.19874 | Correct: 61/64\n",
            "Estimator: 002 | Epoch: 003 | Batch: 600 | Loss: 0.10553 | Correct: 62/64\n",
            "Estimator: 002 | Epoch: 003 | Batch: 700 | Loss: 0.19903 | Correct: 59/64\n",
            "Estimator: 003 | Epoch: 003 | Batch: 000 | Loss: 0.05295 | Correct: 63/64\n",
            "Estimator: 003 | Epoch: 003 | Batch: 100 | Loss: 0.18795 | Correct: 62/64\n",
            "Estimator: 003 | Epoch: 003 | Batch: 200 | Loss: 0.10927 | Correct: 60/64\n",
            "Estimator: 003 | Epoch: 003 | Batch: 300 | Loss: 0.24278 | Correct: 58/64\n",
            "Estimator: 003 | Epoch: 003 | Batch: 400 | Loss: 0.12437 | Correct: 62/64\n",
            "Estimator: 003 | Epoch: 003 | Batch: 500 | Loss: 0.28976 | Correct: 56/64\n",
            "Estimator: 003 | Epoch: 003 | Batch: 600 | Loss: 0.08309 | Correct: 63/64\n",
            "Estimator: 003 | Epoch: 003 | Batch: 700 | Loss: 0.06946 | Correct: 63/64\n",
            "Estimator: 004 | Epoch: 003 | Batch: 000 | Loss: 0.10415 | Correct: 60/64\n",
            "Estimator: 004 | Epoch: 003 | Batch: 100 | Loss: 0.08653 | Correct: 62/64\n",
            "Estimator: 004 | Epoch: 003 | Batch: 200 | Loss: 0.13578 | Correct: 62/64\n",
            "Estimator: 004 | Epoch: 003 | Batch: 300 | Loss: 0.08037 | Correct: 63/64\n",
            "Estimator: 004 | Epoch: 003 | Batch: 400 | Loss: 0.05526 | Correct: 63/64\n",
            "Estimator: 004 | Epoch: 003 | Batch: 500 | Loss: 0.06911 | Correct: 62/64\n",
            "Estimator: 004 | Epoch: 003 | Batch: 600 | Loss: 0.05996 | Correct: 62/64\n",
            "Estimator: 004 | Epoch: 003 | Batch: 700 | Loss: 0.09178 | Correct: 62/64\n",
            "Estimator: 000 | Epoch: 004 | Batch: 000 | Loss: 0.06528 | Correct: 62/64\n",
            "Estimator: 000 | Epoch: 004 | Batch: 100 | Loss: 0.10937 | Correct: 63/64\n",
            "Estimator: 000 | Epoch: 004 | Batch: 200 | Loss: 0.05141 | Correct: 62/64\n",
            "Estimator: 000 | Epoch: 004 | Batch: 300 | Loss: 0.19289 | Correct: 59/64\n",
            "Estimator: 000 | Epoch: 004 | Batch: 400 | Loss: 0.03976 | Correct: 64/64\n",
            "Estimator: 000 | Epoch: 004 | Batch: 500 | Loss: 0.10493 | Correct: 62/64\n",
            "Estimator: 000 | Epoch: 004 | Batch: 600 | Loss: 0.08559 | Correct: 62/64\n",
            "Estimator: 000 | Epoch: 004 | Batch: 700 | Loss: 0.10306 | Correct: 61/64\n",
            "Estimator: 001 | Epoch: 004 | Batch: 000 | Loss: 0.05881 | Correct: 64/64\n",
            "Estimator: 001 | Epoch: 004 | Batch: 100 | Loss: 0.03915 | Correct: 63/64\n",
            "Estimator: 001 | Epoch: 004 | Batch: 200 | Loss: 0.04933 | Correct: 63/64\n",
            "Estimator: 001 | Epoch: 004 | Batch: 300 | Loss: 0.15980 | Correct: 59/64\n",
            "Estimator: 001 | Epoch: 004 | Batch: 400 | Loss: 0.10362 | Correct: 63/64\n",
            "Estimator: 001 | Epoch: 004 | Batch: 500 | Loss: 0.15339 | Correct: 63/64\n",
            "Estimator: 001 | Epoch: 004 | Batch: 600 | Loss: 0.14532 | Correct: 61/64\n",
            "Estimator: 001 | Epoch: 004 | Batch: 700 | Loss: 0.09952 | Correct: 63/64\n",
            "Estimator: 002 | Epoch: 004 | Batch: 000 | Loss: 0.09479 | Correct: 62/64\n",
            "Estimator: 002 | Epoch: 004 | Batch: 100 | Loss: 0.18407 | Correct: 59/64\n",
            "Estimator: 002 | Epoch: 004 | Batch: 200 | Loss: 0.12792 | Correct: 62/64\n",
            "Estimator: 002 | Epoch: 004 | Batch: 300 | Loss: 0.10612 | Correct: 62/64\n",
            "Estimator: 002 | Epoch: 004 | Batch: 400 | Loss: 0.04653 | Correct: 63/64\n",
            "Estimator: 002 | Epoch: 004 | Batch: 500 | Loss: 0.10505 | Correct: 60/64\n",
            "Estimator: 002 | Epoch: 004 | Batch: 600 | Loss: 0.01054 | Correct: 64/64\n",
            "Estimator: 002 | Epoch: 004 | Batch: 700 | Loss: 0.10386 | Correct: 61/64\n",
            "Estimator: 003 | Epoch: 004 | Batch: 000 | Loss: 0.09404 | Correct: 63/64\n",
            "Estimator: 003 | Epoch: 004 | Batch: 100 | Loss: 0.06282 | Correct: 62/64\n",
            "Estimator: 003 | Epoch: 004 | Batch: 200 | Loss: 0.01961 | Correct: 64/64\n",
            "Estimator: 003 | Epoch: 004 | Batch: 300 | Loss: 0.05111 | Correct: 64/64\n",
            "Estimator: 003 | Epoch: 004 | Batch: 400 | Loss: 0.02818 | Correct: 64/64\n",
            "Estimator: 003 | Epoch: 004 | Batch: 500 | Loss: 0.14901 | Correct: 59/64\n",
            "Estimator: 003 | Epoch: 004 | Batch: 600 | Loss: 0.02590 | Correct: 64/64\n",
            "Estimator: 003 | Epoch: 004 | Batch: 700 | Loss: 0.10146 | Correct: 62/64\n",
            "Estimator: 004 | Epoch: 004 | Batch: 000 | Loss: 0.05198 | Correct: 63/64\n",
            "Estimator: 004 | Epoch: 004 | Batch: 100 | Loss: 0.02805 | Correct: 64/64\n",
            "Estimator: 004 | Epoch: 004 | Batch: 200 | Loss: 0.16442 | Correct: 60/64\n",
            "Estimator: 004 | Epoch: 004 | Batch: 300 | Loss: 0.07136 | Correct: 61/64\n",
            "Estimator: 004 | Epoch: 004 | Batch: 400 | Loss: 0.04749 | Correct: 63/64\n",
            "Estimator: 004 | Epoch: 004 | Batch: 500 | Loss: 0.09383 | Correct: 62/64\n",
            "Estimator: 004 | Epoch: 004 | Batch: 600 | Loss: 0.01743 | Correct: 64/64\n",
            "Estimator: 004 | Epoch: 004 | Batch: 700 | Loss: 0.10552 | Correct: 62/64\n"
          ],
          "name": "stdout"
        },
        {
          "output_type": "error",
          "ename": "RuntimeError",
          "evalue": "ignored",
          "traceback": [
            "\u001b[0;31m---------------------------------------------------------------------------\u001b[0m",
            "\u001b[0;31mRuntimeError\u001b[0m                              Traceback (most recent call last)",
            "\u001b[0;32m<ipython-input-57-95d9f096def7>\u001b[0m in \u001b[0;36m<module>\u001b[0;34m()\u001b[0m\n\u001b[1;32m     21\u001b[0m \u001b[0;34m\u001b[0m\u001b[0m\n\u001b[1;32m     22\u001b[0m \u001b[0;31m# Evaluate\u001b[0m\u001b[0;34m\u001b[0m\u001b[0;34m\u001b[0m\u001b[0;34m\u001b[0m\u001b[0m\n\u001b[0;32m---> 23\u001b[0;31m \u001b[0macc\u001b[0m \u001b[0;34m=\u001b[0m \u001b[0mmodel_te\u001b[0m\u001b[0;34m.\u001b[0m\u001b[0mpredict\u001b[0m\u001b[0;34m(\u001b[0m\u001b[0mtestloader\u001b[0m\u001b[0;34m)\u001b[0m\u001b[0;34m\u001b[0m\u001b[0;34m\u001b[0m\u001b[0m\n\u001b[0m\u001b[1;32m     24\u001b[0m \u001b[0mprint\u001b[0m\u001b[0;34m(\u001b[0m\u001b[0macc\u001b[0m\u001b[0;34m)\u001b[0m\u001b[0;34m\u001b[0m\u001b[0;34m\u001b[0m\u001b[0m\n",
            "\u001b[0;32m/usr/local/lib/python3.7/dist-packages/torchensemble/voting.py\u001b[0m in \u001b[0;36mpredict\u001b[0;34m(self, test_loader)\u001b[0m\n\u001b[1;32m    258\u001b[0m         \u001b[0;32mfor\u001b[0m \u001b[0m_\u001b[0m\u001b[0;34m,\u001b[0m \u001b[0;34m(\u001b[0m\u001b[0mdata\u001b[0m\u001b[0;34m,\u001b[0m \u001b[0mtarget\u001b[0m\u001b[0;34m)\u001b[0m \u001b[0;32min\u001b[0m \u001b[0menumerate\u001b[0m\u001b[0;34m(\u001b[0m\u001b[0mtest_loader\u001b[0m\u001b[0;34m)\u001b[0m\u001b[0;34m:\u001b[0m\u001b[0;34m\u001b[0m\u001b[0;34m\u001b[0m\u001b[0m\n\u001b[1;32m    259\u001b[0m             \u001b[0mdata\u001b[0m\u001b[0;34m,\u001b[0m \u001b[0mtarget\u001b[0m \u001b[0;34m=\u001b[0m \u001b[0mdata\u001b[0m\u001b[0;34m.\u001b[0m\u001b[0mto\u001b[0m\u001b[0;34m(\u001b[0m\u001b[0mself\u001b[0m\u001b[0;34m.\u001b[0m\u001b[0mdevice\u001b[0m\u001b[0;34m)\u001b[0m\u001b[0;34m,\u001b[0m \u001b[0mtarget\u001b[0m\u001b[0;34m.\u001b[0m\u001b[0mto\u001b[0m\u001b[0;34m(\u001b[0m\u001b[0mself\u001b[0m\u001b[0;34m.\u001b[0m\u001b[0mdevice\u001b[0m\u001b[0;34m)\u001b[0m\u001b[0;34m\u001b[0m\u001b[0;34m\u001b[0m\u001b[0m\n\u001b[0;32m--> 260\u001b[0;31m             \u001b[0moutput\u001b[0m \u001b[0;34m=\u001b[0m \u001b[0mself\u001b[0m\u001b[0;34m.\u001b[0m\u001b[0mforward\u001b[0m\u001b[0;34m(\u001b[0m\u001b[0mdata\u001b[0m\u001b[0;34m)\u001b[0m\u001b[0;34m\u001b[0m\u001b[0;34m\u001b[0m\u001b[0m\n\u001b[0m\u001b[1;32m    261\u001b[0m             \u001b[0m_\u001b[0m\u001b[0;34m,\u001b[0m \u001b[0mpredicted\u001b[0m \u001b[0;34m=\u001b[0m \u001b[0mtorch\u001b[0m\u001b[0;34m.\u001b[0m\u001b[0mmax\u001b[0m\u001b[0;34m(\u001b[0m\u001b[0moutput\u001b[0m\u001b[0;34m.\u001b[0m\u001b[0mdata\u001b[0m\u001b[0;34m,\u001b[0m \u001b[0;36m1\u001b[0m\u001b[0;34m)\u001b[0m\u001b[0;34m\u001b[0m\u001b[0;34m\u001b[0m\u001b[0m\n\u001b[1;32m    262\u001b[0m             \u001b[0mcorrect\u001b[0m \u001b[0;34m+=\u001b[0m \u001b[0;34m(\u001b[0m\u001b[0mpredicted\u001b[0m \u001b[0;34m==\u001b[0m \u001b[0mtarget\u001b[0m\u001b[0;34m)\u001b[0m\u001b[0;34m.\u001b[0m\u001b[0msum\u001b[0m\u001b[0;34m(\u001b[0m\u001b[0;34m)\u001b[0m\u001b[0;34m.\u001b[0m\u001b[0mitem\u001b[0m\u001b[0;34m(\u001b[0m\u001b[0;34m)\u001b[0m\u001b[0;34m\u001b[0m\u001b[0;34m\u001b[0m\u001b[0m\n",
            "\u001b[0;32m/usr/local/lib/python3.7/dist-packages/torchensemble/voting.py\u001b[0m in \u001b[0;36mforward\u001b[0;34m(self, x)\u001b[0m\n\u001b[1;32m     95\u001b[0m         \u001b[0;31m# Take the average over class distributions from all base estimators.\u001b[0m\u001b[0;34m\u001b[0m\u001b[0;34m\u001b[0m\u001b[0;34m\u001b[0m\u001b[0m\n\u001b[1;32m     96\u001b[0m         outputs = [\n\u001b[0;32m---> 97\u001b[0;31m             \u001b[0mF\u001b[0m\u001b[0;34m.\u001b[0m\u001b[0msoftmax\u001b[0m\u001b[0;34m(\u001b[0m\u001b[0mestimator\u001b[0m\u001b[0;34m(\u001b[0m\u001b[0mx\u001b[0m\u001b[0;34m)\u001b[0m\u001b[0;34m,\u001b[0m \u001b[0mdim\u001b[0m\u001b[0;34m=\u001b[0m\u001b[0;36m1\u001b[0m\u001b[0;34m)\u001b[0m \u001b[0;32mfor\u001b[0m \u001b[0mestimator\u001b[0m \u001b[0;32min\u001b[0m \u001b[0mself\u001b[0m\u001b[0;34m.\u001b[0m\u001b[0mestimators_\u001b[0m\u001b[0;34m\u001b[0m\u001b[0;34m\u001b[0m\u001b[0m\n\u001b[0m\u001b[1;32m     98\u001b[0m         ]\n\u001b[1;32m     99\u001b[0m         \u001b[0mproba\u001b[0m \u001b[0;34m=\u001b[0m \u001b[0mop\u001b[0m\u001b[0;34m.\u001b[0m\u001b[0maverage\u001b[0m\u001b[0;34m(\u001b[0m\u001b[0moutputs\u001b[0m\u001b[0;34m)\u001b[0m\u001b[0;34m\u001b[0m\u001b[0;34m\u001b[0m\u001b[0m\n",
            "\u001b[0;32m/usr/local/lib/python3.7/dist-packages/torchensemble/voting.py\u001b[0m in \u001b[0;36m<listcomp>\u001b[0;34m(.0)\u001b[0m\n\u001b[1;32m     95\u001b[0m         \u001b[0;31m# Take the average over class distributions from all base estimators.\u001b[0m\u001b[0;34m\u001b[0m\u001b[0;34m\u001b[0m\u001b[0;34m\u001b[0m\u001b[0m\n\u001b[1;32m     96\u001b[0m         outputs = [\n\u001b[0;32m---> 97\u001b[0;31m             \u001b[0mF\u001b[0m\u001b[0;34m.\u001b[0m\u001b[0msoftmax\u001b[0m\u001b[0;34m(\u001b[0m\u001b[0mestimator\u001b[0m\u001b[0;34m(\u001b[0m\u001b[0mx\u001b[0m\u001b[0;34m)\u001b[0m\u001b[0;34m,\u001b[0m \u001b[0mdim\u001b[0m\u001b[0;34m=\u001b[0m\u001b[0;36m1\u001b[0m\u001b[0;34m)\u001b[0m \u001b[0;32mfor\u001b[0m \u001b[0mestimator\u001b[0m \u001b[0;32min\u001b[0m \u001b[0mself\u001b[0m\u001b[0;34m.\u001b[0m\u001b[0mestimators_\u001b[0m\u001b[0;34m\u001b[0m\u001b[0;34m\u001b[0m\u001b[0m\n\u001b[0m\u001b[1;32m     98\u001b[0m         ]\n\u001b[1;32m     99\u001b[0m         \u001b[0mproba\u001b[0m \u001b[0;34m=\u001b[0m \u001b[0mop\u001b[0m\u001b[0;34m.\u001b[0m\u001b[0maverage\u001b[0m\u001b[0;34m(\u001b[0m\u001b[0moutputs\u001b[0m\u001b[0;34m)\u001b[0m\u001b[0;34m\u001b[0m\u001b[0;34m\u001b[0m\u001b[0m\n",
            "\u001b[0;32m/usr/local/lib/python3.7/dist-packages/torch/nn/modules/module.py\u001b[0m in \u001b[0;36m_call_impl\u001b[0;34m(self, *input, **kwargs)\u001b[0m\n\u001b[1;32m    887\u001b[0m             \u001b[0mresult\u001b[0m \u001b[0;34m=\u001b[0m \u001b[0mself\u001b[0m\u001b[0;34m.\u001b[0m\u001b[0m_slow_forward\u001b[0m\u001b[0;34m(\u001b[0m\u001b[0;34m*\u001b[0m\u001b[0minput\u001b[0m\u001b[0;34m,\u001b[0m \u001b[0;34m**\u001b[0m\u001b[0mkwargs\u001b[0m\u001b[0;34m)\u001b[0m\u001b[0;34m\u001b[0m\u001b[0;34m\u001b[0m\u001b[0m\n\u001b[1;32m    888\u001b[0m         \u001b[0;32melse\u001b[0m\u001b[0;34m:\u001b[0m\u001b[0;34m\u001b[0m\u001b[0;34m\u001b[0m\u001b[0m\n\u001b[0;32m--> 889\u001b[0;31m             \u001b[0mresult\u001b[0m \u001b[0;34m=\u001b[0m \u001b[0mself\u001b[0m\u001b[0;34m.\u001b[0m\u001b[0mforward\u001b[0m\u001b[0;34m(\u001b[0m\u001b[0;34m*\u001b[0m\u001b[0minput\u001b[0m\u001b[0;34m,\u001b[0m \u001b[0;34m**\u001b[0m\u001b[0mkwargs\u001b[0m\u001b[0;34m)\u001b[0m\u001b[0;34m\u001b[0m\u001b[0;34m\u001b[0m\u001b[0m\n\u001b[0m\u001b[1;32m    890\u001b[0m         for hook in itertools.chain(\n\u001b[1;32m    891\u001b[0m                 \u001b[0m_global_forward_hooks\u001b[0m\u001b[0;34m.\u001b[0m\u001b[0mvalues\u001b[0m\u001b[0;34m(\u001b[0m\u001b[0;34m)\u001b[0m\u001b[0;34m,\u001b[0m\u001b[0;34m\u001b[0m\u001b[0;34m\u001b[0m\u001b[0m\n",
            "\u001b[0;32m/usr/local/lib/python3.7/dist-packages/torchvision/models/resnet.py\u001b[0m in \u001b[0;36mforward\u001b[0;34m(self, x)\u001b[0m\n\u001b[1;32m    247\u001b[0m \u001b[0;34m\u001b[0m\u001b[0m\n\u001b[1;32m    248\u001b[0m     \u001b[0;32mdef\u001b[0m \u001b[0mforward\u001b[0m\u001b[0;34m(\u001b[0m\u001b[0mself\u001b[0m\u001b[0;34m,\u001b[0m \u001b[0mx\u001b[0m\u001b[0;34m:\u001b[0m \u001b[0mTensor\u001b[0m\u001b[0;34m)\u001b[0m \u001b[0;34m->\u001b[0m \u001b[0mTensor\u001b[0m\u001b[0;34m:\u001b[0m\u001b[0;34m\u001b[0m\u001b[0;34m\u001b[0m\u001b[0m\n\u001b[0;32m--> 249\u001b[0;31m         \u001b[0;32mreturn\u001b[0m \u001b[0mself\u001b[0m\u001b[0;34m.\u001b[0m\u001b[0m_forward_impl\u001b[0m\u001b[0;34m(\u001b[0m\u001b[0mx\u001b[0m\u001b[0;34m)\u001b[0m\u001b[0;34m\u001b[0m\u001b[0;34m\u001b[0m\u001b[0m\n\u001b[0m\u001b[1;32m    250\u001b[0m \u001b[0;34m\u001b[0m\u001b[0m\n\u001b[1;32m    251\u001b[0m \u001b[0;34m\u001b[0m\u001b[0m\n",
            "\u001b[0;32m/usr/local/lib/python3.7/dist-packages/torchvision/models/resnet.py\u001b[0m in \u001b[0;36m_forward_impl\u001b[0;34m(self, x)\u001b[0m\n\u001b[1;32m    231\u001b[0m         \u001b[0;31m# See note [TorchScript super()]\u001b[0m\u001b[0;34m\u001b[0m\u001b[0;34m\u001b[0m\u001b[0;34m\u001b[0m\u001b[0m\n\u001b[1;32m    232\u001b[0m         \u001b[0mx\u001b[0m \u001b[0;34m=\u001b[0m \u001b[0mself\u001b[0m\u001b[0;34m.\u001b[0m\u001b[0mconv1\u001b[0m\u001b[0;34m(\u001b[0m\u001b[0mx\u001b[0m\u001b[0;34m)\u001b[0m\u001b[0;34m\u001b[0m\u001b[0;34m\u001b[0m\u001b[0m\n\u001b[0;32m--> 233\u001b[0;31m         \u001b[0mx\u001b[0m \u001b[0;34m=\u001b[0m \u001b[0mself\u001b[0m\u001b[0;34m.\u001b[0m\u001b[0mbn1\u001b[0m\u001b[0;34m(\u001b[0m\u001b[0mx\u001b[0m\u001b[0;34m)\u001b[0m\u001b[0;34m\u001b[0m\u001b[0;34m\u001b[0m\u001b[0m\n\u001b[0m\u001b[1;32m    234\u001b[0m         \u001b[0mx\u001b[0m \u001b[0;34m=\u001b[0m \u001b[0mself\u001b[0m\u001b[0;34m.\u001b[0m\u001b[0mrelu\u001b[0m\u001b[0;34m(\u001b[0m\u001b[0mx\u001b[0m\u001b[0;34m)\u001b[0m\u001b[0;34m\u001b[0m\u001b[0;34m\u001b[0m\u001b[0m\n\u001b[1;32m    235\u001b[0m         \u001b[0mx\u001b[0m \u001b[0;34m=\u001b[0m \u001b[0mself\u001b[0m\u001b[0;34m.\u001b[0m\u001b[0mmaxpool\u001b[0m\u001b[0;34m(\u001b[0m\u001b[0mx\u001b[0m\u001b[0;34m)\u001b[0m\u001b[0;34m\u001b[0m\u001b[0;34m\u001b[0m\u001b[0m\n",
            "\u001b[0;32m/usr/local/lib/python3.7/dist-packages/torch/nn/modules/module.py\u001b[0m in \u001b[0;36m_call_impl\u001b[0;34m(self, *input, **kwargs)\u001b[0m\n\u001b[1;32m    887\u001b[0m             \u001b[0mresult\u001b[0m \u001b[0;34m=\u001b[0m \u001b[0mself\u001b[0m\u001b[0;34m.\u001b[0m\u001b[0m_slow_forward\u001b[0m\u001b[0;34m(\u001b[0m\u001b[0;34m*\u001b[0m\u001b[0minput\u001b[0m\u001b[0;34m,\u001b[0m \u001b[0;34m**\u001b[0m\u001b[0mkwargs\u001b[0m\u001b[0;34m)\u001b[0m\u001b[0;34m\u001b[0m\u001b[0;34m\u001b[0m\u001b[0m\n\u001b[1;32m    888\u001b[0m         \u001b[0;32melse\u001b[0m\u001b[0;34m:\u001b[0m\u001b[0;34m\u001b[0m\u001b[0;34m\u001b[0m\u001b[0m\n\u001b[0;32m--> 889\u001b[0;31m             \u001b[0mresult\u001b[0m \u001b[0;34m=\u001b[0m \u001b[0mself\u001b[0m\u001b[0;34m.\u001b[0m\u001b[0mforward\u001b[0m\u001b[0;34m(\u001b[0m\u001b[0;34m*\u001b[0m\u001b[0minput\u001b[0m\u001b[0;34m,\u001b[0m \u001b[0;34m**\u001b[0m\u001b[0mkwargs\u001b[0m\u001b[0;34m)\u001b[0m\u001b[0;34m\u001b[0m\u001b[0;34m\u001b[0m\u001b[0m\n\u001b[0m\u001b[1;32m    890\u001b[0m         for hook in itertools.chain(\n\u001b[1;32m    891\u001b[0m                 \u001b[0m_global_forward_hooks\u001b[0m\u001b[0;34m.\u001b[0m\u001b[0mvalues\u001b[0m\u001b[0;34m(\u001b[0m\u001b[0;34m)\u001b[0m\u001b[0;34m,\u001b[0m\u001b[0;34m\u001b[0m\u001b[0;34m\u001b[0m\u001b[0m\n",
            "\u001b[0;32m/usr/local/lib/python3.7/dist-packages/torch/nn/modules/batchnorm.py\u001b[0m in \u001b[0;36mforward\u001b[0;34m(self, input)\u001b[0m\n\u001b[1;32m    138\u001b[0m             \u001b[0mself\u001b[0m\u001b[0;34m.\u001b[0m\u001b[0mrunning_mean\u001b[0m \u001b[0;32mif\u001b[0m \u001b[0;32mnot\u001b[0m \u001b[0mself\u001b[0m\u001b[0;34m.\u001b[0m\u001b[0mtraining\u001b[0m \u001b[0;32mor\u001b[0m \u001b[0mself\u001b[0m\u001b[0;34m.\u001b[0m\u001b[0mtrack_running_stats\u001b[0m \u001b[0;32melse\u001b[0m \u001b[0;32mNone\u001b[0m\u001b[0;34m,\u001b[0m\u001b[0;34m\u001b[0m\u001b[0;34m\u001b[0m\u001b[0m\n\u001b[1;32m    139\u001b[0m             \u001b[0mself\u001b[0m\u001b[0;34m.\u001b[0m\u001b[0mrunning_var\u001b[0m \u001b[0;32mif\u001b[0m \u001b[0;32mnot\u001b[0m \u001b[0mself\u001b[0m\u001b[0;34m.\u001b[0m\u001b[0mtraining\u001b[0m \u001b[0;32mor\u001b[0m \u001b[0mself\u001b[0m\u001b[0;34m.\u001b[0m\u001b[0mtrack_running_stats\u001b[0m \u001b[0;32melse\u001b[0m \u001b[0;32mNone\u001b[0m\u001b[0;34m,\u001b[0m\u001b[0;34m\u001b[0m\u001b[0;34m\u001b[0m\u001b[0m\n\u001b[0;32m--> 140\u001b[0;31m             self.weight, self.bias, bn_training, exponential_average_factor, self.eps)\n\u001b[0m\u001b[1;32m    141\u001b[0m \u001b[0;34m\u001b[0m\u001b[0m\n\u001b[1;32m    142\u001b[0m \u001b[0;34m\u001b[0m\u001b[0m\n",
            "\u001b[0;32m/usr/local/lib/python3.7/dist-packages/torch/nn/functional.py\u001b[0m in \u001b[0;36mbatch_norm\u001b[0;34m(input, running_mean, running_var, weight, bias, training, momentum, eps)\u001b[0m\n\u001b[1;32m   2145\u001b[0m \u001b[0;34m\u001b[0m\u001b[0m\n\u001b[1;32m   2146\u001b[0m     return torch.batch_norm(\n\u001b[0;32m-> 2147\u001b[0;31m         \u001b[0minput\u001b[0m\u001b[0;34m,\u001b[0m \u001b[0mweight\u001b[0m\u001b[0;34m,\u001b[0m \u001b[0mbias\u001b[0m\u001b[0;34m,\u001b[0m \u001b[0mrunning_mean\u001b[0m\u001b[0;34m,\u001b[0m \u001b[0mrunning_var\u001b[0m\u001b[0;34m,\u001b[0m \u001b[0mtraining\u001b[0m\u001b[0;34m,\u001b[0m \u001b[0mmomentum\u001b[0m\u001b[0;34m,\u001b[0m \u001b[0meps\u001b[0m\u001b[0;34m,\u001b[0m \u001b[0mtorch\u001b[0m\u001b[0;34m.\u001b[0m\u001b[0mbackends\u001b[0m\u001b[0;34m.\u001b[0m\u001b[0mcudnn\u001b[0m\u001b[0;34m.\u001b[0m\u001b[0menabled\u001b[0m\u001b[0;34m\u001b[0m\u001b[0;34m\u001b[0m\u001b[0m\n\u001b[0m\u001b[1;32m   2148\u001b[0m     )\n\u001b[1;32m   2149\u001b[0m \u001b[0;34m\u001b[0m\u001b[0m\n",
            "\u001b[0;31mRuntimeError\u001b[0m: CUDA out of memory. Tried to allocate 196.00 MiB (GPU 0; 15.90 GiB total capacity; 14.69 GiB already allocated; 91.75 MiB free; 14.93 GiB reserved in total by PyTorch)"
          ]
        }
      ]
    },
    {
      "cell_type": "code",
      "metadata": {
        "colab": {
          "base_uri": "https://localhost:8080/"
        },
        "id": "eWR6tFE4M9fs",
        "outputId": "93e580c5-0cbe-4917-a7cb-54ea52c7eadd"
      },
      "source": [
        "# Evaluate\n",
        "acc = model_te.predict(testloader)\n",
        "print(acc)  "
      ],
      "execution_count": null,
      "outputs": [
        {
          "output_type": "stream",
          "text": [
            "95.74\n"
          ],
          "name": "stdout"
        }
      ]
    },
    {
      "cell_type": "markdown",
      "metadata": {
        "id": "9o4hF9VUzJHE"
      },
      "source": [
        "## Torchensemble - Efficientnet "
      ]
    },
    {
      "cell_type": "code",
      "metadata": {
        "id": "EB5y6lNAzVh1"
      },
      "source": [
        "base_estimator = initialize_model(\"efficientnet\", num_classes,\n",
        "                               feature_extract=False, use_pretrained=True)\n",
        "base_estimator = base_estimator.to(device)\n",
        "\n",
        "# Define the ensemble\n",
        "model_te_1= VotingClassifier(estimator=base_estimator,     \n",
        "                         n_estimators=5)              \n",
        "\n",
        "# Set the optimizer\n",
        "model_te_1.set_optimizer(\"SGD\",                            \n",
        "                    lr=0.001,\n",
        "                    momentum=0.9,\n",
        "                    weight_decay=5e-4)   \n",
        "\n",
        "# Set the scheduler\n",
        "#model.set_scheduler(\"CosineAnnealingLR\", T_max=num_epochs) \n",
        "\n",
        "# Train\n",
        "model_te_1.fit(trainloader, epochs=5)                               \n",
        "                     "
      ],
      "execution_count": null,
      "outputs": []
    },
    {
      "cell_type": "code",
      "metadata": {
        "colab": {
          "base_uri": "https://localhost:8080/",
          "height": 334
        },
        "id": "f5l1hC-i0RGU",
        "outputId": "83a17e16-d5af-405d-a239-8e31574902ab"
      },
      "source": [
        "# Evaluate\n",
        "acc = model_te_1.predict(testloader)\n",
        "print(acc)  "
      ],
      "execution_count": null,
      "outputs": [
        {
          "output_type": "error",
          "ename": "RuntimeError",
          "evalue": "ignored",
          "traceback": [
            "\u001b[0;31m---------------------------------------------------------------------------\u001b[0m",
            "\u001b[0;31mRuntimeError\u001b[0m                              Traceback (most recent call last)",
            "\u001b[0;32m<ipython-input-21-74f1a9e07684>\u001b[0m in \u001b[0;36m<module>\u001b[0;34m()\u001b[0m\n\u001b[1;32m      1\u001b[0m \u001b[0;31m# Evaluate\u001b[0m\u001b[0;34m\u001b[0m\u001b[0;34m\u001b[0m\u001b[0;34m\u001b[0m\u001b[0m\n\u001b[1;32m      2\u001b[0m \u001b[0;32mwith\u001b[0m \u001b[0mtorch\u001b[0m\u001b[0;34m.\u001b[0m\u001b[0mno_grad\u001b[0m\u001b[0;34m(\u001b[0m\u001b[0;34m)\u001b[0m\u001b[0;34m:\u001b[0m\u001b[0;34m\u001b[0m\u001b[0;34m\u001b[0m\u001b[0m\n\u001b[0;32m----> 3\u001b[0;31m     \u001b[0macc\u001b[0m \u001b[0;34m=\u001b[0m \u001b[0mmodel_te_1\u001b[0m\u001b[0;34m.\u001b[0m\u001b[0mpredict\u001b[0m\u001b[0;34m(\u001b[0m\u001b[0mtestloader\u001b[0m\u001b[0;34m)\u001b[0m\u001b[0;34m\u001b[0m\u001b[0;34m\u001b[0m\u001b[0m\n\u001b[0m\u001b[1;32m      4\u001b[0m     \u001b[0mprint\u001b[0m\u001b[0;34m(\u001b[0m\u001b[0macc\u001b[0m\u001b[0;34m)\u001b[0m\u001b[0;34m\u001b[0m\u001b[0;34m\u001b[0m\u001b[0m\n",
            "\u001b[0;32m/usr/local/lib/python3.7/dist-packages/torchensemble/voting.py\u001b[0m in \u001b[0;36mpredict\u001b[0;34m(self, test_loader)\u001b[0m\n\u001b[1;32m    257\u001b[0m \u001b[0;34m\u001b[0m\u001b[0m\n\u001b[1;32m    258\u001b[0m         \u001b[0;32mfor\u001b[0m \u001b[0m_\u001b[0m\u001b[0;34m,\u001b[0m \u001b[0;34m(\u001b[0m\u001b[0mdata\u001b[0m\u001b[0;34m,\u001b[0m \u001b[0mtarget\u001b[0m\u001b[0;34m)\u001b[0m \u001b[0;32min\u001b[0m \u001b[0menumerate\u001b[0m\u001b[0;34m(\u001b[0m\u001b[0mtest_loader\u001b[0m\u001b[0;34m)\u001b[0m\u001b[0;34m:\u001b[0m\u001b[0;34m\u001b[0m\u001b[0;34m\u001b[0m\u001b[0m\n\u001b[0;32m--> 259\u001b[0;31m             \u001b[0mdata\u001b[0m\u001b[0;34m,\u001b[0m \u001b[0mtarget\u001b[0m \u001b[0;34m=\u001b[0m \u001b[0mdata\u001b[0m\u001b[0;34m.\u001b[0m\u001b[0mto\u001b[0m\u001b[0;34m(\u001b[0m\u001b[0mself\u001b[0m\u001b[0;34m.\u001b[0m\u001b[0mdevice\u001b[0m\u001b[0;34m)\u001b[0m\u001b[0;34m,\u001b[0m \u001b[0mtarget\u001b[0m\u001b[0;34m.\u001b[0m\u001b[0mto\u001b[0m\u001b[0;34m(\u001b[0m\u001b[0mself\u001b[0m\u001b[0;34m.\u001b[0m\u001b[0mdevice\u001b[0m\u001b[0;34m)\u001b[0m\u001b[0;34m\u001b[0m\u001b[0;34m\u001b[0m\u001b[0m\n\u001b[0m\u001b[1;32m    260\u001b[0m             \u001b[0moutput\u001b[0m \u001b[0;34m=\u001b[0m \u001b[0mself\u001b[0m\u001b[0;34m.\u001b[0m\u001b[0mforward\u001b[0m\u001b[0;34m(\u001b[0m\u001b[0mdata\u001b[0m\u001b[0;34m)\u001b[0m\u001b[0;34m\u001b[0m\u001b[0;34m\u001b[0m\u001b[0m\n\u001b[1;32m    261\u001b[0m             \u001b[0m_\u001b[0m\u001b[0;34m,\u001b[0m \u001b[0mpredicted\u001b[0m \u001b[0;34m=\u001b[0m \u001b[0mtorch\u001b[0m\u001b[0;34m.\u001b[0m\u001b[0mmax\u001b[0m\u001b[0;34m(\u001b[0m\u001b[0moutput\u001b[0m\u001b[0;34m.\u001b[0m\u001b[0mdata\u001b[0m\u001b[0;34m,\u001b[0m \u001b[0;36m1\u001b[0m\u001b[0;34m)\u001b[0m\u001b[0;34m\u001b[0m\u001b[0;34m\u001b[0m\u001b[0m\n",
            "\u001b[0;31mRuntimeError\u001b[0m: CUDA out of memory. Tried to allocate 38.00 MiB (GPU 0; 15.90 GiB total capacity; 14.84 GiB already allocated; 3.75 MiB free; 15.02 GiB reserved in total by PyTorch)"
          ]
        }
      ]
    },
    {
      "cell_type": "code",
      "metadata": {
        "colab": {
          "base_uri": "https://localhost:8080/"
        },
        "id": "ARvvsmaSKloM",
        "outputId": "5f638f51-bb9f-4477-ca3f-b722361142c6"
      },
      "source": [
        "model_te_1 = model_te_1.to(\"cpu\")\n",
        "compute_accuracy(model_te_1, testloader, \"cpu\") # it was 95.96"
      ],
      "execution_count": null,
      "outputs": [
        {
          "output_type": "stream",
          "text": [
            "Accuracy of the network on test images: 95 %\n"
          ],
          "name": "stdout"
        }
      ]
    },
    {
      "cell_type": "markdown",
      "metadata": {
        "id": "wxy2GxsTlc8k"
      },
      "source": [
        "## Torchensemble - Resnet 32x32 size\n",
        "\n",
        "\n",
        "\n",
        "\n"
      ]
    },
    {
      "cell_type": "code",
      "metadata": {
        "colab": {
          "base_uri": "https://localhost:8080/"
        },
        "id": "MO2DUrsfqmv8",
        "outputId": "8b56a5aa-3816-4453-a562-21f63891b231"
      },
      "source": [
        "transform_train = transforms.Compose([\n",
        "    # Data augmentation                           \n",
        "    transforms.RandomCrop(32, padding=4),\n",
        "    transforms.RandomHorizontalFlip(),\n",
        "    transforms.ToTensor(),\n",
        "    transforms.Normalize((0.4914, 0.4822, 0.4465), (0.2023, 0.1994, 0.2010)),\n",
        "])\n",
        "\n",
        "transform_test = transforms.Compose([\n",
        "    transforms.ToTensor(),\n",
        "    transforms.Normalize((0.4914, 0.4822, 0.4465), (0.2023, 0.1994, 0.2010)),\n",
        "])\n",
        "\n",
        "# Settings\n",
        "num_classes = 10\n",
        "batch_size = 64\n",
        "num_epochs = 10\n",
        "\n",
        "\n",
        "trainset = torchvision.datasets.CIFAR10(root='./data', train=True,\n",
        "                                        download=True,\n",
        "                                        transform=transform_train)\n",
        "trainloader = torch.utils.data.DataLoader(trainset, batch_size=batch_size,\n",
        "                                          shuffle=True, num_workers=2)\n",
        "\n",
        "testset = torchvision.datasets.CIFAR10(root='./data', train=False,\n",
        "                                       download=True, transform=transform_test)\n",
        "testloader = torch.utils.data.DataLoader(testset, batch_size=batch_size,\n",
        "                                         shuffle=False, num_workers=2)"
      ],
      "execution_count": null,
      "outputs": [
        {
          "output_type": "stream",
          "text": [
            "Files already downloaded and verified\n",
            "Files already downloaded and verified\n"
          ],
          "name": "stdout"
        }
      ]
    },
    {
      "cell_type": "code",
      "metadata": {
        "colab": {
          "base_uri": "https://localhost:8080/",
          "height": 1000,
          "referenced_widgets": [
            "d4dfceab59364aba96371f2deae1a688",
            "78facbb7cd4047e88128281303c1ffb4",
            "bf4d390d746748fda49175daed11e067",
            "f5947e350ce341f199307e3459b0860a",
            "fd93397846ca4629a68f96c898f7a812",
            "24c723379f1144ba8c8cdbe8abfb7fe6",
            "330bdc8e9de4469da7f6a106af9e016a",
            "664d597941ad4a239be77011633b9463"
          ]
        },
        "id": "-5yeLoqElK3N",
        "outputId": "35208bed-d29f-4778-d75c-4957159923de"
      },
      "source": [
        "base_estimator = initialize_model(\"resnet\", num_classes,\n",
        "                               feature_extract=False, use_pretrained=True)\n",
        "base_estimator = base_estimator.to(device)\n",
        "\n",
        "# Define the ensemble\n",
        "model_te2= VotingClassifier(estimator=base_estimator,     \n",
        "                         n_estimators=10)              \n",
        "\n",
        "# Set the optimizer\n",
        "model_te2.set_optimizer(\"SGD\",                            \n",
        "                    lr=0.001,\n",
        "                    momentum=0.9,\n",
        "                    weight_decay=5e-4)   \n",
        "\n",
        "# Set the scheduler\n",
        "model_te2.set_scheduler(\"CosineAnnealingLR\", T_max=num_epochs) \n",
        "\n",
        "# Train\n",
        "model_te2.fit(trainloader,\n",
        "          epochs=num_epochs) "
      ],
      "execution_count": null,
      "outputs": [
        {
          "output_type": "stream",
          "text": [
            "Downloading: \"https://download.pytorch.org/models/resnet18-5c106cde.pth\" to /root/.cache/torch/hub/checkpoints/resnet18-5c106cde.pth\n"
          ],
          "name": "stderr"
        },
        {
          "output_type": "display_data",
          "data": {
            "application/vnd.jupyter.widget-view+json": {
              "model_id": "d4dfceab59364aba96371f2deae1a688",
              "version_major": 2,
              "version_minor": 0
            },
            "text/plain": [
              "HBox(children=(FloatProgress(value=0.0, max=46827520.0), HTML(value='')))"
            ]
          },
          "metadata": {
            "tags": []
          }
        },
        {
          "output_type": "stream",
          "text": [
            "\n",
            "Estimator: 000 | Epoch: 000 | Batch: 000 | Loss: 2.52609 | Correct: 12/64\n",
            "Estimator: 000 | Epoch: 000 | Batch: 100 | Loss: 1.27002 | Correct: 32/64\n",
            "Estimator: 000 | Epoch: 000 | Batch: 200 | Loss: 1.27406 | Correct: 33/64\n",
            "Estimator: 000 | Epoch: 000 | Batch: 300 | Loss: 1.33392 | Correct: 36/64\n",
            "Estimator: 000 | Epoch: 000 | Batch: 400 | Loss: 0.89985 | Correct: 43/64\n",
            "Estimator: 000 | Epoch: 000 | Batch: 500 | Loss: 1.06511 | Correct: 40/64\n",
            "Estimator: 000 | Epoch: 000 | Batch: 600 | Loss: 0.96086 | Correct: 43/64\n",
            "Estimator: 000 | Epoch: 000 | Batch: 700 | Loss: 1.11457 | Correct: 42/64\n",
            "Estimator: 001 | Epoch: 000 | Batch: 000 | Loss: 2.61301 | Correct: 5/64\n",
            "Estimator: 001 | Epoch: 000 | Batch: 100 | Loss: 1.56528 | Correct: 28/64\n",
            "Estimator: 001 | Epoch: 000 | Batch: 200 | Loss: 1.14161 | Correct: 41/64\n",
            "Estimator: 001 | Epoch: 000 | Batch: 300 | Loss: 1.04271 | Correct: 37/64\n",
            "Estimator: 001 | Epoch: 000 | Batch: 400 | Loss: 0.98793 | Correct: 40/64\n",
            "Estimator: 001 | Epoch: 000 | Batch: 500 | Loss: 1.18006 | Correct: 35/64\n",
            "Estimator: 001 | Epoch: 000 | Batch: 600 | Loss: 0.94603 | Correct: 47/64\n",
            "Estimator: 001 | Epoch: 000 | Batch: 700 | Loss: 0.94882 | Correct: 43/64\n",
            "Estimator: 002 | Epoch: 000 | Batch: 000 | Loss: 2.53556 | Correct: 6/64\n",
            "Estimator: 002 | Epoch: 000 | Batch: 100 | Loss: 1.32138 | Correct: 32/64\n",
            "Estimator: 002 | Epoch: 000 | Batch: 200 | Loss: 1.22307 | Correct: 37/64\n",
            "Estimator: 002 | Epoch: 000 | Batch: 300 | Loss: 1.20623 | Correct: 32/64\n",
            "Estimator: 002 | Epoch: 000 | Batch: 400 | Loss: 1.08648 | Correct: 36/64\n",
            "Estimator: 002 | Epoch: 000 | Batch: 500 | Loss: 1.02427 | Correct: 43/64\n",
            "Estimator: 002 | Epoch: 000 | Batch: 600 | Loss: 0.87960 | Correct: 45/64\n",
            "Estimator: 002 | Epoch: 000 | Batch: 700 | Loss: 0.95713 | Correct: 42/64\n",
            "Estimator: 003 | Epoch: 000 | Batch: 000 | Loss: 2.50449 | Correct: 8/64\n",
            "Estimator: 003 | Epoch: 000 | Batch: 100 | Loss: 1.51940 | Correct: 28/64\n",
            "Estimator: 003 | Epoch: 000 | Batch: 200 | Loss: 1.31511 | Correct: 38/64\n",
            "Estimator: 003 | Epoch: 000 | Batch: 300 | Loss: 1.03678 | Correct: 40/64\n",
            "Estimator: 003 | Epoch: 000 | Batch: 400 | Loss: 0.97393 | Correct: 41/64\n",
            "Estimator: 003 | Epoch: 000 | Batch: 500 | Loss: 0.98762 | Correct: 44/64\n",
            "Estimator: 003 | Epoch: 000 | Batch: 600 | Loss: 0.88598 | Correct: 45/64\n",
            "Estimator: 003 | Epoch: 000 | Batch: 700 | Loss: 0.96865 | Correct: 47/64\n",
            "Estimator: 004 | Epoch: 000 | Batch: 000 | Loss: 2.60870 | Correct: 6/64\n",
            "Estimator: 004 | Epoch: 000 | Batch: 100 | Loss: 1.29510 | Correct: 35/64\n",
            "Estimator: 004 | Epoch: 000 | Batch: 200 | Loss: 1.11382 | Correct: 36/64\n",
            "Estimator: 004 | Epoch: 000 | Batch: 300 | Loss: 1.19213 | Correct: 38/64\n",
            "Estimator: 004 | Epoch: 000 | Batch: 400 | Loss: 1.09765 | Correct: 42/64\n",
            "Estimator: 004 | Epoch: 000 | Batch: 500 | Loss: 1.06477 | Correct: 39/64\n",
            "Estimator: 004 | Epoch: 000 | Batch: 600 | Loss: 0.84399 | Correct: 46/64\n",
            "Estimator: 004 | Epoch: 000 | Batch: 700 | Loss: 1.18174 | Correct: 41/64\n",
            "Estimator: 005 | Epoch: 000 | Batch: 000 | Loss: 2.58731 | Correct: 8/64\n",
            "Estimator: 005 | Epoch: 000 | Batch: 100 | Loss: 1.33204 | Correct: 37/64\n",
            "Estimator: 005 | Epoch: 000 | Batch: 200 | Loss: 1.31670 | Correct: 37/64\n",
            "Estimator: 005 | Epoch: 000 | Batch: 300 | Loss: 0.95272 | Correct: 40/64\n",
            "Estimator: 005 | Epoch: 000 | Batch: 400 | Loss: 1.09776 | Correct: 42/64\n",
            "Estimator: 005 | Epoch: 000 | Batch: 500 | Loss: 1.07023 | Correct: 41/64\n",
            "Estimator: 005 | Epoch: 000 | Batch: 600 | Loss: 1.14605 | Correct: 36/64\n",
            "Estimator: 005 | Epoch: 000 | Batch: 700 | Loss: 1.06698 | Correct: 44/64\n",
            "Estimator: 006 | Epoch: 000 | Batch: 000 | Loss: 2.55422 | Correct: 4/64\n",
            "Estimator: 006 | Epoch: 000 | Batch: 100 | Loss: 1.47646 | Correct: 33/64\n",
            "Estimator: 006 | Epoch: 000 | Batch: 200 | Loss: 1.56275 | Correct: 31/64\n",
            "Estimator: 006 | Epoch: 000 | Batch: 300 | Loss: 1.11839 | Correct: 40/64\n",
            "Estimator: 006 | Epoch: 000 | Batch: 400 | Loss: 1.12243 | Correct: 36/64\n",
            "Estimator: 006 | Epoch: 000 | Batch: 500 | Loss: 0.88187 | Correct: 48/64\n",
            "Estimator: 006 | Epoch: 000 | Batch: 600 | Loss: 0.88710 | Correct: 42/64\n",
            "Estimator: 006 | Epoch: 000 | Batch: 700 | Loss: 1.00818 | Correct: 45/64\n",
            "Estimator: 007 | Epoch: 000 | Batch: 000 | Loss: 2.61435 | Correct: 4/64\n",
            "Estimator: 007 | Epoch: 000 | Batch: 100 | Loss: 1.50960 | Correct: 25/64\n",
            "Estimator: 007 | Epoch: 000 | Batch: 200 | Loss: 1.14254 | Correct: 36/64\n",
            "Estimator: 007 | Epoch: 000 | Batch: 300 | Loss: 1.29252 | Correct: 35/64\n",
            "Estimator: 007 | Epoch: 000 | Batch: 400 | Loss: 1.23340 | Correct: 41/64\n",
            "Estimator: 007 | Epoch: 000 | Batch: 500 | Loss: 1.10661 | Correct: 38/64\n",
            "Estimator: 007 | Epoch: 000 | Batch: 600 | Loss: 1.04189 | Correct: 42/64\n",
            "Estimator: 007 | Epoch: 000 | Batch: 700 | Loss: 0.87944 | Correct: 45/64\n",
            "Estimator: 008 | Epoch: 000 | Batch: 000 | Loss: 2.53347 | Correct: 6/64\n",
            "Estimator: 008 | Epoch: 000 | Batch: 100 | Loss: 1.70017 | Correct: 29/64\n",
            "Estimator: 008 | Epoch: 000 | Batch: 200 | Loss: 1.26189 | Correct: 39/64\n",
            "Estimator: 008 | Epoch: 000 | Batch: 300 | Loss: 1.13528 | Correct: 40/64\n",
            "Estimator: 008 | Epoch: 000 | Batch: 400 | Loss: 1.12829 | Correct: 39/64\n",
            "Estimator: 008 | Epoch: 000 | Batch: 500 | Loss: 1.30050 | Correct: 33/64\n",
            "Estimator: 008 | Epoch: 000 | Batch: 600 | Loss: 0.96878 | Correct: 41/64\n",
            "Estimator: 008 | Epoch: 000 | Batch: 700 | Loss: 0.90117 | Correct: 46/64\n",
            "Estimator: 009 | Epoch: 000 | Batch: 000 | Loss: 2.79091 | Correct: 5/64\n",
            "Estimator: 009 | Epoch: 000 | Batch: 100 | Loss: 1.59062 | Correct: 26/64\n",
            "Estimator: 009 | Epoch: 000 | Batch: 200 | Loss: 1.06945 | Correct: 43/64\n",
            "Estimator: 009 | Epoch: 000 | Batch: 300 | Loss: 1.16927 | Correct: 34/64\n",
            "Estimator: 009 | Epoch: 000 | Batch: 400 | Loss: 1.02459 | Correct: 43/64\n",
            "Estimator: 009 | Epoch: 000 | Batch: 500 | Loss: 1.10875 | Correct: 39/64\n",
            "Estimator: 009 | Epoch: 000 | Batch: 600 | Loss: 0.90467 | Correct: 40/64\n",
            "Estimator: 009 | Epoch: 000 | Batch: 700 | Loss: 0.92436 | Correct: 47/64\n",
            "Estimator: 000 | Epoch: 001 | Batch: 000 | Loss: 0.92954 | Correct: 42/64\n",
            "Estimator: 000 | Epoch: 001 | Batch: 100 | Loss: 0.83795 | Correct: 48/64\n",
            "Estimator: 000 | Epoch: 001 | Batch: 200 | Loss: 1.00514 | Correct: 40/64\n",
            "Estimator: 000 | Epoch: 001 | Batch: 300 | Loss: 0.81676 | Correct: 46/64\n",
            "Estimator: 000 | Epoch: 001 | Batch: 400 | Loss: 1.10675 | Correct: 42/64\n",
            "Estimator: 000 | Epoch: 001 | Batch: 500 | Loss: 0.67932 | Correct: 52/64\n",
            "Estimator: 000 | Epoch: 001 | Batch: 600 | Loss: 0.77375 | Correct: 48/64\n",
            "Estimator: 000 | Epoch: 001 | Batch: 700 | Loss: 0.81184 | Correct: 46/64\n",
            "Estimator: 001 | Epoch: 001 | Batch: 000 | Loss: 0.81305 | Correct: 47/64\n",
            "Estimator: 001 | Epoch: 001 | Batch: 100 | Loss: 0.70758 | Correct: 44/64\n",
            "Estimator: 001 | Epoch: 001 | Batch: 200 | Loss: 1.04878 | Correct: 41/64\n",
            "Estimator: 001 | Epoch: 001 | Batch: 300 | Loss: 0.97716 | Correct: 44/64\n",
            "Estimator: 001 | Epoch: 001 | Batch: 400 | Loss: 0.80442 | Correct: 41/64\n",
            "Estimator: 001 | Epoch: 001 | Batch: 500 | Loss: 0.82267 | Correct: 47/64\n",
            "Estimator: 001 | Epoch: 001 | Batch: 600 | Loss: 0.83954 | Correct: 45/64\n",
            "Estimator: 001 | Epoch: 001 | Batch: 700 | Loss: 0.69485 | Correct: 48/64\n",
            "Estimator: 002 | Epoch: 001 | Batch: 000 | Loss: 0.84136 | Correct: 41/64\n",
            "Estimator: 002 | Epoch: 001 | Batch: 100 | Loss: 0.84119 | Correct: 43/64\n",
            "Estimator: 002 | Epoch: 001 | Batch: 200 | Loss: 0.86962 | Correct: 45/64\n",
            "Estimator: 002 | Epoch: 001 | Batch: 300 | Loss: 1.00471 | Correct: 43/64\n",
            "Estimator: 002 | Epoch: 001 | Batch: 400 | Loss: 0.69840 | Correct: 48/64\n",
            "Estimator: 002 | Epoch: 001 | Batch: 500 | Loss: 0.62735 | Correct: 53/64\n",
            "Estimator: 002 | Epoch: 001 | Batch: 600 | Loss: 0.73814 | Correct: 46/64\n",
            "Estimator: 002 | Epoch: 001 | Batch: 700 | Loss: 0.80032 | Correct: 46/64\n",
            "Estimator: 003 | Epoch: 001 | Batch: 000 | Loss: 0.90175 | Correct: 47/64\n",
            "Estimator: 003 | Epoch: 001 | Batch: 100 | Loss: 0.70532 | Correct: 49/64\n",
            "Estimator: 003 | Epoch: 001 | Batch: 200 | Loss: 0.78695 | Correct: 46/64\n",
            "Estimator: 003 | Epoch: 001 | Batch: 300 | Loss: 0.66525 | Correct: 51/64\n",
            "Estimator: 003 | Epoch: 001 | Batch: 400 | Loss: 0.68355 | Correct: 50/64\n",
            "Estimator: 003 | Epoch: 001 | Batch: 500 | Loss: 0.68707 | Correct: 49/64\n",
            "Estimator: 003 | Epoch: 001 | Batch: 600 | Loss: 0.76061 | Correct: 49/64\n",
            "Estimator: 003 | Epoch: 001 | Batch: 700 | Loss: 0.71773 | Correct: 47/64\n",
            "Estimator: 004 | Epoch: 001 | Batch: 000 | Loss: 0.89969 | Correct: 44/64\n",
            "Estimator: 004 | Epoch: 001 | Batch: 100 | Loss: 0.87630 | Correct: 47/64\n",
            "Estimator: 004 | Epoch: 001 | Batch: 200 | Loss: 0.89419 | Correct: 43/64\n",
            "Estimator: 004 | Epoch: 001 | Batch: 300 | Loss: 0.86170 | Correct: 46/64\n",
            "Estimator: 004 | Epoch: 001 | Batch: 400 | Loss: 1.00311 | Correct: 39/64\n",
            "Estimator: 004 | Epoch: 001 | Batch: 500 | Loss: 0.67035 | Correct: 46/64\n",
            "Estimator: 004 | Epoch: 001 | Batch: 600 | Loss: 0.79287 | Correct: 49/64\n",
            "Estimator: 004 | Epoch: 001 | Batch: 700 | Loss: 0.83452 | Correct: 48/64\n",
            "Estimator: 005 | Epoch: 001 | Batch: 000 | Loss: 0.93346 | Correct: 41/64\n",
            "Estimator: 005 | Epoch: 001 | Batch: 100 | Loss: 0.58309 | Correct: 52/64\n",
            "Estimator: 005 | Epoch: 001 | Batch: 200 | Loss: 0.88021 | Correct: 42/64\n",
            "Estimator: 005 | Epoch: 001 | Batch: 300 | Loss: 0.72275 | Correct: 51/64\n",
            "Estimator: 005 | Epoch: 001 | Batch: 400 | Loss: 0.64709 | Correct: 48/64\n",
            "Estimator: 005 | Epoch: 001 | Batch: 500 | Loss: 0.84307 | Correct: 44/64\n",
            "Estimator: 005 | Epoch: 001 | Batch: 600 | Loss: 0.75477 | Correct: 50/64\n",
            "Estimator: 005 | Epoch: 001 | Batch: 700 | Loss: 0.92452 | Correct: 40/64\n",
            "Estimator: 006 | Epoch: 001 | Batch: 000 | Loss: 0.90781 | Correct: 44/64\n",
            "Estimator: 006 | Epoch: 001 | Batch: 100 | Loss: 0.94255 | Correct: 43/64\n",
            "Estimator: 006 | Epoch: 001 | Batch: 200 | Loss: 0.71449 | Correct: 48/64\n",
            "Estimator: 006 | Epoch: 001 | Batch: 300 | Loss: 0.89127 | Correct: 41/64\n",
            "Estimator: 006 | Epoch: 001 | Batch: 400 | Loss: 0.82093 | Correct: 47/64\n",
            "Estimator: 006 | Epoch: 001 | Batch: 500 | Loss: 0.81703 | Correct: 48/64\n",
            "Estimator: 006 | Epoch: 001 | Batch: 600 | Loss: 0.92207 | Correct: 44/64\n",
            "Estimator: 006 | Epoch: 001 | Batch: 700 | Loss: 0.80043 | Correct: 48/64\n",
            "Estimator: 007 | Epoch: 001 | Batch: 000 | Loss: 1.04200 | Correct: 39/64\n",
            "Estimator: 007 | Epoch: 001 | Batch: 100 | Loss: 0.89144 | Correct: 43/64\n",
            "Estimator: 007 | Epoch: 001 | Batch: 200 | Loss: 0.86095 | Correct: 44/64\n",
            "Estimator: 007 | Epoch: 001 | Batch: 300 | Loss: 0.82635 | Correct: 46/64\n",
            "Estimator: 007 | Epoch: 001 | Batch: 400 | Loss: 0.79385 | Correct: 47/64\n",
            "Estimator: 007 | Epoch: 001 | Batch: 500 | Loss: 1.02502 | Correct: 40/64\n",
            "Estimator: 007 | Epoch: 001 | Batch: 600 | Loss: 0.94506 | Correct: 44/64\n",
            "Estimator: 007 | Epoch: 001 | Batch: 700 | Loss: 0.77198 | Correct: 48/64\n",
            "Estimator: 008 | Epoch: 001 | Batch: 000 | Loss: 0.79040 | Correct: 41/64\n",
            "Estimator: 008 | Epoch: 001 | Batch: 100 | Loss: 0.72829 | Correct: 47/64\n",
            "Estimator: 008 | Epoch: 001 | Batch: 200 | Loss: 0.92640 | Correct: 44/64\n",
            "Estimator: 008 | Epoch: 001 | Batch: 300 | Loss: 0.70989 | Correct: 50/64\n",
            "Estimator: 008 | Epoch: 001 | Batch: 400 | Loss: 0.86116 | Correct: 47/64\n",
            "Estimator: 008 | Epoch: 001 | Batch: 500 | Loss: 1.11804 | Correct: 39/64\n",
            "Estimator: 008 | Epoch: 001 | Batch: 600 | Loss: 0.73326 | Correct: 46/64\n",
            "Estimator: 008 | Epoch: 001 | Batch: 700 | Loss: 0.75912 | Correct: 49/64\n",
            "Estimator: 009 | Epoch: 001 | Batch: 000 | Loss: 0.83751 | Correct: 45/64\n",
            "Estimator: 009 | Epoch: 001 | Batch: 100 | Loss: 1.06248 | Correct: 41/64\n",
            "Estimator: 009 | Epoch: 001 | Batch: 200 | Loss: 0.83861 | Correct: 45/64\n",
            "Estimator: 009 | Epoch: 001 | Batch: 300 | Loss: 0.95649 | Correct: 46/64\n",
            "Estimator: 009 | Epoch: 001 | Batch: 400 | Loss: 0.97598 | Correct: 40/64\n",
            "Estimator: 009 | Epoch: 001 | Batch: 500 | Loss: 0.66194 | Correct: 48/64\n",
            "Estimator: 009 | Epoch: 001 | Batch: 600 | Loss: 0.61801 | Correct: 55/64\n",
            "Estimator: 009 | Epoch: 001 | Batch: 700 | Loss: 0.74589 | Correct: 48/64\n",
            "Estimator: 000 | Epoch: 002 | Batch: 000 | Loss: 0.52990 | Correct: 52/64\n",
            "Estimator: 000 | Epoch: 002 | Batch: 100 | Loss: 0.47349 | Correct: 54/64\n",
            "Estimator: 000 | Epoch: 002 | Batch: 200 | Loss: 0.79378 | Correct: 43/64\n",
            "Estimator: 000 | Epoch: 002 | Batch: 300 | Loss: 0.80939 | Correct: 47/64\n",
            "Estimator: 000 | Epoch: 002 | Batch: 400 | Loss: 0.55664 | Correct: 52/64\n",
            "Estimator: 000 | Epoch: 002 | Batch: 500 | Loss: 0.63752 | Correct: 50/64\n",
            "Estimator: 000 | Epoch: 002 | Batch: 600 | Loss: 0.64162 | Correct: 50/64\n",
            "Estimator: 000 | Epoch: 002 | Batch: 700 | Loss: 0.88980 | Correct: 47/64\n",
            "Estimator: 001 | Epoch: 002 | Batch: 000 | Loss: 0.76170 | Correct: 48/64\n",
            "Estimator: 001 | Epoch: 002 | Batch: 100 | Loss: 0.81860 | Correct: 45/64\n",
            "Estimator: 001 | Epoch: 002 | Batch: 200 | Loss: 0.79052 | Correct: 43/64\n",
            "Estimator: 001 | Epoch: 002 | Batch: 300 | Loss: 0.49330 | Correct: 53/64\n",
            "Estimator: 001 | Epoch: 002 | Batch: 400 | Loss: 0.82994 | Correct: 46/64\n",
            "Estimator: 001 | Epoch: 002 | Batch: 500 | Loss: 0.75795 | Correct: 47/64\n",
            "Estimator: 001 | Epoch: 002 | Batch: 600 | Loss: 0.66792 | Correct: 49/64\n",
            "Estimator: 001 | Epoch: 002 | Batch: 700 | Loss: 0.82163 | Correct: 47/64\n",
            "Estimator: 002 | Epoch: 002 | Batch: 000 | Loss: 0.71755 | Correct: 50/64\n",
            "Estimator: 002 | Epoch: 002 | Batch: 100 | Loss: 0.59544 | Correct: 50/64\n",
            "Estimator: 002 | Epoch: 002 | Batch: 200 | Loss: 0.74390 | Correct: 47/64\n",
            "Estimator: 002 | Epoch: 002 | Batch: 300 | Loss: 0.83402 | Correct: 46/64\n",
            "Estimator: 002 | Epoch: 002 | Batch: 400 | Loss: 0.58640 | Correct: 52/64\n",
            "Estimator: 002 | Epoch: 002 | Batch: 500 | Loss: 0.87296 | Correct: 46/64\n",
            "Estimator: 002 | Epoch: 002 | Batch: 600 | Loss: 0.80779 | Correct: 45/64\n",
            "Estimator: 002 | Epoch: 002 | Batch: 700 | Loss: 0.61054 | Correct: 51/64\n",
            "Estimator: 003 | Epoch: 002 | Batch: 000 | Loss: 0.69672 | Correct: 49/64\n",
            "Estimator: 003 | Epoch: 002 | Batch: 100 | Loss: 0.75990 | Correct: 49/64\n",
            "Estimator: 003 | Epoch: 002 | Batch: 200 | Loss: 0.51732 | Correct: 50/64\n",
            "Estimator: 003 | Epoch: 002 | Batch: 300 | Loss: 0.80415 | Correct: 44/64\n",
            "Estimator: 003 | Epoch: 002 | Batch: 400 | Loss: 0.83195 | Correct: 47/64\n",
            "Estimator: 003 | Epoch: 002 | Batch: 500 | Loss: 0.66381 | Correct: 52/64\n",
            "Estimator: 003 | Epoch: 002 | Batch: 600 | Loss: 0.71674 | Correct: 49/64\n",
            "Estimator: 003 | Epoch: 002 | Batch: 700 | Loss: 0.78213 | Correct: 46/64\n",
            "Estimator: 004 | Epoch: 002 | Batch: 000 | Loss: 0.81466 | Correct: 45/64\n",
            "Estimator: 004 | Epoch: 002 | Batch: 100 | Loss: 0.56533 | Correct: 51/64\n",
            "Estimator: 004 | Epoch: 002 | Batch: 200 | Loss: 0.63798 | Correct: 49/64\n",
            "Estimator: 004 | Epoch: 002 | Batch: 300 | Loss: 0.74507 | Correct: 50/64\n",
            "Estimator: 004 | Epoch: 002 | Batch: 400 | Loss: 0.81554 | Correct: 47/64\n",
            "Estimator: 004 | Epoch: 002 | Batch: 500 | Loss: 0.94442 | Correct: 43/64\n",
            "Estimator: 004 | Epoch: 002 | Batch: 600 | Loss: 0.64735 | Correct: 49/64\n",
            "Estimator: 004 | Epoch: 002 | Batch: 700 | Loss: 0.68106 | Correct: 44/64\n",
            "Estimator: 005 | Epoch: 002 | Batch: 000 | Loss: 0.66972 | Correct: 50/64\n",
            "Estimator: 005 | Epoch: 002 | Batch: 100 | Loss: 0.67003 | Correct: 50/64\n",
            "Estimator: 005 | Epoch: 002 | Batch: 200 | Loss: 0.76907 | Correct: 49/64\n",
            "Estimator: 005 | Epoch: 002 | Batch: 300 | Loss: 0.65842 | Correct: 49/64\n",
            "Estimator: 005 | Epoch: 002 | Batch: 400 | Loss: 0.75623 | Correct: 48/64\n",
            "Estimator: 005 | Epoch: 002 | Batch: 500 | Loss: 0.59635 | Correct: 51/64\n",
            "Estimator: 005 | Epoch: 002 | Batch: 600 | Loss: 0.90778 | Correct: 45/64\n",
            "Estimator: 005 | Epoch: 002 | Batch: 700 | Loss: 0.82301 | Correct: 49/64\n",
            "Estimator: 006 | Epoch: 002 | Batch: 000 | Loss: 0.72285 | Correct: 50/64\n",
            "Estimator: 006 | Epoch: 002 | Batch: 100 | Loss: 0.53979 | Correct: 55/64\n",
            "Estimator: 006 | Epoch: 002 | Batch: 200 | Loss: 0.75286 | Correct: 46/64\n",
            "Estimator: 006 | Epoch: 002 | Batch: 300 | Loss: 0.94936 | Correct: 44/64\n",
            "Estimator: 006 | Epoch: 002 | Batch: 400 | Loss: 0.62903 | Correct: 51/64\n",
            "Estimator: 006 | Epoch: 002 | Batch: 500 | Loss: 0.69735 | Correct: 49/64\n",
            "Estimator: 006 | Epoch: 002 | Batch: 600 | Loss: 0.81864 | Correct: 44/64\n",
            "Estimator: 006 | Epoch: 002 | Batch: 700 | Loss: 0.65804 | Correct: 47/64\n",
            "Estimator: 007 | Epoch: 002 | Batch: 000 | Loss: 0.93782 | Correct: 43/64\n",
            "Estimator: 007 | Epoch: 002 | Batch: 100 | Loss: 0.77744 | Correct: 46/64\n",
            "Estimator: 007 | Epoch: 002 | Batch: 200 | Loss: 0.81804 | Correct: 47/64\n",
            "Estimator: 007 | Epoch: 002 | Batch: 300 | Loss: 0.99052 | Correct: 43/64\n",
            "Estimator: 007 | Epoch: 002 | Batch: 400 | Loss: 0.97877 | Correct: 48/64\n",
            "Estimator: 007 | Epoch: 002 | Batch: 500 | Loss: 0.61372 | Correct: 53/64\n",
            "Estimator: 007 | Epoch: 002 | Batch: 600 | Loss: 0.63987 | Correct: 54/64\n",
            "Estimator: 007 | Epoch: 002 | Batch: 700 | Loss: 0.68524 | Correct: 49/64\n",
            "Estimator: 008 | Epoch: 002 | Batch: 000 | Loss: 0.38457 | Correct: 56/64\n",
            "Estimator: 008 | Epoch: 002 | Batch: 100 | Loss: 0.93418 | Correct: 45/64\n",
            "Estimator: 008 | Epoch: 002 | Batch: 200 | Loss: 0.81685 | Correct: 48/64\n",
            "Estimator: 008 | Epoch: 002 | Batch: 300 | Loss: 0.63751 | Correct: 49/64\n",
            "Estimator: 008 | Epoch: 002 | Batch: 400 | Loss: 0.54713 | Correct: 49/64\n",
            "Estimator: 008 | Epoch: 002 | Batch: 500 | Loss: 0.80633 | Correct: 45/64\n",
            "Estimator: 008 | Epoch: 002 | Batch: 600 | Loss: 0.77386 | Correct: 47/64\n",
            "Estimator: 008 | Epoch: 002 | Batch: 700 | Loss: 0.66291 | Correct: 52/64\n",
            "Estimator: 009 | Epoch: 002 | Batch: 000 | Loss: 1.03064 | Correct: 40/64\n",
            "Estimator: 009 | Epoch: 002 | Batch: 100 | Loss: 0.67647 | Correct: 48/64\n",
            "Estimator: 009 | Epoch: 002 | Batch: 200 | Loss: 0.72828 | Correct: 50/64\n",
            "Estimator: 009 | Epoch: 002 | Batch: 300 | Loss: 0.48956 | Correct: 50/64\n",
            "Estimator: 009 | Epoch: 002 | Batch: 400 | Loss: 0.49312 | Correct: 53/64\n",
            "Estimator: 009 | Epoch: 002 | Batch: 500 | Loss: 0.55949 | Correct: 55/64\n",
            "Estimator: 009 | Epoch: 002 | Batch: 600 | Loss: 0.62204 | Correct: 49/64\n",
            "Estimator: 009 | Epoch: 002 | Batch: 700 | Loss: 0.78903 | Correct: 46/64\n",
            "Estimator: 000 | Epoch: 003 | Batch: 000 | Loss: 0.68159 | Correct: 48/64\n",
            "Estimator: 000 | Epoch: 003 | Batch: 100 | Loss: 0.67044 | Correct: 51/64\n",
            "Estimator: 000 | Epoch: 003 | Batch: 200 | Loss: 0.59733 | Correct: 49/64\n",
            "Estimator: 000 | Epoch: 003 | Batch: 300 | Loss: 0.54159 | Correct: 53/64\n",
            "Estimator: 000 | Epoch: 003 | Batch: 400 | Loss: 0.63146 | Correct: 50/64\n",
            "Estimator: 000 | Epoch: 003 | Batch: 500 | Loss: 0.54423 | Correct: 50/64\n",
            "Estimator: 000 | Epoch: 003 | Batch: 600 | Loss: 0.53357 | Correct: 55/64\n",
            "Estimator: 000 | Epoch: 003 | Batch: 700 | Loss: 0.71262 | Correct: 51/64\n",
            "Estimator: 001 | Epoch: 003 | Batch: 000 | Loss: 0.66339 | Correct: 52/64\n",
            "Estimator: 001 | Epoch: 003 | Batch: 100 | Loss: 0.67271 | Correct: 51/64\n",
            "Estimator: 001 | Epoch: 003 | Batch: 200 | Loss: 0.63744 | Correct: 49/64\n",
            "Estimator: 001 | Epoch: 003 | Batch: 300 | Loss: 0.40440 | Correct: 55/64\n",
            "Estimator: 001 | Epoch: 003 | Batch: 400 | Loss: 0.73857 | Correct: 47/64\n",
            "Estimator: 001 | Epoch: 003 | Batch: 500 | Loss: 0.64711 | Correct: 47/64\n",
            "Estimator: 001 | Epoch: 003 | Batch: 600 | Loss: 0.51809 | Correct: 55/64\n",
            "Estimator: 001 | Epoch: 003 | Batch: 700 | Loss: 0.55766 | Correct: 51/64\n",
            "Estimator: 002 | Epoch: 003 | Batch: 000 | Loss: 0.89938 | Correct: 39/64\n",
            "Estimator: 002 | Epoch: 003 | Batch: 100 | Loss: 0.60517 | Correct: 48/64\n",
            "Estimator: 002 | Epoch: 003 | Batch: 200 | Loss: 0.56043 | Correct: 51/64\n",
            "Estimator: 002 | Epoch: 003 | Batch: 300 | Loss: 0.57277 | Correct: 49/64\n",
            "Estimator: 002 | Epoch: 003 | Batch: 400 | Loss: 0.62699 | Correct: 50/64\n",
            "Estimator: 002 | Epoch: 003 | Batch: 500 | Loss: 0.64558 | Correct: 49/64\n",
            "Estimator: 002 | Epoch: 003 | Batch: 600 | Loss: 0.58759 | Correct: 49/64\n",
            "Estimator: 002 | Epoch: 003 | Batch: 700 | Loss: 0.68914 | Correct: 50/64\n",
            "Estimator: 003 | Epoch: 003 | Batch: 000 | Loss: 0.57160 | Correct: 52/64\n",
            "Estimator: 003 | Epoch: 003 | Batch: 100 | Loss: 0.63343 | Correct: 50/64\n",
            "Estimator: 003 | Epoch: 003 | Batch: 200 | Loss: 0.61054 | Correct: 48/64\n",
            "Estimator: 003 | Epoch: 003 | Batch: 300 | Loss: 0.69641 | Correct: 50/64\n",
            "Estimator: 003 | Epoch: 003 | Batch: 400 | Loss: 0.56002 | Correct: 51/64\n",
            "Estimator: 003 | Epoch: 003 | Batch: 500 | Loss: 0.62848 | Correct: 53/64\n",
            "Estimator: 003 | Epoch: 003 | Batch: 600 | Loss: 0.68862 | Correct: 44/64\n",
            "Estimator: 003 | Epoch: 003 | Batch: 700 | Loss: 0.49620 | Correct: 53/64\n",
            "Estimator: 004 | Epoch: 003 | Batch: 000 | Loss: 0.55943 | Correct: 50/64\n",
            "Estimator: 004 | Epoch: 003 | Batch: 100 | Loss: 0.58877 | Correct: 54/64\n",
            "Estimator: 004 | Epoch: 003 | Batch: 200 | Loss: 0.62470 | Correct: 48/64\n",
            "Estimator: 004 | Epoch: 003 | Batch: 300 | Loss: 0.79101 | Correct: 44/64\n",
            "Estimator: 004 | Epoch: 003 | Batch: 400 | Loss: 0.60041 | Correct: 49/64\n",
            "Estimator: 004 | Epoch: 003 | Batch: 500 | Loss: 0.75416 | Correct: 49/64\n",
            "Estimator: 004 | Epoch: 003 | Batch: 600 | Loss: 0.49514 | Correct: 55/64\n",
            "Estimator: 004 | Epoch: 003 | Batch: 700 | Loss: 0.61279 | Correct: 50/64\n",
            "Estimator: 005 | Epoch: 003 | Batch: 000 | Loss: 0.59948 | Correct: 51/64\n",
            "Estimator: 005 | Epoch: 003 | Batch: 100 | Loss: 0.69075 | Correct: 48/64\n",
            "Estimator: 005 | Epoch: 003 | Batch: 200 | Loss: 0.75808 | Correct: 48/64\n",
            "Estimator: 005 | Epoch: 003 | Batch: 300 | Loss: 0.78821 | Correct: 49/64\n",
            "Estimator: 005 | Epoch: 003 | Batch: 400 | Loss: 0.81671 | Correct: 49/64\n",
            "Estimator: 005 | Epoch: 003 | Batch: 500 | Loss: 0.53831 | Correct: 53/64\n",
            "Estimator: 005 | Epoch: 003 | Batch: 600 | Loss: 0.75783 | Correct: 48/64\n",
            "Estimator: 005 | Epoch: 003 | Batch: 700 | Loss: 0.65052 | Correct: 47/64\n",
            "Estimator: 006 | Epoch: 003 | Batch: 000 | Loss: 0.76877 | Correct: 50/64\n",
            "Estimator: 006 | Epoch: 003 | Batch: 100 | Loss: 0.61927 | Correct: 51/64\n",
            "Estimator: 006 | Epoch: 003 | Batch: 200 | Loss: 0.67663 | Correct: 50/64\n",
            "Estimator: 006 | Epoch: 003 | Batch: 300 | Loss: 0.71316 | Correct: 46/64\n",
            "Estimator: 006 | Epoch: 003 | Batch: 400 | Loss: 0.72532 | Correct: 48/64\n",
            "Estimator: 006 | Epoch: 003 | Batch: 500 | Loss: 0.80767 | Correct: 47/64\n",
            "Estimator: 006 | Epoch: 003 | Batch: 600 | Loss: 0.49993 | Correct: 54/64\n",
            "Estimator: 006 | Epoch: 003 | Batch: 700 | Loss: 0.82197 | Correct: 45/64\n",
            "Estimator: 007 | Epoch: 003 | Batch: 000 | Loss: 0.82441 | Correct: 47/64\n",
            "Estimator: 007 | Epoch: 003 | Batch: 100 | Loss: 0.63838 | Correct: 51/64\n",
            "Estimator: 007 | Epoch: 003 | Batch: 200 | Loss: 0.63236 | Correct: 48/64\n",
            "Estimator: 007 | Epoch: 003 | Batch: 300 | Loss: 0.42096 | Correct: 56/64\n",
            "Estimator: 007 | Epoch: 003 | Batch: 400 | Loss: 0.53920 | Correct: 50/64\n",
            "Estimator: 007 | Epoch: 003 | Batch: 500 | Loss: 0.54891 | Correct: 51/64\n",
            "Estimator: 007 | Epoch: 003 | Batch: 600 | Loss: 0.65255 | Correct: 49/64\n",
            "Estimator: 007 | Epoch: 003 | Batch: 700 | Loss: 0.48224 | Correct: 54/64\n",
            "Estimator: 008 | Epoch: 003 | Batch: 000 | Loss: 0.84122 | Correct: 45/64\n",
            "Estimator: 008 | Epoch: 003 | Batch: 100 | Loss: 0.63720 | Correct: 50/64\n",
            "Estimator: 008 | Epoch: 003 | Batch: 200 | Loss: 0.62486 | Correct: 50/64\n",
            "Estimator: 008 | Epoch: 003 | Batch: 300 | Loss: 0.46498 | Correct: 51/64\n",
            "Estimator: 008 | Epoch: 003 | Batch: 400 | Loss: 0.74998 | Correct: 45/64\n",
            "Estimator: 008 | Epoch: 003 | Batch: 500 | Loss: 0.55343 | Correct: 52/64\n",
            "Estimator: 008 | Epoch: 003 | Batch: 600 | Loss: 0.75346 | Correct: 48/64\n",
            "Estimator: 008 | Epoch: 003 | Batch: 700 | Loss: 0.53563 | Correct: 53/64\n",
            "Estimator: 009 | Epoch: 003 | Batch: 000 | Loss: 0.69596 | Correct: 50/64\n",
            "Estimator: 009 | Epoch: 003 | Batch: 100 | Loss: 0.62448 | Correct: 52/64\n",
            "Estimator: 009 | Epoch: 003 | Batch: 200 | Loss: 0.91499 | Correct: 44/64\n",
            "Estimator: 009 | Epoch: 003 | Batch: 300 | Loss: 0.80183 | Correct: 48/64\n",
            "Estimator: 009 | Epoch: 003 | Batch: 400 | Loss: 0.52553 | Correct: 55/64\n",
            "Estimator: 009 | Epoch: 003 | Batch: 500 | Loss: 0.89727 | Correct: 44/64\n",
            "Estimator: 009 | Epoch: 003 | Batch: 600 | Loss: 0.55901 | Correct: 49/64\n",
            "Estimator: 009 | Epoch: 003 | Batch: 700 | Loss: 0.70991 | Correct: 48/64\n",
            "Estimator: 000 | Epoch: 004 | Batch: 000 | Loss: 0.45942 | Correct: 55/64\n",
            "Estimator: 000 | Epoch: 004 | Batch: 100 | Loss: 0.43534 | Correct: 52/64\n",
            "Estimator: 000 | Epoch: 004 | Batch: 200 | Loss: 0.50008 | Correct: 54/64\n",
            "Estimator: 000 | Epoch: 004 | Batch: 300 | Loss: 0.65721 | Correct: 49/64\n",
            "Estimator: 000 | Epoch: 004 | Batch: 400 | Loss: 0.50867 | Correct: 54/64\n",
            "Estimator: 000 | Epoch: 004 | Batch: 500 | Loss: 0.65815 | Correct: 51/64\n",
            "Estimator: 000 | Epoch: 004 | Batch: 600 | Loss: 0.42796 | Correct: 55/64\n",
            "Estimator: 000 | Epoch: 004 | Batch: 700 | Loss: 0.57716 | Correct: 52/64\n",
            "Estimator: 001 | Epoch: 004 | Batch: 000 | Loss: 0.67685 | Correct: 50/64\n",
            "Estimator: 001 | Epoch: 004 | Batch: 100 | Loss: 0.67171 | Correct: 49/64\n",
            "Estimator: 001 | Epoch: 004 | Batch: 200 | Loss: 0.45442 | Correct: 52/64\n",
            "Estimator: 001 | Epoch: 004 | Batch: 300 | Loss: 0.58392 | Correct: 48/64\n",
            "Estimator: 001 | Epoch: 004 | Batch: 400 | Loss: 0.51133 | Correct: 51/64\n",
            "Estimator: 001 | Epoch: 004 | Batch: 500 | Loss: 0.32131 | Correct: 59/64\n",
            "Estimator: 001 | Epoch: 004 | Batch: 600 | Loss: 0.64676 | Correct: 47/64\n",
            "Estimator: 001 | Epoch: 004 | Batch: 700 | Loss: 0.51582 | Correct: 56/64\n",
            "Estimator: 002 | Epoch: 004 | Batch: 000 | Loss: 0.66413 | Correct: 49/64\n",
            "Estimator: 002 | Epoch: 004 | Batch: 100 | Loss: 0.60452 | Correct: 48/64\n",
            "Estimator: 002 | Epoch: 004 | Batch: 200 | Loss: 0.63690 | Correct: 51/64\n",
            "Estimator: 002 | Epoch: 004 | Batch: 300 | Loss: 0.73720 | Correct: 44/64\n",
            "Estimator: 002 | Epoch: 004 | Batch: 400 | Loss: 0.48847 | Correct: 54/64\n",
            "Estimator: 002 | Epoch: 004 | Batch: 500 | Loss: 0.64636 | Correct: 51/64\n",
            "Estimator: 002 | Epoch: 004 | Batch: 600 | Loss: 0.69229 | Correct: 47/64\n",
            "Estimator: 002 | Epoch: 004 | Batch: 700 | Loss: 0.73061 | Correct: 48/64\n",
            "Estimator: 003 | Epoch: 004 | Batch: 000 | Loss: 0.45334 | Correct: 54/64\n",
            "Estimator: 003 | Epoch: 004 | Batch: 100 | Loss: 0.64150 | Correct: 52/64\n",
            "Estimator: 003 | Epoch: 004 | Batch: 200 | Loss: 0.54851 | Correct: 51/64\n",
            "Estimator: 003 | Epoch: 004 | Batch: 300 | Loss: 0.43946 | Correct: 55/64\n",
            "Estimator: 003 | Epoch: 004 | Batch: 400 | Loss: 0.43156 | Correct: 52/64\n",
            "Estimator: 003 | Epoch: 004 | Batch: 500 | Loss: 0.39102 | Correct: 55/64\n",
            "Estimator: 003 | Epoch: 004 | Batch: 600 | Loss: 0.45874 | Correct: 55/64\n",
            "Estimator: 003 | Epoch: 004 | Batch: 700 | Loss: 0.68918 | Correct: 48/64\n",
            "Estimator: 004 | Epoch: 004 | Batch: 000 | Loss: 0.59652 | Correct: 53/64\n",
            "Estimator: 004 | Epoch: 004 | Batch: 100 | Loss: 0.70118 | Correct: 51/64\n",
            "Estimator: 004 | Epoch: 004 | Batch: 200 | Loss: 0.51176 | Correct: 55/64\n",
            "Estimator: 004 | Epoch: 004 | Batch: 300 | Loss: 0.50856 | Correct: 51/64\n",
            "Estimator: 004 | Epoch: 004 | Batch: 400 | Loss: 0.69671 | Correct: 50/64\n",
            "Estimator: 004 | Epoch: 004 | Batch: 500 | Loss: 0.63475 | Correct: 50/64\n",
            "Estimator: 004 | Epoch: 004 | Batch: 600 | Loss: 0.41063 | Correct: 56/64\n",
            "Estimator: 004 | Epoch: 004 | Batch: 700 | Loss: 0.47282 | Correct: 55/64\n",
            "Estimator: 005 | Epoch: 004 | Batch: 000 | Loss: 0.78615 | Correct: 45/64\n",
            "Estimator: 005 | Epoch: 004 | Batch: 100 | Loss: 0.66148 | Correct: 50/64\n",
            "Estimator: 005 | Epoch: 004 | Batch: 200 | Loss: 0.63957 | Correct: 51/64\n",
            "Estimator: 005 | Epoch: 004 | Batch: 300 | Loss: 0.45312 | Correct: 54/64\n",
            "Estimator: 005 | Epoch: 004 | Batch: 400 | Loss: 0.55425 | Correct: 51/64\n",
            "Estimator: 005 | Epoch: 004 | Batch: 500 | Loss: 0.50886 | Correct: 47/64\n",
            "Estimator: 005 | Epoch: 004 | Batch: 600 | Loss: 0.54598 | Correct: 50/64\n",
            "Estimator: 005 | Epoch: 004 | Batch: 700 | Loss: 0.74018 | Correct: 48/64\n",
            "Estimator: 006 | Epoch: 004 | Batch: 000 | Loss: 0.68582 | Correct: 48/64\n",
            "Estimator: 006 | Epoch: 004 | Batch: 100 | Loss: 0.56306 | Correct: 50/64\n",
            "Estimator: 006 | Epoch: 004 | Batch: 200 | Loss: 0.68272 | Correct: 50/64\n",
            "Estimator: 006 | Epoch: 004 | Batch: 300 | Loss: 0.57663 | Correct: 53/64\n",
            "Estimator: 006 | Epoch: 004 | Batch: 400 | Loss: 0.54836 | Correct: 52/64\n",
            "Estimator: 006 | Epoch: 004 | Batch: 500 | Loss: 0.75069 | Correct: 47/64\n",
            "Estimator: 006 | Epoch: 004 | Batch: 600 | Loss: 0.63348 | Correct: 48/64\n",
            "Estimator: 006 | Epoch: 004 | Batch: 700 | Loss: 0.53245 | Correct: 51/64\n",
            "Estimator: 007 | Epoch: 004 | Batch: 000 | Loss: 0.65919 | Correct: 50/64\n",
            "Estimator: 007 | Epoch: 004 | Batch: 100 | Loss: 0.32146 | Correct: 58/64\n",
            "Estimator: 007 | Epoch: 004 | Batch: 200 | Loss: 0.45308 | Correct: 53/64\n",
            "Estimator: 007 | Epoch: 004 | Batch: 300 | Loss: 0.50869 | Correct: 54/64\n",
            "Estimator: 007 | Epoch: 004 | Batch: 400 | Loss: 0.74786 | Correct: 43/64\n",
            "Estimator: 007 | Epoch: 004 | Batch: 500 | Loss: 0.33630 | Correct: 57/64\n",
            "Estimator: 007 | Epoch: 004 | Batch: 600 | Loss: 0.54566 | Correct: 54/64\n",
            "Estimator: 007 | Epoch: 004 | Batch: 700 | Loss: 0.62629 | Correct: 49/64\n",
            "Estimator: 008 | Epoch: 004 | Batch: 000 | Loss: 0.65808 | Correct: 49/64\n",
            "Estimator: 008 | Epoch: 004 | Batch: 100 | Loss: 0.55350 | Correct: 51/64\n",
            "Estimator: 008 | Epoch: 004 | Batch: 200 | Loss: 0.53483 | Correct: 49/64\n",
            "Estimator: 008 | Epoch: 004 | Batch: 300 | Loss: 0.66619 | Correct: 51/64\n",
            "Estimator: 008 | Epoch: 004 | Batch: 400 | Loss: 0.54100 | Correct: 53/64\n",
            "Estimator: 008 | Epoch: 004 | Batch: 500 | Loss: 0.49616 | Correct: 50/64\n",
            "Estimator: 008 | Epoch: 004 | Batch: 600 | Loss: 0.51115 | Correct: 51/64\n",
            "Estimator: 008 | Epoch: 004 | Batch: 700 | Loss: 0.59310 | Correct: 49/64\n",
            "Estimator: 009 | Epoch: 004 | Batch: 000 | Loss: 0.51690 | Correct: 54/64\n",
            "Estimator: 009 | Epoch: 004 | Batch: 100 | Loss: 0.53317 | Correct: 54/64\n",
            "Estimator: 009 | Epoch: 004 | Batch: 200 | Loss: 0.48376 | Correct: 52/64\n",
            "Estimator: 009 | Epoch: 004 | Batch: 300 | Loss: 0.57146 | Correct: 50/64\n",
            "Estimator: 009 | Epoch: 004 | Batch: 400 | Loss: 0.73819 | Correct: 48/64\n",
            "Estimator: 009 | Epoch: 004 | Batch: 500 | Loss: 0.54541 | Correct: 54/64\n",
            "Estimator: 009 | Epoch: 004 | Batch: 600 | Loss: 0.64008 | Correct: 49/64\n",
            "Estimator: 009 | Epoch: 004 | Batch: 700 | Loss: 0.46733 | Correct: 55/64\n",
            "Estimator: 000 | Epoch: 005 | Batch: 000 | Loss: 0.53535 | Correct: 50/64\n",
            "Estimator: 000 | Epoch: 005 | Batch: 100 | Loss: 0.62851 | Correct: 52/64\n",
            "Estimator: 000 | Epoch: 005 | Batch: 200 | Loss: 0.51752 | Correct: 54/64\n",
            "Estimator: 000 | Epoch: 005 | Batch: 300 | Loss: 0.51620 | Correct: 51/64\n",
            "Estimator: 000 | Epoch: 005 | Batch: 400 | Loss: 0.69195 | Correct: 51/64\n",
            "Estimator: 000 | Epoch: 005 | Batch: 500 | Loss: 0.59893 | Correct: 51/64\n",
            "Estimator: 000 | Epoch: 005 | Batch: 600 | Loss: 0.41248 | Correct: 57/64\n",
            "Estimator: 000 | Epoch: 005 | Batch: 700 | Loss: 0.49572 | Correct: 54/64\n",
            "Estimator: 001 | Epoch: 005 | Batch: 000 | Loss: 0.38738 | Correct: 54/64\n",
            "Estimator: 001 | Epoch: 005 | Batch: 100 | Loss: 0.55813 | Correct: 50/64\n",
            "Estimator: 001 | Epoch: 005 | Batch: 200 | Loss: 0.65027 | Correct: 47/64\n",
            "Estimator: 001 | Epoch: 005 | Batch: 300 | Loss: 0.69980 | Correct: 45/64\n",
            "Estimator: 001 | Epoch: 005 | Batch: 400 | Loss: 0.70159 | Correct: 47/64\n",
            "Estimator: 001 | Epoch: 005 | Batch: 500 | Loss: 0.42425 | Correct: 55/64\n",
            "Estimator: 001 | Epoch: 005 | Batch: 600 | Loss: 0.54218 | Correct: 50/64\n",
            "Estimator: 001 | Epoch: 005 | Batch: 700 | Loss: 0.43070 | Correct: 54/64\n",
            "Estimator: 002 | Epoch: 005 | Batch: 000 | Loss: 0.41403 | Correct: 54/64\n",
            "Estimator: 002 | Epoch: 005 | Batch: 100 | Loss: 0.82741 | Correct: 46/64\n",
            "Estimator: 002 | Epoch: 005 | Batch: 200 | Loss: 0.73111 | Correct: 47/64\n",
            "Estimator: 002 | Epoch: 005 | Batch: 300 | Loss: 0.54175 | Correct: 50/64\n",
            "Estimator: 002 | Epoch: 005 | Batch: 400 | Loss: 0.43374 | Correct: 53/64\n",
            "Estimator: 002 | Epoch: 005 | Batch: 500 | Loss: 0.64729 | Correct: 49/64\n",
            "Estimator: 002 | Epoch: 005 | Batch: 600 | Loss: 0.43138 | Correct: 52/64\n",
            "Estimator: 002 | Epoch: 005 | Batch: 700 | Loss: 0.51106 | Correct: 53/64\n",
            "Estimator: 003 | Epoch: 005 | Batch: 000 | Loss: 0.61374 | Correct: 51/64\n",
            "Estimator: 003 | Epoch: 005 | Batch: 100 | Loss: 0.61609 | Correct: 52/64\n",
            "Estimator: 003 | Epoch: 005 | Batch: 200 | Loss: 0.33777 | Correct: 57/64\n",
            "Estimator: 003 | Epoch: 005 | Batch: 300 | Loss: 0.48220 | Correct: 51/64\n",
            "Estimator: 003 | Epoch: 005 | Batch: 400 | Loss: 0.46179 | Correct: 52/64\n",
            "Estimator: 003 | Epoch: 005 | Batch: 500 | Loss: 0.44567 | Correct: 57/64\n",
            "Estimator: 003 | Epoch: 005 | Batch: 600 | Loss: 0.48217 | Correct: 51/64\n",
            "Estimator: 003 | Epoch: 005 | Batch: 700 | Loss: 0.53544 | Correct: 49/64\n",
            "Estimator: 004 | Epoch: 005 | Batch: 000 | Loss: 0.58679 | Correct: 51/64\n",
            "Estimator: 004 | Epoch: 005 | Batch: 100 | Loss: 0.49626 | Correct: 55/64\n",
            "Estimator: 004 | Epoch: 005 | Batch: 200 | Loss: 0.41545 | Correct: 54/64\n",
            "Estimator: 004 | Epoch: 005 | Batch: 300 | Loss: 0.66267 | Correct: 50/64\n",
            "Estimator: 004 | Epoch: 005 | Batch: 400 | Loss: 0.48826 | Correct: 54/64\n",
            "Estimator: 004 | Epoch: 005 | Batch: 500 | Loss: 0.43398 | Correct: 54/64\n",
            "Estimator: 004 | Epoch: 005 | Batch: 600 | Loss: 0.53228 | Correct: 50/64\n",
            "Estimator: 004 | Epoch: 005 | Batch: 700 | Loss: 0.49026 | Correct: 48/64\n",
            "Estimator: 005 | Epoch: 005 | Batch: 000 | Loss: 0.49852 | Correct: 53/64\n",
            "Estimator: 005 | Epoch: 005 | Batch: 100 | Loss: 0.70622 | Correct: 49/64\n",
            "Estimator: 005 | Epoch: 005 | Batch: 200 | Loss: 0.44740 | Correct: 55/64\n",
            "Estimator: 005 | Epoch: 005 | Batch: 300 | Loss: 0.51619 | Correct: 52/64\n",
            "Estimator: 005 | Epoch: 005 | Batch: 400 | Loss: 0.46057 | Correct: 56/64\n",
            "Estimator: 005 | Epoch: 005 | Batch: 500 | Loss: 0.58560 | Correct: 52/64\n",
            "Estimator: 005 | Epoch: 005 | Batch: 600 | Loss: 0.45386 | Correct: 51/64\n",
            "Estimator: 005 | Epoch: 005 | Batch: 700 | Loss: 0.57682 | Correct: 51/64\n",
            "Estimator: 006 | Epoch: 005 | Batch: 000 | Loss: 0.40797 | Correct: 54/64\n",
            "Estimator: 006 | Epoch: 005 | Batch: 100 | Loss: 0.57867 | Correct: 51/64\n",
            "Estimator: 006 | Epoch: 005 | Batch: 200 | Loss: 0.47900 | Correct: 53/64\n",
            "Estimator: 006 | Epoch: 005 | Batch: 300 | Loss: 0.52943 | Correct: 54/64\n",
            "Estimator: 006 | Epoch: 005 | Batch: 400 | Loss: 0.66889 | Correct: 50/64\n",
            "Estimator: 006 | Epoch: 005 | Batch: 500 | Loss: 0.73601 | Correct: 45/64\n",
            "Estimator: 006 | Epoch: 005 | Batch: 600 | Loss: 0.64821 | Correct: 48/64\n",
            "Estimator: 006 | Epoch: 005 | Batch: 700 | Loss: 0.39141 | Correct: 56/64\n",
            "Estimator: 007 | Epoch: 005 | Batch: 000 | Loss: 0.56366 | Correct: 47/64\n",
            "Estimator: 007 | Epoch: 005 | Batch: 100 | Loss: 0.63920 | Correct: 49/64\n",
            "Estimator: 007 | Epoch: 005 | Batch: 200 | Loss: 0.72791 | Correct: 46/64\n",
            "Estimator: 007 | Epoch: 005 | Batch: 300 | Loss: 0.49570 | Correct: 54/64\n",
            "Estimator: 007 | Epoch: 005 | Batch: 400 | Loss: 0.55947 | Correct: 53/64\n",
            "Estimator: 007 | Epoch: 005 | Batch: 500 | Loss: 0.64996 | Correct: 49/64\n",
            "Estimator: 007 | Epoch: 005 | Batch: 600 | Loss: 0.74233 | Correct: 45/64\n",
            "Estimator: 007 | Epoch: 005 | Batch: 700 | Loss: 0.74571 | Correct: 45/64\n",
            "Estimator: 008 | Epoch: 005 | Batch: 000 | Loss: 0.64179 | Correct: 52/64\n",
            "Estimator: 008 | Epoch: 005 | Batch: 100 | Loss: 0.72622 | Correct: 46/64\n",
            "Estimator: 008 | Epoch: 005 | Batch: 200 | Loss: 0.59509 | Correct: 47/64\n",
            "Estimator: 008 | Epoch: 005 | Batch: 300 | Loss: 0.63374 | Correct: 51/64\n",
            "Estimator: 008 | Epoch: 005 | Batch: 400 | Loss: 0.60834 | Correct: 42/64\n",
            "Estimator: 008 | Epoch: 005 | Batch: 500 | Loss: 0.69760 | Correct: 52/64\n",
            "Estimator: 008 | Epoch: 005 | Batch: 600 | Loss: 0.49851 | Correct: 53/64\n",
            "Estimator: 008 | Epoch: 005 | Batch: 700 | Loss: 0.33603 | Correct: 57/64\n",
            "Estimator: 009 | Epoch: 005 | Batch: 000 | Loss: 0.52260 | Correct: 55/64\n",
            "Estimator: 009 | Epoch: 005 | Batch: 100 | Loss: 0.55068 | Correct: 50/64\n",
            "Estimator: 009 | Epoch: 005 | Batch: 200 | Loss: 0.45539 | Correct: 57/64\n",
            "Estimator: 009 | Epoch: 005 | Batch: 300 | Loss: 0.72111 | Correct: 49/64\n",
            "Estimator: 009 | Epoch: 005 | Batch: 400 | Loss: 0.53737 | Correct: 49/64\n",
            "Estimator: 009 | Epoch: 005 | Batch: 500 | Loss: 0.55789 | Correct: 49/64\n",
            "Estimator: 009 | Epoch: 005 | Batch: 600 | Loss: 0.54251 | Correct: 52/64\n",
            "Estimator: 009 | Epoch: 005 | Batch: 700 | Loss: 0.72889 | Correct: 47/64\n",
            "Estimator: 000 | Epoch: 006 | Batch: 000 | Loss: 0.48980 | Correct: 54/64\n",
            "Estimator: 000 | Epoch: 006 | Batch: 100 | Loss: 0.63793 | Correct: 49/64\n",
            "Estimator: 000 | Epoch: 006 | Batch: 200 | Loss: 0.50493 | Correct: 53/64\n",
            "Estimator: 000 | Epoch: 006 | Batch: 300 | Loss: 0.49347 | Correct: 53/64\n",
            "Estimator: 000 | Epoch: 006 | Batch: 400 | Loss: 0.32853 | Correct: 58/64\n",
            "Estimator: 000 | Epoch: 006 | Batch: 500 | Loss: 0.63032 | Correct: 49/64\n",
            "Estimator: 000 | Epoch: 006 | Batch: 600 | Loss: 0.42787 | Correct: 53/64\n",
            "Estimator: 000 | Epoch: 006 | Batch: 700 | Loss: 0.48522 | Correct: 54/64\n",
            "Estimator: 001 | Epoch: 006 | Batch: 000 | Loss: 0.38200 | Correct: 56/64\n",
            "Estimator: 001 | Epoch: 006 | Batch: 100 | Loss: 0.54097 | Correct: 52/64\n",
            "Estimator: 001 | Epoch: 006 | Batch: 200 | Loss: 0.47682 | Correct: 54/64\n",
            "Estimator: 001 | Epoch: 006 | Batch: 300 | Loss: 0.48095 | Correct: 53/64\n",
            "Estimator: 001 | Epoch: 006 | Batch: 400 | Loss: 0.64871 | Correct: 50/64\n",
            "Estimator: 001 | Epoch: 006 | Batch: 500 | Loss: 0.73833 | Correct: 47/64\n",
            "Estimator: 001 | Epoch: 006 | Batch: 600 | Loss: 0.51960 | Correct: 53/64\n",
            "Estimator: 001 | Epoch: 006 | Batch: 700 | Loss: 0.42092 | Correct: 55/64\n",
            "Estimator: 002 | Epoch: 006 | Batch: 000 | Loss: 0.55096 | Correct: 50/64\n",
            "Estimator: 002 | Epoch: 006 | Batch: 100 | Loss: 0.81236 | Correct: 45/64\n",
            "Estimator: 002 | Epoch: 006 | Batch: 200 | Loss: 0.50030 | Correct: 52/64\n",
            "Estimator: 002 | Epoch: 006 | Batch: 300 | Loss: 0.30483 | Correct: 56/64\n",
            "Estimator: 002 | Epoch: 006 | Batch: 400 | Loss: 0.43959 | Correct: 55/64\n",
            "Estimator: 002 | Epoch: 006 | Batch: 500 | Loss: 0.56002 | Correct: 53/64\n",
            "Estimator: 002 | Epoch: 006 | Batch: 600 | Loss: 0.48301 | Correct: 54/64\n",
            "Estimator: 002 | Epoch: 006 | Batch: 700 | Loss: 0.41276 | Correct: 57/64\n",
            "Estimator: 003 | Epoch: 006 | Batch: 000 | Loss: 0.49382 | Correct: 54/64\n",
            "Estimator: 003 | Epoch: 006 | Batch: 100 | Loss: 0.57273 | Correct: 48/64\n",
            "Estimator: 003 | Epoch: 006 | Batch: 200 | Loss: 0.47874 | Correct: 53/64\n",
            "Estimator: 003 | Epoch: 006 | Batch: 300 | Loss: 0.51069 | Correct: 55/64\n",
            "Estimator: 003 | Epoch: 006 | Batch: 400 | Loss: 0.50598 | Correct: 54/64\n",
            "Estimator: 003 | Epoch: 006 | Batch: 500 | Loss: 0.48398 | Correct: 51/64\n",
            "Estimator: 003 | Epoch: 006 | Batch: 600 | Loss: 0.49526 | Correct: 48/64\n",
            "Estimator: 003 | Epoch: 006 | Batch: 700 | Loss: 0.73500 | Correct: 49/64\n",
            "Estimator: 004 | Epoch: 006 | Batch: 000 | Loss: 0.58706 | Correct: 51/64\n",
            "Estimator: 004 | Epoch: 006 | Batch: 100 | Loss: 0.40237 | Correct: 52/64\n",
            "Estimator: 004 | Epoch: 006 | Batch: 200 | Loss: 0.58691 | Correct: 53/64\n",
            "Estimator: 004 | Epoch: 006 | Batch: 300 | Loss: 0.55558 | Correct: 50/64\n",
            "Estimator: 004 | Epoch: 006 | Batch: 400 | Loss: 0.38712 | Correct: 56/64\n",
            "Estimator: 004 | Epoch: 006 | Batch: 500 | Loss: 0.61455 | Correct: 50/64\n",
            "Estimator: 004 | Epoch: 006 | Batch: 600 | Loss: 0.56458 | Correct: 51/64\n",
            "Estimator: 004 | Epoch: 006 | Batch: 700 | Loss: 0.47691 | Correct: 56/64\n",
            "Estimator: 005 | Epoch: 006 | Batch: 000 | Loss: 0.38666 | Correct: 55/64\n",
            "Estimator: 005 | Epoch: 006 | Batch: 100 | Loss: 0.57797 | Correct: 52/64\n",
            "Estimator: 005 | Epoch: 006 | Batch: 200 | Loss: 0.54640 | Correct: 50/64\n",
            "Estimator: 005 | Epoch: 006 | Batch: 300 | Loss: 0.43760 | Correct: 56/64\n",
            "Estimator: 005 | Epoch: 006 | Batch: 400 | Loss: 0.62958 | Correct: 48/64\n",
            "Estimator: 005 | Epoch: 006 | Batch: 500 | Loss: 0.65484 | Correct: 48/64\n",
            "Estimator: 005 | Epoch: 006 | Batch: 600 | Loss: 0.42941 | Correct: 57/64\n",
            "Estimator: 005 | Epoch: 006 | Batch: 700 | Loss: 0.41107 | Correct: 52/64\n",
            "Estimator: 006 | Epoch: 006 | Batch: 000 | Loss: 0.48416 | Correct: 54/64\n",
            "Estimator: 006 | Epoch: 006 | Batch: 100 | Loss: 0.42965 | Correct: 54/64\n",
            "Estimator: 006 | Epoch: 006 | Batch: 200 | Loss: 0.64179 | Correct: 50/64\n",
            "Estimator: 006 | Epoch: 006 | Batch: 300 | Loss: 0.38628 | Correct: 56/64\n",
            "Estimator: 006 | Epoch: 006 | Batch: 400 | Loss: 0.50098 | Correct: 51/64\n",
            "Estimator: 006 | Epoch: 006 | Batch: 500 | Loss: 0.58325 | Correct: 51/64\n",
            "Estimator: 006 | Epoch: 006 | Batch: 600 | Loss: 0.41217 | Correct: 52/64\n",
            "Estimator: 006 | Epoch: 006 | Batch: 700 | Loss: 0.57751 | Correct: 49/64\n",
            "Estimator: 007 | Epoch: 006 | Batch: 000 | Loss: 0.85021 | Correct: 45/64\n",
            "Estimator: 007 | Epoch: 006 | Batch: 100 | Loss: 0.79860 | Correct: 47/64\n",
            "Estimator: 007 | Epoch: 006 | Batch: 200 | Loss: 0.20997 | Correct: 61/64\n",
            "Estimator: 007 | Epoch: 006 | Batch: 300 | Loss: 0.69074 | Correct: 47/64\n",
            "Estimator: 007 | Epoch: 006 | Batch: 400 | Loss: 0.46616 | Correct: 52/64\n",
            "Estimator: 007 | Epoch: 006 | Batch: 500 | Loss: 0.29678 | Correct: 57/64\n",
            "Estimator: 007 | Epoch: 006 | Batch: 600 | Loss: 0.60632 | Correct: 52/64\n",
            "Estimator: 007 | Epoch: 006 | Batch: 700 | Loss: 0.42217 | Correct: 53/64\n",
            "Estimator: 008 | Epoch: 006 | Batch: 000 | Loss: 0.55417 | Correct: 52/64\n",
            "Estimator: 008 | Epoch: 006 | Batch: 100 | Loss: 0.60405 | Correct: 48/64\n",
            "Estimator: 008 | Epoch: 006 | Batch: 200 | Loss: 0.42281 | Correct: 53/64\n",
            "Estimator: 008 | Epoch: 006 | Batch: 300 | Loss: 0.68955 | Correct: 52/64\n",
            "Estimator: 008 | Epoch: 006 | Batch: 400 | Loss: 0.54133 | Correct: 55/64\n",
            "Estimator: 008 | Epoch: 006 | Batch: 500 | Loss: 0.42169 | Correct: 57/64\n",
            "Estimator: 008 | Epoch: 006 | Batch: 600 | Loss: 0.65581 | Correct: 51/64\n",
            "Estimator: 008 | Epoch: 006 | Batch: 700 | Loss: 0.59657 | Correct: 53/64\n",
            "Estimator: 009 | Epoch: 006 | Batch: 000 | Loss: 0.51662 | Correct: 49/64\n",
            "Estimator: 009 | Epoch: 006 | Batch: 100 | Loss: 0.45012 | Correct: 56/64\n",
            "Estimator: 009 | Epoch: 006 | Batch: 200 | Loss: 0.49562 | Correct: 53/64\n",
            "Estimator: 009 | Epoch: 006 | Batch: 300 | Loss: 0.46268 | Correct: 51/64\n",
            "Estimator: 009 | Epoch: 006 | Batch: 400 | Loss: 0.39690 | Correct: 55/64\n",
            "Estimator: 009 | Epoch: 006 | Batch: 500 | Loss: 0.73854 | Correct: 49/64\n",
            "Estimator: 009 | Epoch: 006 | Batch: 600 | Loss: 0.61418 | Correct: 48/64\n",
            "Estimator: 009 | Epoch: 006 | Batch: 700 | Loss: 0.26044 | Correct: 59/64\n",
            "Estimator: 000 | Epoch: 007 | Batch: 000 | Loss: 0.52641 | Correct: 50/64\n",
            "Estimator: 000 | Epoch: 007 | Batch: 100 | Loss: 0.28407 | Correct: 58/64\n",
            "Estimator: 000 | Epoch: 007 | Batch: 200 | Loss: 0.40008 | Correct: 56/64\n",
            "Estimator: 000 | Epoch: 007 | Batch: 300 | Loss: 0.46439 | Correct: 54/64\n",
            "Estimator: 000 | Epoch: 007 | Batch: 400 | Loss: 0.66324 | Correct: 51/64\n",
            "Estimator: 000 | Epoch: 007 | Batch: 500 | Loss: 0.42702 | Correct: 55/64\n",
            "Estimator: 000 | Epoch: 007 | Batch: 600 | Loss: 0.48702 | Correct: 55/64\n",
            "Estimator: 000 | Epoch: 007 | Batch: 700 | Loss: 0.44065 | Correct: 52/64\n",
            "Estimator: 001 | Epoch: 007 | Batch: 000 | Loss: 0.56654 | Correct: 51/64\n",
            "Estimator: 001 | Epoch: 007 | Batch: 100 | Loss: 0.65986 | Correct: 50/64\n",
            "Estimator: 001 | Epoch: 007 | Batch: 200 | Loss: 0.47796 | Correct: 55/64\n",
            "Estimator: 001 | Epoch: 007 | Batch: 300 | Loss: 0.37179 | Correct: 57/64\n",
            "Estimator: 001 | Epoch: 007 | Batch: 400 | Loss: 0.46565 | Correct: 54/64\n",
            "Estimator: 001 | Epoch: 007 | Batch: 500 | Loss: 0.34274 | Correct: 58/64\n",
            "Estimator: 001 | Epoch: 007 | Batch: 600 | Loss: 0.52627 | Correct: 50/64\n",
            "Estimator: 001 | Epoch: 007 | Batch: 700 | Loss: 0.50537 | Correct: 51/64\n",
            "Estimator: 002 | Epoch: 007 | Batch: 000 | Loss: 0.44736 | Correct: 53/64\n",
            "Estimator: 002 | Epoch: 007 | Batch: 100 | Loss: 0.57274 | Correct: 48/64\n",
            "Estimator: 002 | Epoch: 007 | Batch: 200 | Loss: 0.56116 | Correct: 53/64\n",
            "Estimator: 002 | Epoch: 007 | Batch: 300 | Loss: 0.38119 | Correct: 59/64\n",
            "Estimator: 002 | Epoch: 007 | Batch: 400 | Loss: 0.66795 | Correct: 47/64\n",
            "Estimator: 002 | Epoch: 007 | Batch: 500 | Loss: 0.29661 | Correct: 58/64\n",
            "Estimator: 002 | Epoch: 007 | Batch: 600 | Loss: 0.32241 | Correct: 58/64\n",
            "Estimator: 002 | Epoch: 007 | Batch: 700 | Loss: 0.63688 | Correct: 45/64\n",
            "Estimator: 003 | Epoch: 007 | Batch: 000 | Loss: 0.37436 | Correct: 59/64\n",
            "Estimator: 003 | Epoch: 007 | Batch: 100 | Loss: 0.55081 | Correct: 51/64\n",
            "Estimator: 003 | Epoch: 007 | Batch: 200 | Loss: 0.41794 | Correct: 55/64\n",
            "Estimator: 003 | Epoch: 007 | Batch: 300 | Loss: 0.66550 | Correct: 50/64\n",
            "Estimator: 003 | Epoch: 007 | Batch: 400 | Loss: 0.54666 | Correct: 53/64\n",
            "Estimator: 003 | Epoch: 007 | Batch: 500 | Loss: 0.52388 | Correct: 51/64\n",
            "Estimator: 003 | Epoch: 007 | Batch: 600 | Loss: 0.49789 | Correct: 53/64\n",
            "Estimator: 003 | Epoch: 007 | Batch: 700 | Loss: 0.60189 | Correct: 51/64\n",
            "Estimator: 004 | Epoch: 007 | Batch: 000 | Loss: 0.48086 | Correct: 52/64\n",
            "Estimator: 004 | Epoch: 007 | Batch: 100 | Loss: 0.60547 | Correct: 50/64\n",
            "Estimator: 004 | Epoch: 007 | Batch: 200 | Loss: 0.48159 | Correct: 52/64\n",
            "Estimator: 004 | Epoch: 007 | Batch: 300 | Loss: 0.39699 | Correct: 55/64\n",
            "Estimator: 004 | Epoch: 007 | Batch: 400 | Loss: 0.43199 | Correct: 56/64\n",
            "Estimator: 004 | Epoch: 007 | Batch: 500 | Loss: 0.37305 | Correct: 55/64\n",
            "Estimator: 004 | Epoch: 007 | Batch: 600 | Loss: 0.49919 | Correct: 55/64\n",
            "Estimator: 004 | Epoch: 007 | Batch: 700 | Loss: 0.48043 | Correct: 56/64\n",
            "Estimator: 005 | Epoch: 007 | Batch: 000 | Loss: 0.39978 | Correct: 54/64\n",
            "Estimator: 005 | Epoch: 007 | Batch: 100 | Loss: 0.55642 | Correct: 51/64\n",
            "Estimator: 005 | Epoch: 007 | Batch: 200 | Loss: 0.67984 | Correct: 49/64\n",
            "Estimator: 005 | Epoch: 007 | Batch: 300 | Loss: 0.61200 | Correct: 52/64\n",
            "Estimator: 005 | Epoch: 007 | Batch: 400 | Loss: 0.62244 | Correct: 49/64\n",
            "Estimator: 005 | Epoch: 007 | Batch: 500 | Loss: 0.41184 | Correct: 54/64\n",
            "Estimator: 005 | Epoch: 007 | Batch: 600 | Loss: 0.43758 | Correct: 53/64\n",
            "Estimator: 005 | Epoch: 007 | Batch: 700 | Loss: 0.30569 | Correct: 57/64\n",
            "Estimator: 006 | Epoch: 007 | Batch: 000 | Loss: 0.47556 | Correct: 52/64\n",
            "Estimator: 006 | Epoch: 007 | Batch: 100 | Loss: 0.48497 | Correct: 54/64\n",
            "Estimator: 006 | Epoch: 007 | Batch: 200 | Loss: 0.61199 | Correct: 47/64\n",
            "Estimator: 006 | Epoch: 007 | Batch: 300 | Loss: 0.51597 | Correct: 50/64\n",
            "Estimator: 006 | Epoch: 007 | Batch: 400 | Loss: 0.54130 | Correct: 53/64\n",
            "Estimator: 006 | Epoch: 007 | Batch: 500 | Loss: 0.42566 | Correct: 54/64\n",
            "Estimator: 006 | Epoch: 007 | Batch: 600 | Loss: 0.34007 | Correct: 57/64\n",
            "Estimator: 006 | Epoch: 007 | Batch: 700 | Loss: 0.56233 | Correct: 49/64\n",
            "Estimator: 007 | Epoch: 007 | Batch: 000 | Loss: 0.56812 | Correct: 52/64\n",
            "Estimator: 007 | Epoch: 007 | Batch: 100 | Loss: 0.45220 | Correct: 53/64\n",
            "Estimator: 007 | Epoch: 007 | Batch: 200 | Loss: 0.26248 | Correct: 59/64\n",
            "Estimator: 007 | Epoch: 007 | Batch: 300 | Loss: 0.61536 | Correct: 51/64\n",
            "Estimator: 007 | Epoch: 007 | Batch: 400 | Loss: 0.50360 | Correct: 51/64\n",
            "Estimator: 007 | Epoch: 007 | Batch: 500 | Loss: 0.43245 | Correct: 54/64\n",
            "Estimator: 007 | Epoch: 007 | Batch: 600 | Loss: 0.62137 | Correct: 50/64\n",
            "Estimator: 007 | Epoch: 007 | Batch: 700 | Loss: 0.45823 | Correct: 57/64\n",
            "Estimator: 008 | Epoch: 007 | Batch: 000 | Loss: 0.46150 | Correct: 56/64\n",
            "Estimator: 008 | Epoch: 007 | Batch: 100 | Loss: 0.50970 | Correct: 55/64\n",
            "Estimator: 008 | Epoch: 007 | Batch: 200 | Loss: 0.36879 | Correct: 54/64\n",
            "Estimator: 008 | Epoch: 007 | Batch: 300 | Loss: 0.35296 | Correct: 58/64\n",
            "Estimator: 008 | Epoch: 007 | Batch: 400 | Loss: 0.51209 | Correct: 54/64\n",
            "Estimator: 008 | Epoch: 007 | Batch: 500 | Loss: 0.41194 | Correct: 53/64\n",
            "Estimator: 008 | Epoch: 007 | Batch: 600 | Loss: 0.49122 | Correct: 53/64\n",
            "Estimator: 008 | Epoch: 007 | Batch: 700 | Loss: 0.53552 | Correct: 54/64\n",
            "Estimator: 009 | Epoch: 007 | Batch: 000 | Loss: 0.46709 | Correct: 53/64\n",
            "Estimator: 009 | Epoch: 007 | Batch: 100 | Loss: 0.43892 | Correct: 52/64\n",
            "Estimator: 009 | Epoch: 007 | Batch: 200 | Loss: 0.39174 | Correct: 56/64\n",
            "Estimator: 009 | Epoch: 007 | Batch: 300 | Loss: 0.56812 | Correct: 52/64\n",
            "Estimator: 009 | Epoch: 007 | Batch: 400 | Loss: 0.43549 | Correct: 55/64\n",
            "Estimator: 009 | Epoch: 007 | Batch: 500 | Loss: 0.52557 | Correct: 49/64\n",
            "Estimator: 009 | Epoch: 007 | Batch: 600 | Loss: 0.49058 | Correct: 52/64\n",
            "Estimator: 009 | Epoch: 007 | Batch: 700 | Loss: 0.65813 | Correct: 51/64\n",
            "Estimator: 000 | Epoch: 008 | Batch: 000 | Loss: 0.63401 | Correct: 54/64\n",
            "Estimator: 000 | Epoch: 008 | Batch: 100 | Loss: 0.21655 | Correct: 61/64\n",
            "Estimator: 000 | Epoch: 008 | Batch: 200 | Loss: 0.61436 | Correct: 51/64\n",
            "Estimator: 000 | Epoch: 008 | Batch: 300 | Loss: 0.46152 | Correct: 54/64\n",
            "Estimator: 000 | Epoch: 008 | Batch: 400 | Loss: 0.55912 | Correct: 51/64\n",
            "Estimator: 000 | Epoch: 008 | Batch: 500 | Loss: 0.47059 | Correct: 56/64\n",
            "Estimator: 000 | Epoch: 008 | Batch: 600 | Loss: 0.46234 | Correct: 54/64\n",
            "Estimator: 000 | Epoch: 008 | Batch: 700 | Loss: 0.53891 | Correct: 49/64\n",
            "Estimator: 001 | Epoch: 008 | Batch: 000 | Loss: 0.59826 | Correct: 51/64\n",
            "Estimator: 001 | Epoch: 008 | Batch: 100 | Loss: 0.46718 | Correct: 52/64\n",
            "Estimator: 001 | Epoch: 008 | Batch: 200 | Loss: 0.45439 | Correct: 56/64\n",
            "Estimator: 001 | Epoch: 008 | Batch: 300 | Loss: 0.64579 | Correct: 50/64\n",
            "Estimator: 001 | Epoch: 008 | Batch: 400 | Loss: 0.44997 | Correct: 56/64\n",
            "Estimator: 001 | Epoch: 008 | Batch: 500 | Loss: 0.53715 | Correct: 54/64\n",
            "Estimator: 001 | Epoch: 008 | Batch: 600 | Loss: 0.43815 | Correct: 54/64\n",
            "Estimator: 001 | Epoch: 008 | Batch: 700 | Loss: 0.48882 | Correct: 55/64\n",
            "Estimator: 002 | Epoch: 008 | Batch: 000 | Loss: 0.54240 | Correct: 54/64\n",
            "Estimator: 002 | Epoch: 008 | Batch: 100 | Loss: 0.50493 | Correct: 53/64\n",
            "Estimator: 002 | Epoch: 008 | Batch: 200 | Loss: 0.37188 | Correct: 54/64\n",
            "Estimator: 002 | Epoch: 008 | Batch: 300 | Loss: 0.28335 | Correct: 58/64\n",
            "Estimator: 002 | Epoch: 008 | Batch: 400 | Loss: 0.49087 | Correct: 49/64\n",
            "Estimator: 002 | Epoch: 008 | Batch: 500 | Loss: 0.64832 | Correct: 48/64\n",
            "Estimator: 002 | Epoch: 008 | Batch: 600 | Loss: 0.68949 | Correct: 50/64\n",
            "Estimator: 002 | Epoch: 008 | Batch: 700 | Loss: 0.39772 | Correct: 54/64\n",
            "Estimator: 003 | Epoch: 008 | Batch: 000 | Loss: 0.55459 | Correct: 50/64\n",
            "Estimator: 003 | Epoch: 008 | Batch: 100 | Loss: 0.42918 | Correct: 55/64\n",
            "Estimator: 003 | Epoch: 008 | Batch: 200 | Loss: 0.34960 | Correct: 55/64\n",
            "Estimator: 003 | Epoch: 008 | Batch: 300 | Loss: 0.40650 | Correct: 57/64\n",
            "Estimator: 003 | Epoch: 008 | Batch: 400 | Loss: 0.56650 | Correct: 54/64\n",
            "Estimator: 003 | Epoch: 008 | Batch: 500 | Loss: 0.66466 | Correct: 54/64\n",
            "Estimator: 003 | Epoch: 008 | Batch: 600 | Loss: 0.28274 | Correct: 59/64\n",
            "Estimator: 003 | Epoch: 008 | Batch: 700 | Loss: 0.54175 | Correct: 50/64\n",
            "Estimator: 004 | Epoch: 008 | Batch: 000 | Loss: 0.68822 | Correct: 46/64\n",
            "Estimator: 004 | Epoch: 008 | Batch: 100 | Loss: 0.41029 | Correct: 54/64\n",
            "Estimator: 004 | Epoch: 008 | Batch: 200 | Loss: 0.57310 | Correct: 50/64\n",
            "Estimator: 004 | Epoch: 008 | Batch: 300 | Loss: 0.47784 | Correct: 54/64\n",
            "Estimator: 004 | Epoch: 008 | Batch: 400 | Loss: 0.44403 | Correct: 56/64\n",
            "Estimator: 004 | Epoch: 008 | Batch: 500 | Loss: 0.50452 | Correct: 55/64\n",
            "Estimator: 004 | Epoch: 008 | Batch: 600 | Loss: 0.52888 | Correct: 51/64\n",
            "Estimator: 004 | Epoch: 008 | Batch: 700 | Loss: 0.52293 | Correct: 52/64\n",
            "Estimator: 005 | Epoch: 008 | Batch: 000 | Loss: 0.36121 | Correct: 54/64\n",
            "Estimator: 005 | Epoch: 008 | Batch: 100 | Loss: 0.35708 | Correct: 55/64\n",
            "Estimator: 005 | Epoch: 008 | Batch: 200 | Loss: 0.40103 | Correct: 55/64\n",
            "Estimator: 005 | Epoch: 008 | Batch: 300 | Loss: 0.56986 | Correct: 52/64\n",
            "Estimator: 005 | Epoch: 008 | Batch: 400 | Loss: 0.46849 | Correct: 55/64\n",
            "Estimator: 005 | Epoch: 008 | Batch: 500 | Loss: 0.51244 | Correct: 56/64\n",
            "Estimator: 005 | Epoch: 008 | Batch: 600 | Loss: 0.61748 | Correct: 48/64\n",
            "Estimator: 005 | Epoch: 008 | Batch: 700 | Loss: 0.51823 | Correct: 54/64\n",
            "Estimator: 006 | Epoch: 008 | Batch: 000 | Loss: 0.36431 | Correct: 57/64\n",
            "Estimator: 006 | Epoch: 008 | Batch: 100 | Loss: 0.45011 | Correct: 56/64\n",
            "Estimator: 006 | Epoch: 008 | Batch: 200 | Loss: 0.26519 | Correct: 57/64\n",
            "Estimator: 006 | Epoch: 008 | Batch: 300 | Loss: 0.53532 | Correct: 51/64\n",
            "Estimator: 006 | Epoch: 008 | Batch: 400 | Loss: 0.35449 | Correct: 55/64\n",
            "Estimator: 006 | Epoch: 008 | Batch: 500 | Loss: 0.35426 | Correct: 57/64\n",
            "Estimator: 006 | Epoch: 008 | Batch: 600 | Loss: 0.64741 | Correct: 48/64\n",
            "Estimator: 006 | Epoch: 008 | Batch: 700 | Loss: 0.48019 | Correct: 53/64\n",
            "Estimator: 007 | Epoch: 008 | Batch: 000 | Loss: 0.32141 | Correct: 55/64\n",
            "Estimator: 007 | Epoch: 008 | Batch: 100 | Loss: 0.58145 | Correct: 53/64\n",
            "Estimator: 007 | Epoch: 008 | Batch: 200 | Loss: 0.36785 | Correct: 55/64\n",
            "Estimator: 007 | Epoch: 008 | Batch: 300 | Loss: 0.49153 | Correct: 53/64\n",
            "Estimator: 007 | Epoch: 008 | Batch: 400 | Loss: 0.44770 | Correct: 51/64\n",
            "Estimator: 007 | Epoch: 008 | Batch: 500 | Loss: 0.54563 | Correct: 50/64\n",
            "Estimator: 007 | Epoch: 008 | Batch: 600 | Loss: 0.38800 | Correct: 53/64\n",
            "Estimator: 007 | Epoch: 008 | Batch: 700 | Loss: 0.48016 | Correct: 53/64\n",
            "Estimator: 008 | Epoch: 008 | Batch: 000 | Loss: 0.53576 | Correct: 53/64\n",
            "Estimator: 008 | Epoch: 008 | Batch: 100 | Loss: 0.43517 | Correct: 55/64\n",
            "Estimator: 008 | Epoch: 008 | Batch: 200 | Loss: 0.47641 | Correct: 53/64\n",
            "Estimator: 008 | Epoch: 008 | Batch: 300 | Loss: 0.80993 | Correct: 45/64\n",
            "Estimator: 008 | Epoch: 008 | Batch: 400 | Loss: 0.35935 | Correct: 52/64\n",
            "Estimator: 008 | Epoch: 008 | Batch: 500 | Loss: 0.54087 | Correct: 53/64\n",
            "Estimator: 008 | Epoch: 008 | Batch: 600 | Loss: 0.39238 | Correct: 53/64\n",
            "Estimator: 008 | Epoch: 008 | Batch: 700 | Loss: 0.38698 | Correct: 57/64\n",
            "Estimator: 009 | Epoch: 008 | Batch: 000 | Loss: 0.40050 | Correct: 53/64\n",
            "Estimator: 009 | Epoch: 008 | Batch: 100 | Loss: 0.54463 | Correct: 49/64\n",
            "Estimator: 009 | Epoch: 008 | Batch: 200 | Loss: 0.44470 | Correct: 52/64\n",
            "Estimator: 009 | Epoch: 008 | Batch: 300 | Loss: 0.42390 | Correct: 54/64\n",
            "Estimator: 009 | Epoch: 008 | Batch: 400 | Loss: 0.34649 | Correct: 56/64\n",
            "Estimator: 009 | Epoch: 008 | Batch: 500 | Loss: 0.35677 | Correct: 57/64\n",
            "Estimator: 009 | Epoch: 008 | Batch: 600 | Loss: 0.50921 | Correct: 51/64\n",
            "Estimator: 009 | Epoch: 008 | Batch: 700 | Loss: 0.42575 | Correct: 55/64\n",
            "Estimator: 000 | Epoch: 009 | Batch: 000 | Loss: 0.46209 | Correct: 55/64\n",
            "Estimator: 000 | Epoch: 009 | Batch: 100 | Loss: 0.39576 | Correct: 55/64\n",
            "Estimator: 000 | Epoch: 009 | Batch: 200 | Loss: 0.50042 | Correct: 53/64\n",
            "Estimator: 000 | Epoch: 009 | Batch: 300 | Loss: 0.36189 | Correct: 57/64\n",
            "Estimator: 000 | Epoch: 009 | Batch: 400 | Loss: 0.62017 | Correct: 48/64\n",
            "Estimator: 000 | Epoch: 009 | Batch: 500 | Loss: 0.59925 | Correct: 50/64\n",
            "Estimator: 000 | Epoch: 009 | Batch: 600 | Loss: 0.46066 | Correct: 55/64\n",
            "Estimator: 000 | Epoch: 009 | Batch: 700 | Loss: 0.36656 | Correct: 56/64\n",
            "Estimator: 001 | Epoch: 009 | Batch: 000 | Loss: 0.19273 | Correct: 60/64\n",
            "Estimator: 001 | Epoch: 009 | Batch: 100 | Loss: 0.52053 | Correct: 52/64\n",
            "Estimator: 001 | Epoch: 009 | Batch: 200 | Loss: 0.41677 | Correct: 57/64\n",
            "Estimator: 001 | Epoch: 009 | Batch: 300 | Loss: 0.47582 | Correct: 55/64\n",
            "Estimator: 001 | Epoch: 009 | Batch: 400 | Loss: 0.42833 | Correct: 52/64\n",
            "Estimator: 001 | Epoch: 009 | Batch: 500 | Loss: 0.40796 | Correct: 54/64\n",
            "Estimator: 001 | Epoch: 009 | Batch: 600 | Loss: 0.43272 | Correct: 54/64\n",
            "Estimator: 001 | Epoch: 009 | Batch: 700 | Loss: 0.64534 | Correct: 51/64\n",
            "Estimator: 002 | Epoch: 009 | Batch: 000 | Loss: 0.36517 | Correct: 57/64\n",
            "Estimator: 002 | Epoch: 009 | Batch: 100 | Loss: 0.64681 | Correct: 50/64\n",
            "Estimator: 002 | Epoch: 009 | Batch: 200 | Loss: 0.30916 | Correct: 57/64\n",
            "Estimator: 002 | Epoch: 009 | Batch: 300 | Loss: 0.63211 | Correct: 51/64\n",
            "Estimator: 002 | Epoch: 009 | Batch: 400 | Loss: 0.59426 | Correct: 53/64\n",
            "Estimator: 002 | Epoch: 009 | Batch: 500 | Loss: 0.51171 | Correct: 53/64\n",
            "Estimator: 002 | Epoch: 009 | Batch: 600 | Loss: 0.45881 | Correct: 55/64\n",
            "Estimator: 002 | Epoch: 009 | Batch: 700 | Loss: 0.52453 | Correct: 54/64\n",
            "Estimator: 003 | Epoch: 009 | Batch: 000 | Loss: 0.48759 | Correct: 53/64\n",
            "Estimator: 003 | Epoch: 009 | Batch: 100 | Loss: 0.55196 | Correct: 53/64\n",
            "Estimator: 003 | Epoch: 009 | Batch: 200 | Loss: 0.40490 | Correct: 56/64\n",
            "Estimator: 003 | Epoch: 009 | Batch: 300 | Loss: 0.42390 | Correct: 57/64\n",
            "Estimator: 003 | Epoch: 009 | Batch: 400 | Loss: 0.46328 | Correct: 52/64\n",
            "Estimator: 003 | Epoch: 009 | Batch: 500 | Loss: 0.39880 | Correct: 53/64\n",
            "Estimator: 003 | Epoch: 009 | Batch: 600 | Loss: 0.42293 | Correct: 54/64\n",
            "Estimator: 003 | Epoch: 009 | Batch: 700 | Loss: 0.47338 | Correct: 53/64\n",
            "Estimator: 004 | Epoch: 009 | Batch: 000 | Loss: 0.41435 | Correct: 55/64\n",
            "Estimator: 004 | Epoch: 009 | Batch: 100 | Loss: 0.57222 | Correct: 53/64\n",
            "Estimator: 004 | Epoch: 009 | Batch: 200 | Loss: 0.46464 | Correct: 54/64\n",
            "Estimator: 004 | Epoch: 009 | Batch: 300 | Loss: 0.30486 | Correct: 59/64\n",
            "Estimator: 004 | Epoch: 009 | Batch: 400 | Loss: 0.43473 | Correct: 53/64\n",
            "Estimator: 004 | Epoch: 009 | Batch: 500 | Loss: 0.40963 | Correct: 54/64\n",
            "Estimator: 004 | Epoch: 009 | Batch: 600 | Loss: 0.69545 | Correct: 48/64\n",
            "Estimator: 004 | Epoch: 009 | Batch: 700 | Loss: 0.41640 | Correct: 54/64\n",
            "Estimator: 005 | Epoch: 009 | Batch: 000 | Loss: 0.41565 | Correct: 55/64\n",
            "Estimator: 005 | Epoch: 009 | Batch: 100 | Loss: 0.58208 | Correct: 51/64\n",
            "Estimator: 005 | Epoch: 009 | Batch: 200 | Loss: 0.70425 | Correct: 51/64\n",
            "Estimator: 005 | Epoch: 009 | Batch: 300 | Loss: 0.46463 | Correct: 54/64\n",
            "Estimator: 005 | Epoch: 009 | Batch: 400 | Loss: 0.47375 | Correct: 54/64\n",
            "Estimator: 005 | Epoch: 009 | Batch: 500 | Loss: 0.31690 | Correct: 60/64\n",
            "Estimator: 005 | Epoch: 009 | Batch: 600 | Loss: 0.46814 | Correct: 51/64\n",
            "Estimator: 005 | Epoch: 009 | Batch: 700 | Loss: 0.41049 | Correct: 50/64\n",
            "Estimator: 006 | Epoch: 009 | Batch: 000 | Loss: 0.30236 | Correct: 57/64\n",
            "Estimator: 006 | Epoch: 009 | Batch: 100 | Loss: 0.45439 | Correct: 54/64\n",
            "Estimator: 006 | Epoch: 009 | Batch: 200 | Loss: 0.41887 | Correct: 55/64\n",
            "Estimator: 006 | Epoch: 009 | Batch: 300 | Loss: 0.77484 | Correct: 48/64\n",
            "Estimator: 006 | Epoch: 009 | Batch: 400 | Loss: 0.40291 | Correct: 55/64\n",
            "Estimator: 006 | Epoch: 009 | Batch: 500 | Loss: 0.44907 | Correct: 55/64\n",
            "Estimator: 006 | Epoch: 009 | Batch: 600 | Loss: 0.47038 | Correct: 55/64\n",
            "Estimator: 006 | Epoch: 009 | Batch: 700 | Loss: 0.50204 | Correct: 54/64\n",
            "Estimator: 007 | Epoch: 009 | Batch: 000 | Loss: 0.45969 | Correct: 53/64\n",
            "Estimator: 007 | Epoch: 009 | Batch: 100 | Loss: 0.49016 | Correct: 52/64\n",
            "Estimator: 007 | Epoch: 009 | Batch: 200 | Loss: 0.31073 | Correct: 59/64\n",
            "Estimator: 007 | Epoch: 009 | Batch: 300 | Loss: 0.55536 | Correct: 49/64\n",
            "Estimator: 007 | Epoch: 009 | Batch: 400 | Loss: 0.49457 | Correct: 53/64\n",
            "Estimator: 007 | Epoch: 009 | Batch: 500 | Loss: 0.63147 | Correct: 48/64\n",
            "Estimator: 007 | Epoch: 009 | Batch: 600 | Loss: 0.44511 | Correct: 56/64\n",
            "Estimator: 007 | Epoch: 009 | Batch: 700 | Loss: 0.46259 | Correct: 53/64\n",
            "Estimator: 008 | Epoch: 009 | Batch: 000 | Loss: 0.54155 | Correct: 55/64\n",
            "Estimator: 008 | Epoch: 009 | Batch: 100 | Loss: 0.43855 | Correct: 52/64\n",
            "Estimator: 008 | Epoch: 009 | Batch: 200 | Loss: 0.45614 | Correct: 53/64\n",
            "Estimator: 008 | Epoch: 009 | Batch: 300 | Loss: 0.48838 | Correct: 52/64\n",
            "Estimator: 008 | Epoch: 009 | Batch: 400 | Loss: 0.39577 | Correct: 55/64\n",
            "Estimator: 008 | Epoch: 009 | Batch: 500 | Loss: 0.44397 | Correct: 53/64\n",
            "Estimator: 008 | Epoch: 009 | Batch: 600 | Loss: 0.47170 | Correct: 52/64\n",
            "Estimator: 008 | Epoch: 009 | Batch: 700 | Loss: 0.38733 | Correct: 55/64\n",
            "Estimator: 009 | Epoch: 009 | Batch: 000 | Loss: 0.40796 | Correct: 55/64\n",
            "Estimator: 009 | Epoch: 009 | Batch: 100 | Loss: 0.42044 | Correct: 53/64\n",
            "Estimator: 009 | Epoch: 009 | Batch: 200 | Loss: 0.33475 | Correct: 57/64\n",
            "Estimator: 009 | Epoch: 009 | Batch: 300 | Loss: 0.53487 | Correct: 51/64\n",
            "Estimator: 009 | Epoch: 009 | Batch: 400 | Loss: 0.41921 | Correct: 53/64\n",
            "Estimator: 009 | Epoch: 009 | Batch: 500 | Loss: 0.48324 | Correct: 55/64\n",
            "Estimator: 009 | Epoch: 009 | Batch: 600 | Loss: 0.40337 | Correct: 54/64\n",
            "Estimator: 009 | Epoch: 009 | Batch: 700 | Loss: 0.67399 | Correct: 51/64\n"
          ],
          "name": "stdout"
        }
      ]
    },
    {
      "cell_type": "code",
      "metadata": {
        "colab": {
          "base_uri": "https://localhost:8080/"
        },
        "id": "6kReRrOvlMkd",
        "outputId": "ce55dd38-d56b-4223-9a34-ba469fcb2229"
      },
      "source": [
        "# Evaluate\n",
        "acc = model_te2.predict(testloader)\n",
        "print(acc)  "
      ],
      "execution_count": null,
      "outputs": [
        {
          "output_type": "stream",
          "text": [
            "83.73\n"
          ],
          "name": "stdout"
        }
      ]
    },
    {
      "cell_type": "markdown",
      "metadata": {
        "id": "MIhQxJPQO6p8"
      },
      "source": [
        "# Visualisation"
      ]
    },
    {
      "cell_type": "code",
      "metadata": {
        "id": "xu4ExkpbdzQm"
      },
      "source": [
        "def visualize_model(model, dataloaders_dict, num_images=6):\n",
        "    was_training = model.training\n",
        "    model.eval()\n",
        "    images_so_far = 0\n",
        "    fig = plt.figure()\n",
        "\n",
        "    with torch.no_grad():\n",
        "        for i, (inputs, labels) in enumerate(dataloaders_dict['val']):\n",
        "            inputs = inputs.to(device)\n",
        "            labels = labels.to(device)\n",
        "\n",
        "            outputs = model(inputs)\n",
        "            _, preds = torch.max(outputs, 1)\n",
        "\n",
        "            for j in range(inputs.size()[0]):\n",
        "                images_so_far += 1\n",
        "                ax = plt.subplot(num_images//2, 2, images_so_far)\n",
        "                ax.axis('off')\n",
        "                ax.set_title('predicted: {}'.format(classes[preds[j]]))\n",
        "                imshow(inputs.cpu().data[j])\n",
        "\n",
        "                if images_so_far == num_images:\n",
        "                    model.train(mode=was_training)\n",
        "                    return\n",
        "        model.train(mode=was_training)"
      ],
      "execution_count": null,
      "outputs": []
    },
    {
      "cell_type": "code",
      "metadata": {
        "colab": {
          "base_uri": "https://localhost:8080/",
          "height": 581
        },
        "id": "D-cVU9DEeLVx",
        "outputId": "29548957-2c57-4a87-815c-1ae20cf9ac67"
      },
      "source": [
        "visualize_model(model_fn_vgg, dataloaders_dict)"
      ],
      "execution_count": null,
      "outputs": [
        {
          "output_type": "display_data",
          "data": {
            "image/png": "[encoded data removed]",
            "text/plain": [
              "<Figure size 432x288 with 1 Axes>"
            ]
          },
          "metadata": {
            "tags": []
          }
        },
        {
          "output_type": "display_data",
          "data": {
            "image/png": "[encoded data removed]",
            "text/plain": [
              "<Figure size 432x288 with 1 Axes>"
            ]
          },
          "metadata": {
            "tags": []
          }
        },
        {
          "output_type": "display_data",
          "data": {
            "image/png": "[encoded data removed]",
            "text/plain": [
              "<Figure size 432x288 with 1 Axes>"
            ]
          },
          "metadata": {
            "tags": []
          }
        },
        {
          "output_type": "display_data",
          "data": {
            "image/png": "[encoded data removed]",
            "text/plain": [
              "<Figure size 432x288 with 1 Axes>"
            ]
          },
          "metadata": {
            "tags": []
          }
        },
        {
          "output_type": "display_data",
          "data": {
            "image/png": "[encoded data removed]",
            "text/plain": [
              "<Figure size 432x288 with 1 Axes>"
            ]
          },
          "metadata": {
            "tags": []
          }
        },
        {
          "output_type": "display_data",
          "data": {
            "image/png": "[encoded data removed]",
            "text/plain": [
              "<Figure size 432x288 with 1 Axes>"
            ]
          },
          "metadata": {
            "tags": []
          }
        }
      ]
    },
    {
      "cell_type": "markdown",
      "metadata": {
        "id": "nK84VYUsO-wA"
      },
      "source": [
        "# Final results"
      ]
    },
    {
      "cell_type": "code",
      "metadata": {
        "colab": {
          "base_uri": "https://localhost:8080/",
          "height": 429
        },
        "id": "uvPZ4kpjilyN",
        "outputId": "657bcead-5213-421d-ff1f-6c68e8bd87af"
      },
      "source": [
        "plt.figure(figsize=(12, 6), dpi=80)\n",
        "names = ['Simple net', 'Alexnet finetuned', 'EN finetuned', 'RN finetuned', 'EN finetuned + augmented',\n",
        "         'RN finetuned + augmented', 'EN finetuned + augmented + ensambled',\n",
        "         'RN finetuned + augmented + ensambled']\n",
        "vals = [60.05, 80.99, 94.85, 95.63, 95.45, 94.97, 95.96, 95.74]\n",
        "plt.barh(names,vals)\n",
        "plt.title('Final accuracy of trained networks')\n",
        "for index, value in enumerate(vals):\n",
        "    plt.text(value, index, str(value))\n",
        "plt.xlim((59,98))\n",
        "plt.show()"
      ],
      "execution_count": null,
      "outputs": [
        {
          "output_type": "display_data",
          "data": {
            "image/png": "[encoded data removed]",
            "text/plain": [
              "<Figure size 960x480 with 1 Axes>"
            ]
          },
          "metadata": {
            "tags": []
          }
        }
      ]
    }
  ]
}